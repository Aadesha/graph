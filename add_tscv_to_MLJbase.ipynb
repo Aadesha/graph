{
  "nbformat": 4,
  "nbformat_minor": 0,
  "metadata": {
    "kernelspec": {
      "display_name": "Julia 1.4.0",
      "language": "julia",
      "name": "julia-1.4"
    },
    "language_info": {
      "file_extension": ".jl",
      "mimetype": "application/julia",
      "name": "julia",
      "version": "1.4.0"
    },
    "colab": {
      "name": "add_tscv_to_MLJbase.ipynb",
      "provenance": [],
      "include_colab_link": true
    }
  },
  "cells": [
    {
      "cell_type": "markdown",
      "metadata": {
        "id": "view-in-github",
        "colab_type": "text"
      },
      "source": [
        "<a href=\"https://colab.research.google.com/github/aa25desh/graph/blob/master/add_tscv_to_MLJbase.ipynb\" target=\"_parent\"><img src=\"https://colab.research.google.com/assets/colab-badge.svg\" alt=\"Open In Colab\"/></a>"
      ]
    },
    {
      "cell_type": "code",
      "metadata": {
        "id": "mAkGW9lHKVRm",
        "colab_type": "code",
        "colab": {}
      },
      "source": [
        "#=\n",
        "using Revise, MLJ, DataFrames\n",
        "using MLJBase: load_sunspot\n",
        "@load LinearRegressor pkg=MLJLinearModels\n",
        "sunspot = load_sunspot()\n",
        "sunspot = sunspot.MMTSN\n",
        "p_order = 5\n",
        "data = []\n",
        "for i in range(1, stop = p_order)\n",
        "    push!(data, sunspot[i:length(sunspot)-p_order+i])\n",
        "end\n",
        "df = DataFrame(data)\n",
        "X = df[:, Not(end)]\n",
        "y = df[!, end]\n",
        "mdl = LinearRegressor()\n",
        "tscv = tsCV(5)\n",
        "mach = machine(mdl, X, y)\n",
        "evaluate!(mach,\n",
        "          resampling=tscv,\n",
        "          measure=[l1, rms, rmslp1], verbosity=0)\n",
        "=#"
      ],
      "execution_count": 0,
      "outputs": []
    },
    {
      "cell_type": "code",
      "metadata": {
        "id": "AkKljdiBKVR5",
        "colab_type": "code",
        "colab": {},
        "outputId": "353449d7-db5a-4c27-9419-234cda8922fe"
      },
      "source": [
        "using Revise, MLJ, DataFrames\n",
        "using MLJBase: load_sunspot\n",
        "@load LinearRegressor pkg=MLJLinearModels\n",
        "sunspot = load_sunspot()\n",
        "sunspot = sunspot.MMTSN"
      ],
      "execution_count": 0,
      "outputs": [
        {
          "output_type": "stream",
          "text": [
            "┌ Info: A model type \"LinearRegressor\" is already loaded. \n",
            "│ No new code loaded. \n",
            "└ @ MLJModels /Users/aa25desh/.julia/dev/MLJModels/src/loading.jl:43\n"
          ],
          "name": "stderr"
        },
        {
          "output_type": "execute_result",
          "data": {
            "text/plain": [
              "3252-element Array{Float64,1}:\n",
              "  96.7\n",
              " 104.3\n",
              " 116.7\n",
              "  92.8\n",
              " 141.7\n",
              " 139.2\n",
              " 158.0\n",
              " 110.5\n",
              " 126.5\n",
              " 125.8\n",
              " 264.3\n",
              " 142.0\n",
              " 122.2\n",
              "   ⋮\n",
              "   7.7\n",
              "   0.8\n",
              "   9.4\n",
              "   9.1\n",
              "   9.9\n",
              "   1.2\n",
              "   0.9\n",
              "   0.5\n",
              "   1.1\n",
              "   0.4\n",
              "   0.5\n",
              "   1.6"
            ]
          },
          "metadata": {
            "tags": []
          },
          "execution_count": 15
        }
      ]
    },
    {
      "cell_type": "code",
      "metadata": {
        "id": "h5ia8r5vKVSM",
        "colab_type": "code",
        "colab": {},
        "outputId": "5c88673e-45e8-489d-d293-03ea9a3da139"
      },
      "source": [
        "p_order = 5\n",
        "data = []\n",
        "for i in range(1, stop = p_order)\n",
        "    push!(data, sunspot[i:length(sunspot)-p_order+i])\n",
        "end\n",
        "df = DataFrame(data)"
      ],
      "execution_count": 0,
      "outputs": [
        {
          "output_type": "execute_result",
          "data": {
            "text/html": [
              "<table class=\"data-frame\"><thead><tr><th></th><th>x1</th><th>x2</th><th>x3</th><th>x4</th><th>x5</th></tr><tr><th></th><th>Float64</th><th>Float64</th><th>Float64</th><th>Float64</th><th>Float64</th></tr></thead><tbody><p>3,248 rows × 5 columns</p><tr><th>1</th><td>96.7</td><td>104.3</td><td>116.7</td><td>92.8</td><td>141.7</td></tr><tr><th>2</th><td>104.3</td><td>116.7</td><td>92.8</td><td>141.7</td><td>139.2</td></tr><tr><th>3</th><td>116.7</td><td>92.8</td><td>141.7</td><td>139.2</td><td>158.0</td></tr><tr><th>4</th><td>92.8</td><td>141.7</td><td>139.2</td><td>158.0</td><td>110.5</td></tr><tr><th>5</th><td>141.7</td><td>139.2</td><td>158.0</td><td>110.5</td><td>126.5</td></tr><tr><th>6</th><td>139.2</td><td>158.0</td><td>110.5</td><td>126.5</td><td>125.8</td></tr><tr><th>7</th><td>158.0</td><td>110.5</td><td>126.5</td><td>125.8</td><td>264.3</td></tr><tr><th>8</th><td>110.5</td><td>126.5</td><td>125.8</td><td>264.3</td><td>142.0</td></tr><tr><th>9</th><td>126.5</td><td>125.8</td><td>264.3</td><td>142.0</td><td>122.2</td></tr><tr><th>10</th><td>125.8</td><td>264.3</td><td>142.0</td><td>122.2</td><td>126.5</td></tr><tr><th>11</th><td>264.3</td><td>142.0</td><td>122.2</td><td>126.5</td><td>148.7</td></tr><tr><th>12</th><td>142.0</td><td>122.2</td><td>126.5</td><td>148.7</td><td>147.2</td></tr><tr><th>13</th><td>122.2</td><td>126.5</td><td>148.7</td><td>147.2</td><td>150.0</td></tr><tr><th>14</th><td>126.5</td><td>148.7</td><td>147.2</td><td>150.0</td><td>166.7</td></tr><tr><th>15</th><td>148.7</td><td>147.2</td><td>150.0</td><td>166.7</td><td>142.3</td></tr><tr><th>16</th><td>147.2</td><td>150.0</td><td>166.7</td><td>142.3</td><td>171.7</td></tr><tr><th>17</th><td>150.0</td><td>166.7</td><td>142.3</td><td>171.7</td><td>152.0</td></tr><tr><th>18</th><td>166.7</td><td>142.3</td><td>171.7</td><td>152.0</td><td>109.5</td></tr><tr><th>19</th><td>142.3</td><td>171.7</td><td>152.0</td><td>109.5</td><td>105.5</td></tr><tr><th>20</th><td>171.7</td><td>152.0</td><td>109.5</td><td>105.5</td><td>125.7</td></tr><tr><th>21</th><td>152.0</td><td>109.5</td><td>105.5</td><td>125.7</td><td>116.7</td></tr><tr><th>22</th><td>109.5</td><td>105.5</td><td>125.7</td><td>116.7</td><td>72.5</td></tr><tr><th>23</th><td>105.5</td><td>125.7</td><td>116.7</td><td>72.5</td><td>75.5</td></tr><tr><th>24</th><td>125.7</td><td>116.7</td><td>72.5</td><td>75.5</td><td>94.0</td></tr><tr><th>25</th><td>116.7</td><td>72.5</td><td>75.5</td><td>94.0</td><td>101.2</td></tr><tr><th>26</th><td>72.5</td><td>75.5</td><td>94.0</td><td>101.2</td><td>84.5</td></tr><tr><th>27</th><td>75.5</td><td>94.0</td><td>101.2</td><td>84.5</td><td>110.5</td></tr><tr><th>28</th><td>94.0</td><td>101.2</td><td>84.5</td><td>110.5</td><td>99.7</td></tr><tr><th>29</th><td>101.2</td><td>84.5</td><td>110.5</td><td>99.7</td><td>39.2</td></tr><tr><th>30</th><td>84.5</td><td>110.5</td><td>99.7</td><td>39.2</td><td>38.7</td></tr><tr><th>&vellip;</th><td>&vellip;</td><td>&vellip;</td><td>&vellip;</td><td>&vellip;</td><td>&vellip;</td></tr></tbody></table>"
            ],
            "text/latex": "\\begin{tabular}{r|ccccc}\n\t& x1 & x2 & x3 & x4 & x5\\\\\n\t\\hline\n\t& Float64 & Float64 & Float64 & Float64 & Float64\\\\\n\t\\hline\n\t1 & 96.7 & 104.3 & 116.7 & 92.8 & 141.7 \\\\\n\t2 & 104.3 & 116.7 & 92.8 & 141.7 & 139.2 \\\\\n\t3 & 116.7 & 92.8 & 141.7 & 139.2 & 158.0 \\\\\n\t4 & 92.8 & 141.7 & 139.2 & 158.0 & 110.5 \\\\\n\t5 & 141.7 & 139.2 & 158.0 & 110.5 & 126.5 \\\\\n\t6 & 139.2 & 158.0 & 110.5 & 126.5 & 125.8 \\\\\n\t7 & 158.0 & 110.5 & 126.5 & 125.8 & 264.3 \\\\\n\t8 & 110.5 & 126.5 & 125.8 & 264.3 & 142.0 \\\\\n\t9 & 126.5 & 125.8 & 264.3 & 142.0 & 122.2 \\\\\n\t10 & 125.8 & 264.3 & 142.0 & 122.2 & 126.5 \\\\\n\t11 & 264.3 & 142.0 & 122.2 & 126.5 & 148.7 \\\\\n\t12 & 142.0 & 122.2 & 126.5 & 148.7 & 147.2 \\\\\n\t13 & 122.2 & 126.5 & 148.7 & 147.2 & 150.0 \\\\\n\t14 & 126.5 & 148.7 & 147.2 & 150.0 & 166.7 \\\\\n\t15 & 148.7 & 147.2 & 150.0 & 166.7 & 142.3 \\\\\n\t16 & 147.2 & 150.0 & 166.7 & 142.3 & 171.7 \\\\\n\t17 & 150.0 & 166.7 & 142.3 & 171.7 & 152.0 \\\\\n\t18 & 166.7 & 142.3 & 171.7 & 152.0 & 109.5 \\\\\n\t19 & 142.3 & 171.7 & 152.0 & 109.5 & 105.5 \\\\\n\t20 & 171.7 & 152.0 & 109.5 & 105.5 & 125.7 \\\\\n\t21 & 152.0 & 109.5 & 105.5 & 125.7 & 116.7 \\\\\n\t22 & 109.5 & 105.5 & 125.7 & 116.7 & 72.5 \\\\\n\t23 & 105.5 & 125.7 & 116.7 & 72.5 & 75.5 \\\\\n\t24 & 125.7 & 116.7 & 72.5 & 75.5 & 94.0 \\\\\n\t25 & 116.7 & 72.5 & 75.5 & 94.0 & 101.2 \\\\\n\t26 & 72.5 & 75.5 & 94.0 & 101.2 & 84.5 \\\\\n\t27 & 75.5 & 94.0 & 101.2 & 84.5 & 110.5 \\\\\n\t28 & 94.0 & 101.2 & 84.5 & 110.5 & 99.7 \\\\\n\t29 & 101.2 & 84.5 & 110.5 & 99.7 & 39.2 \\\\\n\t30 & 84.5 & 110.5 & 99.7 & 39.2 & 38.7 \\\\\n\t$\\dots$ & $\\dots$ & $\\dots$ & $\\dots$ & $\\dots$ & $\\dots$ \\\\\n\\end{tabular}\n",
            "text/plain": [
              "3248×5 DataFrame\n",
              "│ Row  │ x1      │ x2      │ x3      │ x4      │ x5      │\n",
              "│      │ \u001b[90mFloat64\u001b[39m │ \u001b[90mFloat64\u001b[39m │ \u001b[90mFloat64\u001b[39m │ \u001b[90mFloat64\u001b[39m │ \u001b[90mFloat64\u001b[39m │\n",
              "├──────┼─────────┼─────────┼─────────┼─────────┼─────────┤\n",
              "│ 1    │ 96.7    │ 104.3   │ 116.7   │ 92.8    │ 141.7   │\n",
              "│ 2    │ 104.3   │ 116.7   │ 92.8    │ 141.7   │ 139.2   │\n",
              "│ 3    │ 116.7   │ 92.8    │ 141.7   │ 139.2   │ 158.0   │\n",
              "│ 4    │ 92.8    │ 141.7   │ 139.2   │ 158.0   │ 110.5   │\n",
              "│ 5    │ 141.7   │ 139.2   │ 158.0   │ 110.5   │ 126.5   │\n",
              "│ 6    │ 139.2   │ 158.0   │ 110.5   │ 126.5   │ 125.8   │\n",
              "│ 7    │ 158.0   │ 110.5   │ 126.5   │ 125.8   │ 264.3   │\n",
              "│ 8    │ 110.5   │ 126.5   │ 125.8   │ 264.3   │ 142.0   │\n",
              "│ 9    │ 126.5   │ 125.8   │ 264.3   │ 142.0   │ 122.2   │\n",
              "│ 10   │ 125.8   │ 264.3   │ 142.0   │ 122.2   │ 126.5   │\n",
              "⋮\n",
              "│ 3238 │ 4.9     │ 4.9     │ 3.1     │ 7.7     │ 0.8     │\n",
              "│ 3239 │ 4.9     │ 3.1     │ 7.7     │ 0.8     │ 9.4     │\n",
              "│ 3240 │ 3.1     │ 7.7     │ 0.8     │ 9.4     │ 9.1     │\n",
              "│ 3241 │ 7.7     │ 0.8     │ 9.4     │ 9.1     │ 9.9     │\n",
              "│ 3242 │ 0.8     │ 9.4     │ 9.1     │ 9.9     │ 1.2     │\n",
              "│ 3243 │ 9.4     │ 9.1     │ 9.9     │ 1.2     │ 0.9     │\n",
              "│ 3244 │ 9.1     │ 9.9     │ 1.2     │ 0.9     │ 0.5     │\n",
              "│ 3245 │ 9.9     │ 1.2     │ 0.9     │ 0.5     │ 1.1     │\n",
              "│ 3246 │ 1.2     │ 0.9     │ 0.5     │ 1.1     │ 0.4     │\n",
              "│ 3247 │ 0.9     │ 0.5     │ 1.1     │ 0.4     │ 0.5     │\n",
              "│ 3248 │ 0.5     │ 1.1     │ 0.4     │ 0.5     │ 1.6     │"
            ]
          },
          "metadata": {
            "tags": []
          },
          "execution_count": 16
        }
      ]
    },
    {
      "cell_type": "code",
      "metadata": {
        "id": "3JNaDWC1KVSZ",
        "colab_type": "code",
        "colab": {},
        "outputId": "80223aff-01c0-4bea-d12b-afb2ec2a44e6"
      },
      "source": [
        "X = df[:, Not(end)]"
      ],
      "execution_count": 0,
      "outputs": [
        {
          "output_type": "execute_result",
          "data": {
            "text/html": [
              "<table class=\"data-frame\"><thead><tr><th></th><th>x1</th><th>x2</th><th>x3</th><th>x4</th></tr><tr><th></th><th>Float64</th><th>Float64</th><th>Float64</th><th>Float64</th></tr></thead><tbody><p>3,248 rows × 4 columns</p><tr><th>1</th><td>96.7</td><td>104.3</td><td>116.7</td><td>92.8</td></tr><tr><th>2</th><td>104.3</td><td>116.7</td><td>92.8</td><td>141.7</td></tr><tr><th>3</th><td>116.7</td><td>92.8</td><td>141.7</td><td>139.2</td></tr><tr><th>4</th><td>92.8</td><td>141.7</td><td>139.2</td><td>158.0</td></tr><tr><th>5</th><td>141.7</td><td>139.2</td><td>158.0</td><td>110.5</td></tr><tr><th>6</th><td>139.2</td><td>158.0</td><td>110.5</td><td>126.5</td></tr><tr><th>7</th><td>158.0</td><td>110.5</td><td>126.5</td><td>125.8</td></tr><tr><th>8</th><td>110.5</td><td>126.5</td><td>125.8</td><td>264.3</td></tr><tr><th>9</th><td>126.5</td><td>125.8</td><td>264.3</td><td>142.0</td></tr><tr><th>10</th><td>125.8</td><td>264.3</td><td>142.0</td><td>122.2</td></tr><tr><th>11</th><td>264.3</td><td>142.0</td><td>122.2</td><td>126.5</td></tr><tr><th>12</th><td>142.0</td><td>122.2</td><td>126.5</td><td>148.7</td></tr><tr><th>13</th><td>122.2</td><td>126.5</td><td>148.7</td><td>147.2</td></tr><tr><th>14</th><td>126.5</td><td>148.7</td><td>147.2</td><td>150.0</td></tr><tr><th>15</th><td>148.7</td><td>147.2</td><td>150.0</td><td>166.7</td></tr><tr><th>16</th><td>147.2</td><td>150.0</td><td>166.7</td><td>142.3</td></tr><tr><th>17</th><td>150.0</td><td>166.7</td><td>142.3</td><td>171.7</td></tr><tr><th>18</th><td>166.7</td><td>142.3</td><td>171.7</td><td>152.0</td></tr><tr><th>19</th><td>142.3</td><td>171.7</td><td>152.0</td><td>109.5</td></tr><tr><th>20</th><td>171.7</td><td>152.0</td><td>109.5</td><td>105.5</td></tr><tr><th>21</th><td>152.0</td><td>109.5</td><td>105.5</td><td>125.7</td></tr><tr><th>22</th><td>109.5</td><td>105.5</td><td>125.7</td><td>116.7</td></tr><tr><th>23</th><td>105.5</td><td>125.7</td><td>116.7</td><td>72.5</td></tr><tr><th>24</th><td>125.7</td><td>116.7</td><td>72.5</td><td>75.5</td></tr><tr><th>25</th><td>116.7</td><td>72.5</td><td>75.5</td><td>94.0</td></tr><tr><th>26</th><td>72.5</td><td>75.5</td><td>94.0</td><td>101.2</td></tr><tr><th>27</th><td>75.5</td><td>94.0</td><td>101.2</td><td>84.5</td></tr><tr><th>28</th><td>94.0</td><td>101.2</td><td>84.5</td><td>110.5</td></tr><tr><th>29</th><td>101.2</td><td>84.5</td><td>110.5</td><td>99.7</td></tr><tr><th>30</th><td>84.5</td><td>110.5</td><td>99.7</td><td>39.2</td></tr><tr><th>&vellip;</th><td>&vellip;</td><td>&vellip;</td><td>&vellip;</td><td>&vellip;</td></tr></tbody></table>"
            ],
            "text/latex": "\\begin{tabular}{r|cccc}\n\t& x1 & x2 & x3 & x4\\\\\n\t\\hline\n\t& Float64 & Float64 & Float64 & Float64\\\\\n\t\\hline\n\t1 & 96.7 & 104.3 & 116.7 & 92.8 \\\\\n\t2 & 104.3 & 116.7 & 92.8 & 141.7 \\\\\n\t3 & 116.7 & 92.8 & 141.7 & 139.2 \\\\\n\t4 & 92.8 & 141.7 & 139.2 & 158.0 \\\\\n\t5 & 141.7 & 139.2 & 158.0 & 110.5 \\\\\n\t6 & 139.2 & 158.0 & 110.5 & 126.5 \\\\\n\t7 & 158.0 & 110.5 & 126.5 & 125.8 \\\\\n\t8 & 110.5 & 126.5 & 125.8 & 264.3 \\\\\n\t9 & 126.5 & 125.8 & 264.3 & 142.0 \\\\\n\t10 & 125.8 & 264.3 & 142.0 & 122.2 \\\\\n\t11 & 264.3 & 142.0 & 122.2 & 126.5 \\\\\n\t12 & 142.0 & 122.2 & 126.5 & 148.7 \\\\\n\t13 & 122.2 & 126.5 & 148.7 & 147.2 \\\\\n\t14 & 126.5 & 148.7 & 147.2 & 150.0 \\\\\n\t15 & 148.7 & 147.2 & 150.0 & 166.7 \\\\\n\t16 & 147.2 & 150.0 & 166.7 & 142.3 \\\\\n\t17 & 150.0 & 166.7 & 142.3 & 171.7 \\\\\n\t18 & 166.7 & 142.3 & 171.7 & 152.0 \\\\\n\t19 & 142.3 & 171.7 & 152.0 & 109.5 \\\\\n\t20 & 171.7 & 152.0 & 109.5 & 105.5 \\\\\n\t21 & 152.0 & 109.5 & 105.5 & 125.7 \\\\\n\t22 & 109.5 & 105.5 & 125.7 & 116.7 \\\\\n\t23 & 105.5 & 125.7 & 116.7 & 72.5 \\\\\n\t24 & 125.7 & 116.7 & 72.5 & 75.5 \\\\\n\t25 & 116.7 & 72.5 & 75.5 & 94.0 \\\\\n\t26 & 72.5 & 75.5 & 94.0 & 101.2 \\\\\n\t27 & 75.5 & 94.0 & 101.2 & 84.5 \\\\\n\t28 & 94.0 & 101.2 & 84.5 & 110.5 \\\\\n\t29 & 101.2 & 84.5 & 110.5 & 99.7 \\\\\n\t30 & 84.5 & 110.5 & 99.7 & 39.2 \\\\\n\t$\\dots$ & $\\dots$ & $\\dots$ & $\\dots$ & $\\dots$ \\\\\n\\end{tabular}\n",
            "text/plain": [
              "3248×4 DataFrame\n",
              "│ Row  │ x1      │ x2      │ x3      │ x4      │\n",
              "│      │ \u001b[90mFloat64\u001b[39m │ \u001b[90mFloat64\u001b[39m │ \u001b[90mFloat64\u001b[39m │ \u001b[90mFloat64\u001b[39m │\n",
              "├──────┼─────────┼─────────┼─────────┼─────────┤\n",
              "│ 1    │ 96.7    │ 104.3   │ 116.7   │ 92.8    │\n",
              "│ 2    │ 104.3   │ 116.7   │ 92.8    │ 141.7   │\n",
              "│ 3    │ 116.7   │ 92.8    │ 141.7   │ 139.2   │\n",
              "│ 4    │ 92.8    │ 141.7   │ 139.2   │ 158.0   │\n",
              "│ 5    │ 141.7   │ 139.2   │ 158.0   │ 110.5   │\n",
              "│ 6    │ 139.2   │ 158.0   │ 110.5   │ 126.5   │\n",
              "│ 7    │ 158.0   │ 110.5   │ 126.5   │ 125.8   │\n",
              "│ 8    │ 110.5   │ 126.5   │ 125.8   │ 264.3   │\n",
              "│ 9    │ 126.5   │ 125.8   │ 264.3   │ 142.0   │\n",
              "│ 10   │ 125.8   │ 264.3   │ 142.0   │ 122.2   │\n",
              "⋮\n",
              "│ 3238 │ 4.9     │ 4.9     │ 3.1     │ 7.7     │\n",
              "│ 3239 │ 4.9     │ 3.1     │ 7.7     │ 0.8     │\n",
              "│ 3240 │ 3.1     │ 7.7     │ 0.8     │ 9.4     │\n",
              "│ 3241 │ 7.7     │ 0.8     │ 9.4     │ 9.1     │\n",
              "│ 3242 │ 0.8     │ 9.4     │ 9.1     │ 9.9     │\n",
              "│ 3243 │ 9.4     │ 9.1     │ 9.9     │ 1.2     │\n",
              "│ 3244 │ 9.1     │ 9.9     │ 1.2     │ 0.9     │\n",
              "│ 3245 │ 9.9     │ 1.2     │ 0.9     │ 0.5     │\n",
              "│ 3246 │ 1.2     │ 0.9     │ 0.5     │ 1.1     │\n",
              "│ 3247 │ 0.9     │ 0.5     │ 1.1     │ 0.4     │\n",
              "│ 3248 │ 0.5     │ 1.1     │ 0.4     │ 0.5     │"
            ]
          },
          "metadata": {
            "tags": []
          },
          "execution_count": 17
        }
      ]
    },
    {
      "cell_type": "code",
      "metadata": {
        "id": "OJ2d2wTqKVSr",
        "colab_type": "code",
        "colab": {},
        "outputId": "078f9e11-d5fa-4062-983d-83d7b4babe04"
      },
      "source": [
        "y = df[!, end]"
      ],
      "execution_count": 0,
      "outputs": [
        {
          "output_type": "execute_result",
          "data": {
            "text/plain": [
              "3248-element Array{Float64,1}:\n",
              " 141.7\n",
              " 139.2\n",
              " 158.0\n",
              " 110.5\n",
              " 126.5\n",
              " 125.8\n",
              " 264.3\n",
              " 142.0\n",
              " 122.2\n",
              " 126.5\n",
              " 148.7\n",
              " 147.2\n",
              " 150.0\n",
              "   ⋮\n",
              "   7.7\n",
              "   0.8\n",
              "   9.4\n",
              "   9.1\n",
              "   9.9\n",
              "   1.2\n",
              "   0.9\n",
              "   0.5\n",
              "   1.1\n",
              "   0.4\n",
              "   0.5\n",
              "   1.6"
            ]
          },
          "metadata": {
            "tags": []
          },
          "execution_count": 18
        }
      ]
    },
    {
      "cell_type": "code",
      "metadata": {
        "id": "_8u2bxIvKVS3",
        "colab_type": "code",
        "colab": {},
        "outputId": "b51053a2-d8dc-4e77-833c-28249d7e10e9"
      },
      "source": [
        "mdl = LinearRegressor()\n",
        "tscv = tsCV(5)"
      ],
      "execution_count": 0,
      "outputs": [
        {
          "output_type": "execute_result",
          "data": {
            "text/plain": [
              "tsCV(\n",
              "    nfolds = 5)\u001b[34m @ 1…57\u001b[39m"
            ]
          },
          "metadata": {
            "tags": []
          },
          "execution_count": 19
        }
      ]
    },
    {
      "cell_type": "code",
      "metadata": {
        "id": "oCasPXSEKVS-",
        "colab_type": "code",
        "colab": {},
        "outputId": "92515d00-30e4-400f-960b-80f309c3f59a"
      },
      "source": [
        "mach = machine(mdl, X, y)"
      ],
      "execution_count": 0,
      "outputs": [
        {
          "output_type": "execute_result",
          "data": {
            "text/plain": [
              "\u001b[34mMachine{LinearRegressor} @ 1…59\u001b[39m\n"
            ]
          },
          "metadata": {
            "tags": []
          },
          "execution_count": 20
        }
      ]
    },
    {
      "cell_type": "code",
      "metadata": {
        "id": "puWfC8mrKVTD",
        "colab_type": "code",
        "colab": {},
        "outputId": "efc31957-5184-4ccc-9fd6-41c4e8c4b73d"
      },
      "source": [
        "evaluate!(mach,\n",
        "          resampling=tscv,\n",
        "          measure=[l1, rms, rmslp1], verbosity=0)"
      ],
      "execution_count": 0,
      "outputs": [
        {
          "output_type": "execute_result",
          "data": {
            "text/plain": [
              "┌\u001b[0m───────────\u001b[0m┬\u001b[0m───────────────\u001b[0m┬\u001b[0m──────────────────────────────\u001b[0m┐\u001b[0m\n",
              "│\u001b[0m\u001b[22m _.measure \u001b[0m│\u001b[0m\u001b[22m _.measurement \u001b[0m│\u001b[0m\u001b[22m _.per_fold                   \u001b[0m│\u001b[0m\n",
              "├\u001b[0m───────────\u001b[0m┼\u001b[0m───────────────\u001b[0m┼\u001b[0m──────────────────────────────\u001b[0m┤\u001b[0m\n",
              "│\u001b[0m l1        \u001b[0m│\u001b[0m 6.58          \u001b[0m│\u001b[0m [9.3, 6.48, 8.16, 2.4]       \u001b[0m│\u001b[0m\n",
              "│\u001b[0m rms       \u001b[0m│\u001b[0m 7.08          \u001b[0m│\u001b[0m [9.3, 6.48, 8.16, 2.4]       \u001b[0m│\u001b[0m\n",
              "│\u001b[0m rmslp1    \u001b[0m│\u001b[0m 0.533         \u001b[0m│\u001b[0m [0.259, 0.662, 0.452, 0.654] \u001b[0m│\u001b[0m\n",
              "└\u001b[0m───────────\u001b[0m┴\u001b[0m───────────────\u001b[0m┴\u001b[0m──────────────────────────────\u001b[0m┘\u001b[0m\n",
              "_.per_observation = [[[9.296447243332686], [6.4756370361130084], [8.161702300361451], [2.3995495698159153]], missing, missing]\n"
            ]
          },
          "metadata": {
            "tags": []
          },
          "execution_count": 21
        }
      ]
    }
  ]
}