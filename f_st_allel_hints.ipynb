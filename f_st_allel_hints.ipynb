{
  "nbformat": 4,
  "nbformat_minor": 0,
  "metadata": {
    "anaconda-cloud": {},
    "kernelspec": {
      "display_name": "Python 3",
      "language": "python",
      "name": "python3"
    },
    "language_info": {
      "codemirror_mode": {
        "name": "ipython",
        "version": 3
      },
      "file_extension": ".py",
      "mimetype": "text/x-python",
      "name": "python",
      "nbconvert_exporter": "python",
      "pygments_lexer": "ipython3",
      "version": "3.7.4"
    },
    "colab": {
      "name": "f_st_allel-hints.ipynb",
      "provenance": [],
      "include_colab_link": true
    }
  },
  "cells": [
    {
      "cell_type": "markdown",
      "metadata": {
        "id": "view-in-github",
        "colab_type": "text"
      },
      "source": [
        "<a href=\"https://colab.research.google.com/github/aa25desh/graph/blob/master/f_st_allel_hints.ipynb\" target=\"_parent\"><img src=\"https://colab.research.google.com/assets/colab-badge.svg\" alt=\"Open In Colab\"/></a>"
      ]
    },
    {
      "cell_type": "markdown",
      "metadata": {
        "id": "u1NzNIIyN8xH",
        "colab_type": "text"
      },
      "source": [
        "This is an ipython notebook. Lectures about Python, useful both for beginners and experts, can be found at http://scipy-lectures.github.io.\n",
        "\n",
        "I recommend installing the [Anaconda](https://store.continuum.io/cshop/academicanaconda) distribution. Make sure not to pay for it! Click Anaconda Academic License; it should be free for those with academic e-mail addresses.\n",
        "\n",
        "\n",
        "Open the notebook by (1) copying this file into a directory, (2) in that directory typing\n",
        "ipython notebook\n",
        "and (3) selecting the notebook.\n",
        "You type in commands and then hit 'Shift Return' to execute them.\n",
        "\n",
        "\n",
        "# Introduction and motivation\n",
        "\n",
        "In the Hardy-Weinberg notebooks, we found that human populations have structure--individuals tend to be slightly more similar to individuals within their group than they are to individuals in other populations. A consequence is that the heterozygosity in a structured population is less than you would expect by chance. This suggests that heterozygosity can be used to measure the degree of differentiation between populations. It can also be used to measure inbreeding. We'll explore these two applications in this notebook.\n",
        "\n",
        "Let's start with what we observed in the Hardy-Weinberg notebook. We defined the excess heterozygosity as \n",
        "\n",
        "$e_{IT}=\\frac{\\mbox{observed proportion of hets}}{\\mbox{expected proportion of hets}}=\\frac{ H_{obs}}{H_{IT}},$\n",
        "\n",
        "\n",
        "where $H_{obs}$ is the observed number of heterozygotes, and $H_{IT}=2 p (1-p) N$ is the expected number of heterozygotes under a random mating assumption (I'll explain the subscript $IT$ in a second). This excess of heterozygotes equals one in a randomly mating population, and zero when there are no heterozygotes (an excess below 1 corresponds to a lack of heterozygotes). \n",
        "\n",
        "Usually, this \"$e$-statistic\" is close to one within species--there is not a vast change in the number of heterozygotes compared to the uniform random-mating assumptions. Because population geneticists are often interested in *departures* from the random-mating assumptions, they usually consider how far $e$ is from 1. This defines the $F$-statistic:\n",
        "\n",
        "$F_{IT}=1-e_{IT}=1-\\frac{H_{obs}}{H_{IT}}$.\n",
        "\n",
        "\n",
        "We found that this $F_{IT}$ is larger than $0.$ So mankind is not a randomly mating populations. But there are (at least) two phenomena that can lead to fewer heterozygotes. You could have population structure, where individuals tend to choose partners within their sub-populations. And we could have inbreeding, where individuals tend to choose partners among their relatives. Population structure and inbreeding have similar effects on global heterozygosity, but there is a way to distinguish the two. When a population is divided into two randomly-mating sub-populations, there should be no departures from Hardy-Weinberg within each sub-population. By contrast, in a case of \"pure\" inbreeding, when individuals just prefer to mate with relatives but there is no additional structure in the population, the lack of heterozygosity should be maintained within the sub-populations. \n",
        "\n",
        "So if we want to look for population structure, we first look at the global loss in heterozygosity, then find how much of it we can blame on within-population shenanigans, and we attribute the rest to population structure. Shenanigans can mean inbreeding, but it can also mean population structure within the sub-population, and other similar complications. It is *not* standard nomenclature. \n",
        "\n",
        "\n",
        "\n",
        "In the Hardy-Weinberg notebook, we computed the excess of heterozygosity in the whole population, which we now call $e_{IT},$ the excess of heterozygotes in individuals ($I$) compared to the expectation based on the entire population $T$. We also computed $e_{shenanigans},$ the excess heterozygosity remaining even after we took into account differences in population frequency. Let's call this $e_{IS},$ the excess heterozygosity in individuals $I$ compared to the expectation based on frequencies in subpopulation $S$. As a reminder, we found that $e_{IT}$ was significantly smaller than one, meaning that $F_{IT}>0.$ We also found that $e_{IS}\\simeq 1,$ so that there was no substantial evidence for shenanigans: $F_{IS}=1-e_{IS}\\simeq 0$.    \n",
        "\n",
        "This suggests that the lack of heterozygocity is indeed due to population stucture. To formalize this, let's say that the frequency of the $A$ allele in the population is $p$, and that this frequency is $p_i$ in subpopulation $i$. We can write the expected number of heterozygotes based on the allele frequency in total population, $H_T=2 p (1-p) N$, where $N$ is the sample size. Similarly, the expectation based on the allele frequencies in each sub-populationis $H_S=\\sum_i 2 N_i p_i (1-p_i),$ where  $N_i$ the sample size of population $i$.  \n",
        "We can divide $e_{IT}$ in two components:\n",
        "\n",
        "$$e_{IT}=\\frac{H_{obs}}{H_T}=\\frac{H_{obs}}{H_S}\\frac{H_S}{H_T}$$\n",
        "\n",
        "The first term on the right-hand side corresponds to $e_{IS}:$ the excess of heterozygotes given population expectations. The second term, then, tells us about the excess of heterozygocity due to differences between subpopulations. We define $e_{ST}=\\frac{H_S}{H_T}$ and $F_{ST}=1-e_{ST}.$ So we have\n",
        "\n",
        "$$e_{IT}=e_{IS}e_{ST}.$$\n",
        "\n",
        "If we express these in terns of $F$-statistics, we get \n",
        "$$1-F_{IT}=\\left(1-F_{IS}\\right)\\left(1-F_{ST}\\right).$$\n",
        "\n",
        "$F_{ST}$ is the most commonly used of the three statistics. To calculate it directly, we use the definition $e_{ST}=\\frac{H_S}{H_T}$ and the expectations for $H_S$ and $H_T$ computed above. \n",
        "\n",
        "The math gets a bit more involved here. Give it a shot, but it's ok if things are a bit confusing until the end of the mathematical interlude.  \n",
        "\n",
        "$$F_{ST}=1-e_{ST}=1-\\frac{\\sum_i N_i p_i (1-p_i)}{N p (1-p)}.$$\n",
        "\n",
        "You can verify that this can be rewritten as\n",
        "\n",
        "$$F_{ST}= \\frac{\\mbox{var}(p_i)}{p (1-p)},$$\n",
        "\n",
        "where $\\mbox{var}(p_i)$ is the variance in the allele frequency between populations, defined as \n",
        "\n",
        "$$\\mbox{var}(p_i) \\equiv E(p_i^2)-E(p_i)^2=\\sum_i \\frac{N_i}{N} p_i^2 -  \\left(\\sum_i \\frac{N_i}{N} p_i\\right)^2.$$\n",
        "\n",
        "\n",
        "This sounds like a pretty clear definition, but there is a lot of different ways to estimate $F_{ST}$ from data. \n",
        "\n",
        "# Reading assigment\n",
        "[This article](https://www.ncbi.nlm.nih.gov/pmc/articles/PMC3759727/) provides a nice description of the different issues involved. Please take the time to read it. It's ok if you don't get all the subtleties, but you should be able to describe the general idea.\n",
        "\n",
        "One of the challenges is differences in sample size: If our goal is to partition the missing heterozygosity in a given sample, the definition above is appropriate: $F_{ST}$ will give us the reduction in heterozygosity due to population structure. Unfortunately, this will depend on the sample size from each population, so it won't be super useful to compare across experiments. If we want to use $F_{ST}$ to measure absolute differentiation between two populations, it may be convenient to use equal size for each population $N_i=\\frac{N}{\\#subpopulations}$. These will give different answers, and there is no single \"best\" answer. \n",
        "\n",
        "Here we'll use the sample-size independent definition. For $F_{ST}$ between two populations: \n",
        "\n",
        "$$F_{ST}= \\frac{\\mbox{var}(p_i)}{p (1-p)},$$\n",
        "\n",
        "There are two ways in which we could interpret $\\mbox{var}(p_i)$: as a sample variance, and as a population variance in the allele frequencies. \n",
        "If we interpret $\\mbox{var}(p_i)$ to be the sample variance in allele frequencies, we would get:\n",
        "\n",
        "$$\\begin{split}\n",
        "\\mbox{var}(p_i) \\equiv E(p_i^2)-E(p_i)^2&= \\frac{p_1^2+p_2^2}{2} -  \\left(\\frac{p_1+p_2}{2}\\right)^2.\\\\\n",
        "&=\\frac{(p_1-p_2)^2}{4}.\n",
        "\\end{split}\n",
        "$$\n",
        "\n",
        "Putting the last two equations together, we get:\n",
        "\n",
        "\n",
        "\n",
        "$$F_{ST, \\mbox{sample}}= \\frac{(p_1-p_2)^2}{4 p (1-p)}.$$ \n",
        "\n",
        "\n",
        "Most approaches to estimate $F_{ST}$ interpret $\\mbox{var}(p_i)$ as a *population* variance, where we imagine that the two populations themselves either have evolved from a common ancestral population, or are drawn from an imagined set of populations, all derived from the same ancestral population, and we are trying to estimate the variance of that set of populations relative to the ancestral frequency. In that case, we need to account for the fact that the sample variance will be underestimated by a factor of two, so that the estimate would read: \n",
        "\n",
        "$$F_{ST, \\mbox{population}}= \\frac{(p_1-p_2)^2}{2 p (1-p)}.$$\n",
        "\n",
        "I dislike this interpretation, because it tries to measure the variance of a distribution that does not exist. But it is the most common, and it only differs from the sample definition by a factor of 2. \n",
        "\n",
        "There is another way of thinking about $F_{ST}$, which is hinted at by equation:\n",
        "$$F_{ST}= \\frac{\\mbox{var}(p_i)}{p (1-p)}.$$\n",
        "\n",
        "The numerator is the variance in the allele frequency across populations, and the numerator happens to equal the variance in the genotype if we sample one haploid genotype from the entire population. The numerator tells us about inter-population variance, and the denominator tells us something about the total variance in the genotype. So $F_{ST}$ is telling us something about the proportion of the variance \"due to\" frequency differences across populations. \n",
        "\n",
        "## Wahlund's principle\n",
        "To formalize this, we can use the law of total variance. Let $g$ be the genotype of one particular haploid sample drawn from the entire population ($g=0$ or $1$). The variance $\\mbox{var}(g)$ over all possible samples is simply $p (1-p)$ (since it is a bernoulli trial). The law of total variance is useful to break down the variance of a variable into variance components due to intermediate variables, especially useful when we have a two-step random process. Here, we can imagine that we draw a population first, then draw an allele from that population. the intermediate variable in this case is $i$, the selected population. The law of total variance states that \n",
        " \n",
        "$$\\mbox{var}(g) = \\mbox{var}(E[g|i])+ E[\\mbox{var}[g|i]]  $$\n",
        "The expectation of $g$ knowing that we sampled from population $i$ is $p_i$. The variance of $g$ knowing $i$ is $p_i (1-p_i).$ So the variance of $g$ is \n",
        "\n",
        "$$\\mbox{var}(g) = p (1-p) = \\mbox{var}(p_i)+ E[p_i (1-p_i)].$$\n",
        "\n",
        "Since $F_{ST}= \\frac{\\mbox{var}(p_i)}{p (1-p)},$ we can interpret it as the proportion of genotype variance that can be attributed to differences across populations. The last equation is sometimes referred to as the Wahlund principle. BEcause all three terms are non-negative, it implies that the expected heterozygosity in the subpopulation (the right-most term) is always smaller than expected heterozygosity under Hardy-Weinberg (the left-most term).\n",
        "**(end of the mathematical interlude)**\n",
        "\n",
        "An $F_{ST}$ of zero means that allele frequencies are equal in the subpopulation (hence no detectable population structure), and an $F_{ST, population}$ of two is the maximum possible divergence, which can only happen when $p=0.5$, $p_1=0$, $p_2=1$, or vice versa.\n",
        "\n",
        "\n",
        "\n",
        "\n",
        "\n",
        "\n",
        "\n",
        "\n",
        "\n",
        "\n",
        "\n",
        "Have a look at the [wikipedia page](http://en.wikipedia.org/wiki/F-statistics) for a different exposition of the same ideas. If you find a better explanation somewhere, let me know!  \n",
        "\n",
        "# Implementation\n",
        "In this notebook we'll want to look at the different $F$-statistics across populations in the 1000 Genomes project. These statistics depend on the number of homozygotes and heterozygotes in each subpopulation. So we'll have to count the number of homozygotes and heterozygotes as in the Hardy-Weinberg example, but we'll have to do that within each population. \n",
        "\n",
        "Fortunately, we already did most of the work in the Hardy-Weinberg notebook. The only difference now is that we'll want to read the SNP for all the populations at the same time.  \n",
        "\n"
      ]
    },
    {
      "cell_type": "code",
      "metadata": {
        "id": "n-nftqgCN8xK",
        "colab_type": "code",
        "colab": {},
        "outputId": "73a9fba5-cc74-420a-b623-5de5f7a2cae8"
      },
      "source": [
        "### 1\n",
        "import allel\n",
        "import os\n",
        "import gzip\n",
        "print(allel.__version__)\n",
        "import numpy as np\n",
        "import scipy\n",
        "import pandas\n",
        "import matplotlib as mpl\n",
        "import matplotlib.pyplot as plt\n",
        "%matplotlib inline\n",
        "import seaborn as sns\n",
        "sns.set_style('white')\n",
        "sns.set_style('ticks')\n",
        "sns.set_context('notebook')\n",
        "import h5py\n",
        "import allel; print('scikit-allel', allel.__version__)\n",
        "import patsy\n",
        "import statsmodels.api as sm\n",
        "import itertools\n"
      ],
      "execution_count": null,
      "outputs": [
        {
          "output_type": "stream",
          "text": [
            "1.2.1\n",
            "scikit-allel 1.2.1\n"
          ],
          "name": "stdout"
        }
      ]
    },
    {
      "cell_type": "markdown",
      "metadata": {
        "id": "aTRTwRNhN8xa",
        "colab_type": "text"
      },
      "source": [
        "## Loading and cleaning the data\n",
        "The first step is to import the data"
      ]
    },
    {
      "cell_type": "code",
      "metadata": {
        "id": "5OHfWzWFN8xd",
        "colab_type": "code",
        "colab": {}
      },
      "source": [
        "### 2\n",
        "vcf_file_name = 'ALL.chr22.phase3_shapeit2_mvncall_integrated_v5a.20130502.genotypes.vcf.gz'\n",
        "\n",
        "vcf_file_path = os.path.join(os.sep, 'Users', 'aa25desh' , 'data1000gen', vcf_file_name)\n",
        "h5_file_name = \"chr22.h5\"\n",
        "h5_file_path =  os.path.join(os.sep, 'Users', 'aa25desh' , 'data1000gen', h5_file_name)\n",
        "### 4\n",
        "try:\n",
        "    callset = h5py.File(h5_file_path, mode='r')\n",
        "except OSError:\n",
        "    allel.vcf_to_hdf5(vcf_file_path, h5_file_path, fields='*', overwrite=True)\n",
        "    callset = h5py.File(h5_file_path, mode='r')\n",
        "    \n"
      ],
      "execution_count": null,
      "outputs": []
    },
    {
      "cell_type": "markdown",
      "metadata": {
        "id": "8zJX9mCKN8xm",
        "colab_type": "text"
      },
      "source": [
        "Filter for biallelic loci"
      ]
    },
    {
      "cell_type": "code",
      "metadata": {
        "id": "5mf-l567N8xo",
        "colab_type": "code",
        "colab": {},
        "outputId": "3dc77fb0-d7b1-4623-d52c-b3ea2a636366"
      },
      "source": [
        "### 3\n",
        "genotypes = allel.GenotypeChunkedArray(callset['calldata/GT'])\n",
        "allele_counts = genotypes.count_alleles()\n",
        "\n",
        "\n",
        "is_biallelic = allele_counts.is_biallelic_01()\n",
        "\n",
        "def report_filter(filter_vector):\n",
        "    kept = np.sum(filter_vector)\n",
        "    length = filter_vector.shape[0]\n",
        "    print(\"kept %d out of %d. Ratio kept: %2.2f \" % (kept, length, kept/length))\n",
        "\n",
        "\n",
        "genotypes_biallelic = genotypes.compress(is_biallelic)\n",
        "pos_biallelic = callset['variants/POS'][:].compress(is_biallelic)\n",
        "report_filter(is_biallelic)\n"
      ],
      "execution_count": null,
      "outputs": [
        {
          "output_type": "stream",
          "text": [
            "kept 1093133 out of 1103547. Ratio kept: 0.99 \n"
          ],
          "name": "stdout"
        }
      ]
    },
    {
      "cell_type": "code",
      "metadata": {
        "id": "K9sK-RUhN8xz",
        "colab_type": "code",
        "colab": {},
        "outputId": "fd1708a5-6134-498d-d0dc-f2ff050b36eb"
      },
      "source": [
        "pos_biallelic"
      ],
      "execution_count": null,
      "outputs": [
        {
          "output_type": "execute_result",
          "data": {
            "text/plain": [
              "array([16050075, 16050115, 16050213, ..., 51244163, 51244205, 51244237],\n",
              "      dtype=int32)"
            ]
          },
          "metadata": {
            "tags": []
          },
          "execution_count": 269
        }
      ]
    },
    {
      "cell_type": "markdown",
      "metadata": {
        "id": "SJ6GOeHXN8x8",
        "colab_type": "text"
      },
      "source": [
        "Extract positions in the bed file."
      ]
    },
    {
      "cell_type": "code",
      "metadata": {
        "id": "8l9of4UHN8x9",
        "colab_type": "code",
        "colab": {},
        "outputId": "dc840075-537e-4239-82bf-6ca6eee98c17"
      },
      "source": [
        ""
      ],
      "execution_count": null,
      "outputs": [
        {
          "output_type": "stream",
          "text": [
            "16554726\n",
            "16848370\n",
            "16848391\n",
            "16848606\n",
            "16848647\n",
            "16848670\n",
            "16848748\n",
            "16848861\n",
            "16849920\n"
          ],
          "name": "stdout"
        }
      ]
    },
    {
      "cell_type": "code",
      "metadata": {
        "id": "JvBGiphCN8yD",
        "colab_type": "code",
        "colab": {},
        "outputId": "a22dae50-88f0-46d9-e641-5a1b81c87007"
      },
      "source": [
        "### 4\n",
        "bed_file = os.path.join(os.sep, 'Users', 'aa25desh' , 'data1000gen', '20141020.strict_mask.whole_genome.bed')\n",
        "### 39\n",
        "mask_bed = pandas.read_csv(bed_file, sep='\\t', header=None)\n",
        "mask_bed = mask_bed.loc[mask_bed[0] == 'chr22']\n",
        "n_features = mask_bed.shape[0]\n",
        "print(\"number of features:\", n_features)\n"
      ],
      "execution_count": null,
      "outputs": [
        {
          "output_type": "stream",
          "text": [
            "number of features: 55707\n"
          ],
          "name": "stdout"
        }
      ]
    },
    {
      "cell_type": "code",
      "metadata": {
        "id": "HDpX4E96N8yH",
        "colab_type": "code",
        "colab": {},
        "outputId": "7e6f052b-8b41-4e53-f52a-3fa8edefedf5"
      },
      "source": [
        "### 5\n",
        "in_mask = (pos_biallelic<0) # Initialize with all False\n",
        "i = 0\n",
        "for _index, feature in mask_bed.iterrows():\n",
        "    i+=1\n",
        "    if i%10000 == 0:\n",
        "        print(\"processed\", i, \"features out of\", n_features)\n",
        "\n",
        "    start = feature[1]\n",
        "    end = feature[2]\n",
        "      \n",
        "    in_mask = np.logical_or(in_mask, np.logical_and(pos_biallelic>=start, \n",
        "                                                    pos_biallelic<=end))\n",
        "\n"
      ],
      "execution_count": null,
      "outputs": [
        {
          "output_type": "stream",
          "text": [
            "processed 10000 features out of 55707\n",
            "processed 20000 features out of 55707\n",
            "processed 30000 features out of 55707\n",
            "processed 40000 features out of 55707\n",
            "processed 50000 features out of 55707\n"
          ],
          "name": "stdout"
        }
      ]
    },
    {
      "cell_type": "code",
      "metadata": {
        "id": "_cXk6yXfN8yL",
        "colab_type": "code",
        "colab": {},
        "outputId": "dc33bc9a-77a4-4e1c-e52e-cca2fb5dbe7b"
      },
      "source": [
        "### 6\n",
        "report_filter(in_mask)\n",
        "strict_genotypes = genotypes_biallelic.compress(in_mask)\n",
        "strict_positions = pos_biallelic.compress(in_mask)"
      ],
      "execution_count": null,
      "outputs": [
        {
          "output_type": "stream",
          "text": [
            "kept 742649 out of 1093133. Ratio kept: 0.68 \n"
          ],
          "name": "stdout"
        }
      ]
    },
    {
      "cell_type": "code",
      "metadata": {
        "id": "AlKWtUwGN8yP",
        "colab_type": "code",
        "colab": {},
        "outputId": "f1fbf81b-9a0e-4d2f-e40e-74024a62fdeb"
      },
      "source": [
        " sorted_pops"
      ],
      "execution_count": null,
      "outputs": [
        {
          "output_type": "execute_result",
          "data": {
            "text/plain": [
              "['GWD',\n",
              " 'YRI',\n",
              " 'ESN',\n",
              " 'LWK',\n",
              " 'ACB',\n",
              " 'MSL',\n",
              " 'ASW',\n",
              " 'CHS',\n",
              " 'JPT',\n",
              " 'CHB',\n",
              " 'KHV',\n",
              " 'CDX',\n",
              " 'TSI',\n",
              " 'IBS',\n",
              " 'FIN',\n",
              " 'CEU',\n",
              " 'GBR',\n",
              " 'GIH',\n",
              " 'STU',\n",
              " 'ITU',\n",
              " 'PJL',\n",
              " 'BEB',\n",
              " 'PUR',\n",
              " 'CLM',\n",
              " 'PEL',\n",
              " 'MXL']"
            ]
          },
          "metadata": {
            "tags": []
          },
          "execution_count": 294
        }
      ]
    },
    {
      "cell_type": "markdown",
      "metadata": {
        "id": "20oEQQluN8yS",
        "colab_type": "text"
      },
      "source": [
        "We also need to import the names of the individuals, as in the Hardy-Weinberg notebook. "
      ]
    },
    {
      "cell_type": "code",
      "metadata": {
        "id": "oqqUIm6oN8yT",
        "colab_type": "code",
        "colab": {}
      },
      "source": [
        "### 7\n",
        "population_file_name = 'integrated_call_samples_v3.20130502.ALL.panel'\n",
        "population_file = os.path.join(os.sep, 'Users', 'aa25desh' , 'data1000gen', population_file_name)\n",
        "samples = pandas.read_csv(population_file, sep='\\t')\n",
        "samples.head()\n",
        "populations = np.array(samples['pop'].value_counts().keys())\n",
        "\n",
        "samples.reset_index(drop=True, inplace=True)\n",
        "samples.head()\n",
        "\n",
        "subpops = {\n",
        "    # for each population, get the list of samples that belong to the population\n",
        "    pop_iter: samples[samples['pop'] == pop_iter].index.tolist() for pop_iter in populations\n",
        "}\n",
        "\n"
      ],
      "execution_count": null,
      "outputs": []
    },
    {
      "cell_type": "markdown",
      "metadata": {
        "id": "S8RftIiSN8yY",
        "colab_type": "text"
      },
      "source": [
        "Then get some information about the populations and superpopulations:"
      ]
    },
    {
      "cell_type": "code",
      "metadata": {
        "id": "b5EcFTkrN8yZ",
        "colab_type": "code",
        "colab": {},
        "outputId": "27179b78-c48e-475e-eed7-bf6c95d36e4f"
      },
      "source": [
        "### 8\n",
        "superpops = samples['super_pop'].value_counts().keys()\n",
        "pop_by_superpop = {}\n",
        "continent_by_population = {}\n",
        "for spop in superpops:\n",
        "    is_in_superpop = samples['super_pop'].isin({spop})\n",
        "    subsample = samples[is_in_superpop]\n",
        "    pops = subsample['pop'].value_counts().keys()\n",
        "    pop_by_superpop[spop] = list(pops)\n",
        "    for pop in list(pops):\n",
        "        continent_by_population[pop] = spop    \n",
        "    \n",
        "continentcolor = {'SAS':'r', 'EAS':'b', 'AMR':'orange', 'AFR':'g', 'EUR':'m'}\n",
        "\n",
        "\n",
        "pop_by_superpop"
      ],
      "execution_count": null,
      "outputs": [
        {
          "output_type": "execute_result",
          "data": {
            "text/plain": [
              "{'AFR': ['GWD', 'YRI', 'ESN', 'LWK', 'ACB', 'MSL', 'ASW'],\n",
              " 'EAS': ['CHS', 'JPT', 'CHB', 'KHV', 'CDX'],\n",
              " 'EUR': ['TSI', 'IBS', 'FIN', 'CEU', 'GBR'],\n",
              " 'SAS': ['GIH', 'STU', 'ITU', 'PJL', 'BEB'],\n",
              " 'AMR': ['PUR', 'CLM', 'PEL', 'MXL']}"
            ]
          },
          "metadata": {
            "tags": []
          },
          "execution_count": 9
        }
      ]
    },
    {
      "cell_type": "markdown",
      "metadata": {
        "id": "-qlxDHIQN8yc",
        "colab_type": "text"
      },
      "source": [
        "Get a list of populations sorted by continent"
      ]
    },
    {
      "cell_type": "code",
      "metadata": {
        "id": "FqGBEBH4N8yd",
        "colab_type": "code",
        "colab": {}
      },
      "source": [
        "### 9\n",
        "sorted_pops = [pop for spop in pop_by_superpop.keys() for pop in pop_by_superpop[spop] ]"
      ],
      "execution_count": null,
      "outputs": []
    },
    {
      "cell_type": "markdown",
      "metadata": {
        "id": "phxlWPtVN8yg",
        "colab_type": "text"
      },
      "source": [
        "## Computing $F_{ST}$ \n",
        " \n",
        "Because F statistics are a staple of population genetics, the scikit-allel package has many functions to compute them (see [this link](https://scikit-allel.readthedocs.io/en/latest/stats/fst.html)). We'll compute Fst with the packaged functions first, but we'll also compute it ourselves. \n",
        "\n",
        "We'll start with the Weir-Cockerham estimator. This approach is described [here](https://www.researchgate.net/publication/200102299_Weir_BS_Cockerham_CC_Estimating_F-Statistics_for_the_Analysis_of_Population-Structure_Evolution_38_1358-1370/download). The article is very technical, so read at your own risk.  \n",
        "\n",
        "Weir and Cockerham define three quantities ($a$, $b$, and $c$), related to Wright's F-statistics\n",
        "\n",
        "$F_{ST} = \\frac{a}{a+b+c}$\n",
        "\n",
        "$F_{IS} = \\frac{b}{b+c}$\n",
        "\n",
        "$F_{IT} = \\frac{a+b}{a+b+c}.$\n",
        "\n",
        "\n",
        "\n",
        "\n"
      ]
    },
    {
      "cell_type": "code",
      "metadata": {
        "id": "4sUEGJu8N8yh",
        "colab_type": "code",
        "colab": {}
      },
      "source": [
        "### 10\n",
        "a, b, c = allel.weir_cockerham_fst(strict_genotypes,\n",
        "                                   [subpops[pop] for pop in subpops.keys()], \n",
        "                                   max_allele=1)"
      ],
      "execution_count": null,
      "outputs": []
    },
    {
      "cell_type": "code",
      "metadata": {
        "id": "IimuQsfvN8yj",
        "colab_type": "code",
        "colab": {}
      },
      "source": [
        "### 11\n",
        "fst_WC = a/(a+b+c)"
      ],
      "execution_count": null,
      "outputs": []
    },
    {
      "cell_type": "markdown",
      "metadata": {
        "id": "j3HYchb4N8yn",
        "colab_type": "text"
      },
      "source": [
        "The Weir-Cockerham estimator is designed to work with arbitrary number of alleles, and reports and Fst for each allele. In the biallelic case, this is not useful."
      ]
    },
    {
      "cell_type": "code",
      "metadata": {
        "id": "cFXMc8N5N8yn",
        "colab_type": "code",
        "colab": {},
        "outputId": "3316da02-ecf0-4c53-c38e-ba8bc04707ab"
      },
      "source": [
        "### 12\n",
        "fst_WC"
      ],
      "execution_count": null,
      "outputs": [
        {
          "output_type": "execute_result",
          "data": {
            "text/plain": [
              "array([[ 1.94092728e-04,  1.94092728e-04],\n",
              "       [ 9.62444720e-02,  9.62444720e-02],\n",
              "       [ 4.40610150e-02,  4.40610150e-02],\n",
              "       ...,\n",
              "       [-1.48409725e-04, -1.48409725e-04],\n",
              "       [-3.54580625e-04, -3.54580625e-04],\n",
              "       [ 4.50502238e-05,  4.50502238e-05]])"
            ]
          },
          "metadata": {
            "tags": []
          },
          "execution_count": 13
        }
      ]
    },
    {
      "cell_type": "code",
      "metadata": {
        "id": "COsgSakCN8yt",
        "colab_type": "code",
        "colab": {},
        "outputId": "30445d51-8dae-4fba-9fbd-aa0e591913bf"
      },
      "source": [
        "### 13\n",
        "fst_WC = fst_WC[:,0]\n",
        "fst_WC"
      ],
      "execution_count": null,
      "outputs": [
        {
          "output_type": "execute_result",
          "data": {
            "text/plain": [
              "array([ 1.94092728e-04,  9.62444720e-02,  4.40610150e-02, ...,\n",
              "       -1.48409725e-04, -3.54580625e-04,  4.50502238e-05])"
            ]
          },
          "metadata": {
            "tags": []
          },
          "execution_count": 14
        }
      ]
    },
    {
      "cell_type": "markdown",
      "metadata": {
        "id": "5bJyo0iQN8yw",
        "colab_type": "text"
      },
      "source": [
        "This provides one estimate of $F_{ST}$ for each variant. If we want to get an average across all SNPs, we could take the average of all these $F_{ST}$ values. One downside of doing this is that high-variance estimates for rare variants will cause problems. An alternative is to take the average of the numerator and divide it by the average of the denominator. These won't be equal to each other. It's not clear at this point which one is best, so we might as well pick the one that has the lowest variance. "
      ]
    },
    {
      "cell_type": "code",
      "metadata": {
        "id": "itzt0jVnN8yw",
        "colab_type": "code",
        "colab": {},
        "outputId": "5b53af7c-e391-4f37-84a9-4037f1031a6a"
      },
      "source": [
        "### 14\n",
        "ratio_of_means = np.sum(a) / (np.sum(a) + np.sum(b) + np.sum(c))\n",
        "mean_of_ratios = np.mean(fst_WC)\n",
        "print(\"ratio of means\", ratio_of_means)\n",
        "print(\"mean of ratios\", mean_of_ratios)"
      ],
      "execution_count": null,
      "outputs": [
        {
          "output_type": "stream",
          "text": [
            "ratio of means 0.08813838181195187\n",
            "mean of ratios 0.01462917229457516\n"
          ],
          "name": "stdout"
        }
      ]
    },
    {
      "cell_type": "markdown",
      "metadata": {
        "id": "GkYpyi2ZN8y0",
        "colab_type": "text"
      },
      "source": [
        "The difference between the two should not be a surprise: large values of $a$ tend to be paired up with large values of $a+b+c$. In the average of ratios, the large $a$s tend to get cancelled more:"
      ]
    },
    {
      "cell_type": "code",
      "metadata": {
        "id": "atFieKooN8y1",
        "colab_type": "code",
        "colab": {},
        "outputId": "54a46a0f-046d-4129-d1da-0224aaa4345b"
      },
      "source": [
        "### 15\n",
        "plt.loglog(a[:10000,0],(a+b+c)[:10000,1],'.')\n",
        "plt.xlabel(\"a\")\n",
        "plt.ylabel(\"a+b+c\")"
      ],
      "execution_count": null,
      "outputs": [
        {
          "output_type": "execute_result",
          "data": {
            "text/plain": [
              "Text(0, 0.5, 'a+b+c')"
            ]
          },
          "metadata": {
            "tags": []
          },
          "execution_count": 16
        },
        {
          "output_type": "display_data",
          "data": {
            "image/png": "[encoded data removed]",
            "text/plain": [
              "<Figure size 432x288 with 1 Axes>"
            ]
          },
          "metadata": {
            "tags": [],
            "needs_background": "light"
          }
        }
      ]
    },
    {
      "cell_type": "markdown",
      "metadata": {
        "id": "fBl6B3KyN8y5",
        "colab_type": "text"
      },
      "source": [
        "We can now try to explore the variation in $F_{ST}$ across the genome:"
      ]
    },
    {
      "cell_type": "code",
      "metadata": {
        "id": "aYvrysTzN8y5",
        "colab_type": "code",
        "colab": {},
        "outputId": "f7ac0696-ca93-4766-c03e-4b0557657d37"
      },
      "source": [
        "### 16\n",
        "plt.plot(strict_positions, fst_WC[:],'.')"
      ],
      "execution_count": null,
      "outputs": [
        {
          "output_type": "execute_result",
          "data": {
            "text/plain": [
              "[<matplotlib.lines.Line2D at 0x1c22816a10>]"
            ]
          },
          "metadata": {
            "tags": []
          },
          "execution_count": 17
        },
        {
          "output_type": "display_data",
          "data": {
            "image/png": "[encoded data removed]",
            "text/plain": [
              "<Figure size 432x288 with 1 Axes>"
            ]
          },
          "metadata": {
            "tags": [],
            "needs_background": "light"
          }
        }
      ]
    },
    {
      "cell_type": "markdown",
      "metadata": {
        "id": "kPdluF7mN8y8",
        "colab_type": "text"
      },
      "source": [
        "To bin the data, we can choose bins of constant width, or chose segments corresponding to contiguous segments from the mask file.  "
      ]
    },
    {
      "cell_type": "code",
      "metadata": {
        "id": "jNHMFmdoN8y9",
        "colab_type": "code",
        "colab": {}
      },
      "source": [
        "### 17\n",
        "windowed_Fst = allel.windowed_weir_cockerham_fst(strict_positions, strict_genotypes, \n",
        "                                  [subpops[pop] for pop in subpops.keys()], size = 1000000 )"
      ],
      "execution_count": null,
      "outputs": []
    },
    {
      "cell_type": "code",
      "metadata": {
        "id": "XIgRGwnhN8y_",
        "colab_type": "code",
        "colab": {},
        "outputId": "6e0bbd84-0e51-4d65-bbbc-e8f060773b11"
      },
      "source": [
        "### 18\n",
        "windowed_Fst"
      ],
      "execution_count": null,
      "outputs": [
        {
          "output_type": "execute_result",
          "data": {
            "text/plain": [
              "(array([0.06638937, 0.08346435, 0.0782515 , 0.07851866, 0.07795974,\n",
              "        0.07685757, 0.08640838, 0.09201452, 0.07555432, 0.09560566,\n",
              "        0.07306871, 0.06829056, 0.0689898 , 0.08358981, 0.07579277,\n",
              "        0.09506384, 0.08602108, 0.08446827, 0.09314758, 0.12666326,\n",
              "        0.10957717, 0.08031464, 0.08287097, 0.12599294, 0.1160444 ,\n",
              "        0.12964603, 0.1018896 , 0.08566202, 0.07724806, 0.10390511,\n",
              "        0.10392081, 0.07805771, 0.07578544, 0.09166438, 0.07580657]),\n",
              " array([[16554752, 17554751],\n",
              "        [17554752, 18554751],\n",
              "        [18554752, 19554751],\n",
              "        [19554752, 20554751],\n",
              "        [20554752, 21554751],\n",
              "        [21554752, 22554751],\n",
              "        [22554752, 23554751],\n",
              "        [23554752, 24554751],\n",
              "        [24554752, 25554751],\n",
              "        [25554752, 26554751],\n",
              "        [26554752, 27554751],\n",
              "        [27554752, 28554751],\n",
              "        [28554752, 29554751],\n",
              "        [29554752, 30554751],\n",
              "        [30554752, 31554751],\n",
              "        [31554752, 32554751],\n",
              "        [32554752, 33554751],\n",
              "        [33554752, 34554751],\n",
              "        [34554752, 35554751],\n",
              "        [35554752, 36554751],\n",
              "        [36554752, 37554751],\n",
              "        [37554752, 38554751],\n",
              "        [38554752, 39554751],\n",
              "        [39554752, 40554751],\n",
              "        [40554752, 41554751],\n",
              "        [41554752, 42554751],\n",
              "        [42554752, 43554751],\n",
              "        [43554752, 44554751],\n",
              "        [44554752, 45554751],\n",
              "        [45554752, 46554751],\n",
              "        [46554752, 47554751],\n",
              "        [47554752, 48554751],\n",
              "        [48554752, 49554751],\n",
              "        [49554752, 50554751],\n",
              "        [50554752, 51187951]]),\n",
              " array([ 5405, 20783, 14726, 18845, 14574, 14018, 23757, 18590, 17968,\n",
              "        21262, 26127, 25215, 16668, 18729, 20234, 16641, 21438, 24586,\n",
              "        26532, 20858, 24993, 22554, 17955, 21916, 16732, 16984, 19596,\n",
              "        25775, 27197, 25540, 28791, 30572, 33542, 28595, 14951]))"
            ]
          },
          "metadata": {
            "tags": []
          },
          "execution_count": 19
        }
      ]
    },
    {
      "cell_type": "code",
      "metadata": {
        "id": "fkQD86D5N8zD",
        "colab_type": "code",
        "colab": {},
        "outputId": "39059918-2741-4204-afac-c7d0adcc4c4b"
      },
      "source": [
        "### 19\n",
        "plt.plot(windowed_Fst[1][:,0], windowed_Fst[0],'-')"
      ],
      "execution_count": null,
      "outputs": [
        {
          "output_type": "execute_result",
          "data": {
            "text/plain": [
              "[<matplotlib.lines.Line2D at 0x1c22c40cd0>]"
            ]
          },
          "metadata": {
            "tags": []
          },
          "execution_count": 20
        },
        {
          "output_type": "display_data",
          "data": {
            "image/png": "[encoded data removed]",
            "text/plain": [
              "<Figure size 432x288 with 1 Axes>"
            ]
          },
          "metadata": {
            "tags": [],
            "needs_background": "light"
          }
        }
      ]
    },
    {
      "cell_type": "markdown",
      "metadata": {
        "id": "AdUKjXsnN8zG",
        "colab_type": "text"
      },
      "source": [
        "We can also bin it by contiguous segments in the bed file:"
      ]
    },
    {
      "cell_type": "code",
      "metadata": {
        "id": "Z4xRu9LJN8zH",
        "colab_type": "code",
        "colab": {}
      },
      "source": [
        "### 20\n",
        "bed_windows = np.array([mask_bed[1]+1,mask_bed[2]]).transpose()"
      ],
      "execution_count": null,
      "outputs": []
    },
    {
      "cell_type": "code",
      "metadata": {
        "id": "d2fAME8AN8zJ",
        "colab_type": "code",
        "colab": {}
      },
      "source": [
        "### 21\n",
        "bed_fst, windows, counts = allel.windowed_weir_cockerham_fst(strict_positions, \n",
        "                        strict_genotypes, [subpops[pop] for pop in subpops.keys()], \n",
        "                        windows=bed_windows)"
      ],
      "execution_count": null,
      "outputs": []
    },
    {
      "cell_type": "markdown",
      "metadata": {
        "id": "vIR-nEC3N8zL",
        "colab_type": "text"
      },
      "source": [
        "We can decide to only plot windows with sufficient counts, since windows with few snps will have very variable estimates of $F_{ST}$"
      ]
    },
    {
      "cell_type": "code",
      "metadata": {
        "id": "3j6ADjv4N8zM",
        "colab_type": "code",
        "colab": {}
      },
      "source": [
        "### 22\n",
        "has_enough_snps = (counts > 300)"
      ],
      "execution_count": null,
      "outputs": []
    },
    {
      "cell_type": "code",
      "metadata": {
        "id": "opXdmHoJN8zO",
        "colab_type": "code",
        "colab": {},
        "outputId": "63a8b276-6ea6-4990-f201-39b0022351c8"
      },
      "source": [
        "### 23\n",
        "plt.plot(windows[:,0].compress(has_enough_snps), bed_fst.compress(has_enough_snps),'.')"
      ],
      "execution_count": null,
      "outputs": [
        {
          "output_type": "execute_result",
          "data": {
            "text/plain": [
              "[<matplotlib.lines.Line2D at 0x1c22b5ed50>]"
            ]
          },
          "metadata": {
            "tags": []
          },
          "execution_count": 24
        },
        {
          "output_type": "display_data",
          "data": {
            "image/png": "[encoded data removed]",
            "text/plain": [
              "<Figure size 432x288 with 1 Axes>"
            ]
          },
          "metadata": {
            "tags": [],
            "needs_background": "light"
          }
        }
      ]
    },
    {
      "cell_type": "markdown",
      "metadata": {
        "id": "bvJk8hkyN8zQ",
        "colab_type": "text"
      },
      "source": [
        "It's not completely straightforward to figure out what is going on here. There is variation in the amount of $F_{ST}$, but it's hard to tell with our current knowledge whether this is due to noise, to genetic drift, or to the action of natural selection. \n",
        "\n",
        "## $F_{ST}$ across populations\n",
        "Instead of comparing $F_{ST}$ for regions along the genome, we might want to compare pairwise $F_{ST}$ across human populations. As discussed in class, there are a few different approaches to compute $F_{ST}$. We'll first consider two approaches used by Hudson and Patterson, because they are already coded in scikit-allel. \n",
        "\n",
        "Notice that both functions return a numerator and a denominator, and that we compute the ratio $$\\frac{E[\\text{num}]}{E[\\text{denom}]},$$ rather than $$E[\\frac{\\text{num}}{\\text{denom}}]$$ \n",
        "This is related to [this paper](https://www.ncbi.nlm.nih.gov/pmc/articles/PMC3759727/), which you should have read by now! "
      ]
    },
    {
      "cell_type": "code",
      "metadata": {
        "id": "ydMh4NGjN8zQ",
        "colab_type": "code",
        "colab": {},
        "outputId": "39885e3f-6bfd-4721-93df-782c0af7a73e"
      },
      "source": [
        "hudson "
      ],
      "execution_count": null,
      "outputs": [
        {
          "output_type": "execute_result",
          "data": {
            "text/plain": [
              "{('GWD', 'YRI'): 0.0071633632781374435,\n",
              " ('GWD', 'ESN'): 0.00884672686601873,\n",
              " ('GWD', 'LWK'): 0.011445718092056667,\n",
              " ('GWD', 'ACB'): 0.0065133343811240255,\n",
              " ('GWD', 'MSL'): 0.004113584232991811,\n",
              " ('GWD', 'ASW'): 0.012549835778929016,\n",
              " ('GWD', 'CHS'): 0.17199637810012705,\n",
              " ('GWD', 'JPT'): 0.17294495088537976,\n",
              " ('GWD', 'CHB'): 0.1706231372236463,\n",
              " ('GWD', 'KHV'): 0.16816273859356268,\n",
              " ('GWD', 'CDX'): 0.1717663201678092,\n",
              " ('GWD', 'TSI'): 0.13011856397149027,\n",
              " ('GWD', 'IBS'): 0.13133601917671686,\n",
              " ('GWD', 'FIN'): 0.13878066599952427,\n",
              " ('GWD', 'CEU'): 0.13497729353954893,\n",
              " ('GWD', 'GBR'): 0.13585367660678915,\n",
              " ('GWD', 'GIH'): 0.12738824191215398,\n",
              " ('GWD', 'STU'): 0.12608710096020195,\n",
              " ('GWD', 'ITU'): 0.12597591057328614,\n",
              " ('GWD', 'PJL'): 0.12272443116168029,\n",
              " ('GWD', 'BEB'): 0.12581017350497928,\n",
              " ('GWD', 'PUR'): 0.10118658229041319,\n",
              " ('GWD', 'CLM'): 0.11474350023470241,\n",
              " ('GWD', 'PEL'): 0.18103364891326426,\n",
              " ('GWD', 'MXL'): 0.1395356950729694,\n",
              " ('YRI', 'ESN'): 0.0009623107591334337,\n",
              " ('YRI', 'LWK'): 0.008725681085879365,\n",
              " ('YRI', 'ACB'): 0.0034079789384852434,\n",
              " ('YRI', 'MSL'): 0.004177988091403857,\n",
              " ('YRI', 'ASW'): 0.01197667714731511,\n",
              " ('YRI', 'CHS'): 0.17587528942288025,\n",
              " ('YRI', 'JPT'): 0.17716624064385436,\n",
              " ('YRI', 'CHB'): 0.1745256512085788,\n",
              " ('YRI', 'KHV'): 0.1722055452977756,\n",
              " ('YRI', 'CDX'): 0.17590775917755933,\n",
              " ('YRI', 'TSI'): 0.13526505378326145,\n",
              " ('YRI', 'IBS'): 0.13652160511832892,\n",
              " ('YRI', 'FIN'): 0.14391030122925705,\n",
              " ('YRI', 'CEU'): 0.14005377923690546,\n",
              " ('YRI', 'GBR'): 0.14102797237569362,\n",
              " ('YRI', 'GIH'): 0.13218931868943945,\n",
              " ('YRI', 'STU'): 0.13062212345075352,\n",
              " ('YRI', 'ITU'): 0.13080985483738408,\n",
              " ('YRI', 'PJL'): 0.12771155861791753,\n",
              " ('YRI', 'BEB'): 0.13046832534734507,\n",
              " ('YRI', 'PUR'): 0.10570450710840615,\n",
              " ('YRI', 'CLM'): 0.11972003236858947,\n",
              " ('YRI', 'PEL'): 0.18544957735954457,\n",
              " ('YRI', 'MXL'): 0.14405003557587237,\n",
              " ('ESN', 'LWK'): 0.008704880690983356,\n",
              " ('ESN', 'ACB'): 0.004542348385624134,\n",
              " ('ESN', 'MSL'): 0.005428247851894793,\n",
              " ('ESN', 'ASW'): 0.012488004779098364,\n",
              " ('ESN', 'CHS'): 0.1767596750709972,\n",
              " ('ESN', 'JPT'): 0.17836928792345297,\n",
              " ('ESN', 'CHB'): 0.17536298481130896,\n",
              " ('ESN', 'KHV'): 0.17311729037880247,\n",
              " ('ESN', 'CDX'): 0.17693912797349085,\n",
              " ('ESN', 'TSI'): 0.1362831407019483,\n",
              " ('ESN', 'IBS'): 0.1378626592050092,\n",
              " ('ESN', 'FIN'): 0.14510201741480458,\n",
              " ('ESN', 'CEU'): 0.1412085593640734,\n",
              " ('ESN', 'GBR'): 0.1423728732987639,\n",
              " ('ESN', 'GIH'): 0.1337387216833699,\n",
              " ('ESN', 'STU'): 0.13211067440115112,\n",
              " ('ESN', 'ITU'): 0.132281738683592,\n",
              " ('ESN', 'PJL'): 0.12907048880466285,\n",
              " ('ESN', 'BEB'): 0.13173806505668606,\n",
              " ('ESN', 'PUR'): 0.10703625970760866,\n",
              " ('ESN', 'CLM'): 0.12115775883068008,\n",
              " ('ESN', 'PEL'): 0.1873522365284135,\n",
              " ('ESN', 'MXL'): 0.14562016348247522,\n",
              " ('LWK', 'ACB'): 0.0073932924352787,\n",
              " ('LWK', 'MSL'): 0.009753797718500197,\n",
              " ('LWK', 'ASW'): 0.012064601079331955,\n",
              " ('LWK', 'CHS'): 0.16561197042055015,\n",
              " ('LWK', 'JPT'): 0.1666227185256915,\n",
              " ('LWK', 'CHB'): 0.16418756684800542,\n",
              " ('LWK', 'KHV'): 0.16176013978817527,\n",
              " ('LWK', 'CDX'): 0.16526410068407676,\n",
              " ('LWK', 'TSI'): 0.12366775842227844,\n",
              " ('LWK', 'IBS'): 0.12528624571893757,\n",
              " ('LWK', 'FIN'): 0.13269084573016623,\n",
              " ('LWK', 'CEU'): 0.1283130851418239,\n",
              " ('LWK', 'GBR'): 0.12956579784026218,\n",
              " ('LWK', 'GIH'): 0.1208509782867425,\n",
              " ('LWK', 'STU'): 0.11986158906722462,\n",
              " ('LWK', 'ITU'): 0.11961365865724341,\n",
              " ('LWK', 'PJL'): 0.11666518083235258,\n",
              " ('LWK', 'BEB'): 0.11957871390223158,\n",
              " ('LWK', 'PUR'): 0.09586616296471563,\n",
              " ('LWK', 'CLM'): 0.10922948229398749,\n",
              " ('LWK', 'PEL'): 0.17533900765304192,\n",
              " ('LWK', 'MXL'): 0.13369370571218642,\n",
              " ('ACB', 'MSL'): 0.005034349508520746,\n",
              " ('ACB', 'ASW'): 0.002911012924869924,\n",
              " ('ACB', 'CHS'): 0.14824099491893172,\n",
              " ('ACB', 'JPT'): 0.14939823774261887,\n",
              " ('ACB', 'CHB'): 0.1469591249808738,\n",
              " ('ACB', 'KHV'): 0.14482104572812732,\n",
              " ('ACB', 'CDX'): 0.14858916870873115,\n",
              " ('ACB', 'TSI'): 0.10275251751846153,\n",
              " ('ACB', 'IBS'): 0.1038532624319892,\n",
              " ('ACB', 'FIN'): 0.1107185216256337,\n",
              " ('ACB', 'CEU'): 0.10675427476180456,\n",
              " ('ACB', 'GBR'): 0.10782744366201953,\n",
              " ('ACB', 'GIH'): 0.10235464841478059,\n",
              " ('ACB', 'STU'): 0.10161379514834927,\n",
              " ('ACB', 'ITU'): 0.10174832402544884,\n",
              " ('ACB', 'PJL'): 0.09777200870121426,\n",
              " ('ACB', 'BEB'): 0.10138500990662294,\n",
              " ('ACB', 'PUR'): 0.07668706023678823,\n",
              " ('ACB', 'CLM'): 0.08962699524421332,\n",
              " ('ACB', 'PEL'): 0.1567495342311537,\n",
              " ('ACB', 'MXL'): 0.11392435197050374,\n",
              " ('MSL', 'ASW'): 0.01233681700360659,\n",
              " ('MSL', 'CHS'): 0.17391407350456564,\n",
              " ('MSL', 'JPT'): 0.17520756830359635,\n",
              " ('MSL', 'CHB'): 0.1724923465515917,\n",
              " ('MSL', 'KHV'): 0.1700843990639984,\n",
              " ('MSL', 'CDX'): 0.1735825724111357,\n",
              " ('MSL', 'TSI'): 0.133443986302361,\n",
              " ('MSL', 'IBS'): 0.13489587285483604,\n",
              " ('MSL', 'FIN'): 0.14185071915221303,\n",
              " ('MSL', 'CEU'): 0.13819596769886863,\n",
              " ('MSL', 'GBR'): 0.13920526269262665,\n",
              " ('MSL', 'GIH'): 0.13032794454676636,\n",
              " ('MSL', 'STU'): 0.12904624795082115,\n",
              " ('MSL', 'ITU'): 0.1287431361698545,\n",
              " ('MSL', 'PJL'): 0.1258173541509231,\n",
              " ('MSL', 'BEB'): 0.12859077121518553,\n",
              " ('MSL', 'PUR'): 0.10441189593810447,\n",
              " ('MSL', 'CLM'): 0.11795650031234937,\n",
              " ('MSL', 'PEL'): 0.18349924127551237,\n",
              " ('MSL', 'MXL'): 0.14216379777680035,\n",
              " ('ASW', 'CHS'): 0.1267703342029579,\n",
              " ('ASW', 'JPT'): 0.127681504858828,\n",
              " ('ASW', 'CHB'): 0.12517790007997892,\n",
              " ('ASW', 'KHV'): 0.12383172936670472,\n",
              " ('ASW', 'CDX'): 0.1276593089979267,\n",
              " ('ASW', 'TSI'): 0.07676876381107928,\n",
              " ('ASW', 'IBS'): 0.07769491674487422,\n",
              " ('ASW', 'FIN'): 0.08382735651296226,\n",
              " ('ASW', 'CEU'): 0.07982331489289726,\n",
              " ('ASW', 'GBR'): 0.08064551499710866,\n",
              " ('ASW', 'GIH'): 0.07898091106552045,\n",
              " ('ASW', 'STU'): 0.07884768036204032,\n",
              " ('ASW', 'ITU'): 0.07918607905430329,\n",
              " ('ASW', 'PJL'): 0.0742546332246229,\n",
              " ('ASW', 'BEB'): 0.07878128179977942,\n",
              " ('ASW', 'PUR'): 0.05313725345054674,\n",
              " ('ASW', 'CLM'): 0.06421241131360242,\n",
              " ('ASW', 'PEL'): 0.12992309547871425,\n",
              " ('ASW', 'MXL'): 0.0872308447911636,\n",
              " ('CHS', 'JPT'): 0.009353832028413039,\n",
              " ('CHS', 'CHB'): 0.0005447048183424745,\n",
              " ('CHS', 'KHV'): 0.004130197055948896,\n",
              " ('CHS', 'CDX'): 0.005280421787515423,\n",
              " ('CHS', 'TSI'): 0.10765290773705637,\n",
              " ('CHS', 'IBS'): 0.10860507695268543,\n",
              " ('CHS', 'FIN'): 0.09946099119680699,\n",
              " ('CHS', 'CEU'): 0.10858427769916659,\n",
              " ('CHS', 'GBR'): 0.10997597611878893,\n",
              " ('CHS', 'GIH'): 0.07995904980747003,\n",
              " ('CHS', 'STU'): 0.07235116549206351,\n",
              " ('CHS', 'ITU'): 0.07358727084995625,\n",
              " ('CHS', 'PJL'): 0.07528597608944633,\n",
              " ('CHS', 'BEB'): 0.059297533255441855,\n",
              " ('CHS', 'PUR'): 0.08802175966288432,\n",
              " ('CHS', 'CLM'): 0.0830887035517654,\n",
              " ('CHS', 'PEL'): 0.10113032258488375,\n",
              " ('CHS', 'MXL'): 0.07648365338808151,\n",
              " ('JPT', 'CHB'): 0.008514121497950162,\n",
              " ('JPT', 'KHV'): 0.01662600608412848,\n",
              " ('JPT', 'CDX'): 0.019094447567070235,\n",
              " ('JPT', 'TSI'): 0.10384679580349924,\n",
              " ('JPT', 'IBS'): 0.10490188161729559,\n",
              " ('JPT', 'FIN'): 0.09594384962364984,\n",
              " ('JPT', 'CEU'): 0.10522299618496514,\n",
              " ('JPT', 'GBR'): 0.10652622064635499,\n",
              " ('JPT', 'GIH'): 0.0783903289768199,\n",
              " ('JPT', 'STU'): 0.07193535878730592,\n",
              " ('JPT', 'ITU'): 0.07379572856217045,\n",
              " ('JPT', 'PJL'): 0.07454764428844907,\n",
              " ('JPT', 'BEB'): 0.059827942398583654,\n",
              " ('JPT', 'PUR'): 0.08572896840794537,\n",
              " ('JPT', 'CLM'): 0.0806637219838767,\n",
              " ('JPT', 'PEL'): 0.09953268525927997,\n",
              " ('JPT', 'MXL'): 0.07434080655932816,\n",
              " ('CHB', 'KHV'): 0.006512352112769548,\n",
              " ('CHB', 'CDX'): 0.00811548422544967,\n",
              " ('CHB', 'TSI'): 0.10481682574713728,\n",
              " ('CHB', 'IBS'): 0.10601571395913086,\n",
              " ('CHB', 'FIN'): 0.09704180150663999,\n",
              " ('CHB', 'CEU'): 0.10639331555830106,\n",
              " ('CHB', 'GBR'): 0.10727068285729463,\n",
              " ('CHB', 'GIH'): 0.0779325001161173,\n",
              " ('CHB', 'STU'): 0.07030354212672006,\n",
              " ('CHB', 'ITU'): 0.0716179815774233,\n",
              " ('CHB', 'PJL'): 0.07344227664771322,\n",
              " ('CHB', 'BEB'): 0.05745610729498632,\n",
              " ('CHB', 'PUR'): 0.08592123768668741,\n",
              " ('CHB', 'CLM'): 0.08095977680636088,\n",
              " ('CHB', 'PEL'): 0.09991634796102926,\n",
              " ('CHB', 'MXL'): 0.07481196604432859,\n",
              " ('KHV', 'CDX'): 0.0015271788948951392,\n",
              " ('KHV', 'TSI'): 0.10610345333523861,\n",
              " ('KHV', 'IBS'): 0.10727294061170257,\n",
              " ('KHV', 'FIN'): 0.09942792160077828,\n",
              " ('KHV', 'CEU'): 0.10719091033419867,\n",
              " ('KHV', 'GBR'): 0.10853969951990494,\n",
              " ('KHV', 'GIH'): 0.07724705979243136,\n",
              " ('KHV', 'STU'): 0.06898217430130518,\n",
              " ('KHV', 'ITU'): 0.07009051533181962,\n",
              " ('KHV', 'PJL'): 0.07226314923332765,\n",
              " ('KHV', 'BEB'): 0.05624011647600724,\n",
              " ('KHV', 'PUR'): 0.08748495907108762,\n",
              " ('KHV', 'CLM'): 0.08384565686490697,\n",
              " ('KHV', 'PEL'): 0.10701071957794984,\n",
              " ('KHV', 'MXL'): 0.07984092465702738,\n",
              " ('CDX', 'TSI'): 0.11159631900088225,\n",
              " ('CDX', 'IBS'): 0.11235031370696598,\n",
              " ('CDX', 'FIN'): 0.10420014116298872,\n",
              " ('CDX', 'CEU'): 0.1123496395064138,\n",
              " ('CDX', 'GBR'): 0.1138837868861392,\n",
              " ('CDX', 'GIH'): 0.08243794140725513,\n",
              " ('CDX', 'STU'): 0.07407679626642073,\n",
              " ('CDX', 'ITU'): 0.07518875476883664,\n",
              " ('CDX', 'PJL'): 0.07738142986948994,\n",
              " ('CDX', 'BEB'): 0.060967052773589624,\n",
              " ('CDX', 'PUR'): 0.09180560256623765,\n",
              " ('CDX', 'CLM'): 0.08780661964490279,\n",
              " ('CDX', 'PEL'): 0.10915379869589531,\n",
              " ('CDX', 'MXL'): 0.08323301675178689,\n",
              " ('TSI', 'IBS'): 0.0016238415382806206,\n",
              " ('TSI', 'FIN'): 0.011746335362682193,\n",
              " ('TSI', 'CEU'): 0.0027905053544277246,\n",
              " ('TSI', 'GBR'): 0.003513183756091166,\n",
              " ('TSI', 'GIH'): 0.03584578745591674,\n",
              " ('TSI', 'STU'): 0.03984734330194004,\n",
              " ('TSI', 'ITU'): 0.04103298428130235,\n",
              " ('TSI', 'PJL'): 0.029088927299623736,\n",
              " ('TSI', 'BEB'): 0.04121735996507266,\n",
              " ('TSI', 'PUR'): 0.008298107129227609,\n",
              " ('TSI', 'CLM'): 0.015207417268507979,\n",
              " ('TSI', 'PEL'): 0.10284646827596809,\n",
              " ('TSI', 'MXL'): 0.043365494929069826,\n",
              " ('IBS', 'FIN'): 0.011401207076534487,\n",
              " ('IBS', 'CEU'): 0.0027798732984971224,\n",
              " ('IBS', 'GBR'): 0.002315850452847469,\n",
              " ('IBS', 'GIH'): 0.03758262255237242,\n",
              " ('IBS', 'STU'): 0.04189791561456092,\n",
              " ('IBS', 'ITU'): 0.042916427155736125,\n",
              " ('IBS', 'PJL'): 0.031014412937585983,\n",
              " ('IBS', 'BEB'): 0.04297863303114709,\n",
              " ('IBS', 'PUR'): 0.00790026921463337,\n",
              " ('IBS', 'CLM'): 0.01462318556675116,\n",
              " ('IBS', 'PEL'): 0.10298584201927884,\n",
              " ('IBS', 'MXL'): 0.04342283345233745,\n",
              " ('FIN', 'CEU'): 0.006787948040628426,\n",
              " ('FIN', 'GBR'): 0.007286920145889026,\n",
              " ('FIN', 'GIH'): 0.036057543084928485,\n",
              " ('FIN', 'STU'): 0.03993511393248624,\n",
              " ('FIN', 'ITU'): 0.0409075657567153,\n",
              " ('FIN', 'PJL'): 0.029630842527371463,\n",
              " ('FIN', 'BEB'): 0.03955109263237244,\n",
              " ('FIN', 'PUR'): 0.015360443884062042,\n",
              " ('FIN', 'CLM'): 0.020324718379877215,\n",
              " ('FIN', 'PEL'): 0.09527383627059341,\n",
              " ('FIN', 'MXL'): 0.041182725173217694,\n",
              " ('CEU', 'GBR'): 0.0002099065124128106,\n",
              " ('CEU', 'GIH'): 0.03575147454616533,\n",
              " ('CEU', 'STU'): 0.04118635279749327,\n",
              " ('CEU', 'ITU'): 0.04202611787574157,\n",
              " ('CEU', 'PJL'): 0.029641560804080234,\n",
              " ('CEU', 'BEB'): 0.04147963706383539,\n",
              " ('CEU', 'PUR'): 0.009870413629236439,\n",
              " ('CEU', 'CLM'): 0.015535509957533972,\n",
              " ('CEU', 'PEL'): 0.10127088419804654,\n",
              " ('CEU', 'MXL'): 0.04252187299575881,\n",
              " ('GBR', 'GIH'): 0.037152242385451395,\n",
              " ('GBR', 'STU'): 0.04217016238490805,\n",
              " ('GBR', 'ITU'): 0.04289265214454689,\n",
              " ('GBR', 'PJL'): 0.030431052723039226,\n",
              " ('GBR', 'BEB'): 0.042423349364956967,\n",
              " ('GBR', 'PUR'): 0.009663868065605987,\n",
              " ('GBR', 'CLM'): 0.015529616835210707,\n",
              " ('GBR', 'PEL'): 0.10095357198177579,\n",
              " ('GBR', 'MXL'): 0.04222838708457783,\n",
              " ('GIH', 'STU'): 0.004007495106373639,\n",
              " ('GIH', 'ITU'): 0.004219992703066206,\n",
              " ('GIH', 'PJL'): 0.003990606235545883,\n",
              " ('GIH', 'BEB'): 0.005174286561697928,\n",
              " ('GIH', 'PUR'): 0.029868031708890845,\n",
              " ('GIH', 'CLM'): 0.030353703167858403,\n",
              " ('GIH', 'PEL'): 0.0885487034251473,\n",
              " ('GIH', 'MXL'): 0.04479673576833734,\n",
              " ('STU', 'ITU'): 0.000903068231441476,\n",
              " ('STU', 'PJL'): 0.002877796315808808,\n",
              " ('STU', 'BEB'): 0.0023564377690976834,\n",
              " ('STU', 'PUR'): 0.03236586966165209,\n",
              " ('STU', 'CLM'): 0.03272384478784001,\n",
              " ('STU', 'PEL'): 0.08751044017075184,\n",
              " ('STU', 'MXL'): 0.04520809930068117,\n",
              " ('ITU', 'PJL'): 0.0025917042674214966,\n",
              " ('ITU', 'BEB'): 0.0025115519284525795,\n",
              " ('ITU', 'PUR'): 0.033496187798201835,\n",
              " ('ITU', 'CLM'): 0.0336928840688092,\n",
              " ('ITU', 'PEL'): 0.0889948135078014,\n",
              " ('ITU', 'MXL'): 0.046305415746693,\n",
              " ('PJL', 'BEB'): 0.0037313230403366424,\n",
              " ('PJL', 'PUR'): 0.02410857526850935,\n",
              " ('PJL', 'CLM'): 0.02509693526096222,\n",
              " ('PJL', 'PEL'): 0.08537663472707108,\n",
              " ('PJL', 'MXL'): 0.03992115483777425,\n",
              " ('BEB', 'PUR'): 0.03306895576303357,\n",
              " ('BEB', 'CLM'): 0.03259958412606792,\n",
              " ('BEB', 'PEL'): 0.08444703525987082,\n",
              " ('BEB', 'MXL'): 0.042963295739381804,\n",
              " ('PUR', 'CLM'): 0.00454648115478521,\n",
              " ('PUR', 'PEL'): 0.0690619251867385,\n",
              " ('PUR', 'MXL'): 0.02340238363090793,\n",
              " ('CLM', 'PEL'): 0.048873229621794384,\n",
              " ('CLM', 'MXL'): 0.011986384089046601,\n",
              " ('PEL', 'MXL'): 0.021156939569003042}"
            ]
          },
          "metadata": {
            "tags": []
          },
          "execution_count": 295
        }
      ]
    },
    {
      "cell_type": "code",
      "metadata": {
        "id": "nKe7RRb4N8zT",
        "colab_type": "code",
        "colab": {},
        "outputId": "bbf48003-76fa-4451-f6bc-04545bf2202c"
      },
      "source": [
        "### 24\n",
        "hudson = {}\n",
        "hudson_SD = {}\n",
        "patterson = {}\n",
        "patterson_SD = {}\n",
        "nblocks = 1\n",
        "blocklength = (strict_positions[-1]-strict_positions[0])//nblocks\n",
        "print(\"block length = \", blocklength)\n",
        "\n",
        "\n",
        "ac_subpops = strict_genotypes.count_alleles_subpops(subpops, max_allele=1)\n",
        "\n",
        "for p1,p2 in itertools.combinations(sorted_pops,2):\n",
        "\n",
        "    num, den = allel.hudson_fst(ac_subpops[p1], ac_subpops[p2], fill=np.nan)\n",
        "    fst = np.nansum(num) / np.nansum(den)\n",
        "    hudson[(p1,p2)] = fst\n",
        "    \n",
        "    num, den = allel.patterson_fst(ac_subpops[p1], ac_subpops[p2])\n",
        "    fst = np.nansum(num) / np.nansum(den)\n",
        "    patterson[(p1,p2)] = fst\n",
        "    \n",
        "    "
      ],
      "execution_count": null,
      "outputs": [
        {
          "output_type": "stream",
          "text": [
            "block length =  34633199\n"
          ],
          "name": "stdout"
        }
      ]
    },
    {
      "cell_type": "code",
      "metadata": {
        "id": "oTVFw-_3N8zW",
        "colab_type": "code",
        "colab": {}
      },
      "source": [
        "### 25\n",
        "fstarray = np.zeros((len(populations),len(populations)))\n",
        "counter = 0\n",
        "for npop1,pop1 in enumerate(sorted_pops):\n",
        "    for npop2,pop2 in enumerate(sorted_pops):\n",
        "        if (npop1 < npop2):\n",
        "            fstarray[npop1,npop2] = hudson[(pop1,pop2)]\n",
        "        elif (npop1 > npop2):\n",
        "            fstarray[npop1,npop2] = patterson[(pop2,pop1)]\n"
      ],
      "execution_count": null,
      "outputs": []
    },
    {
      "cell_type": "markdown",
      "metadata": {
        "id": "JSr_RL5YN8zY",
        "colab_type": "text"
      },
      "source": [
        "Unless you've spend much time looking at the 1000 Genomes Data, you may not be familiar with the three-letter labels that are used to identify populations, so we'll extract those here. \n",
        "\n",
        "Population descriptions can be found [here](http://ftp-trace.ncbi.nih.gov/1000genomes/ftp/20131219.populations.tsv)\n",
        "We'll record information about the full names of each population label, and the region of each population, so that we can sort populations by regions "
      ]
    },
    {
      "cell_type": "code",
      "metadata": {
        "id": "Jgf40rxSN8zY",
        "colab_type": "code",
        "colab": {},
        "outputId": "17154e7a-1d1c-429e-bf63-e59d8a185191"
      },
      "source": [
        "### 26\n",
        "population_id_file_name = 'pop_id.csv'\n",
        "population_id_file_path = os.path.join(os.sep, 'Users', 'aa25desh' , 'data1000gen', population_id_file_name)\n",
        "pandas.read_csv(population_id_file_path,sep = '\\t')[['Population Code',\n",
        "                                                     'Population Description',\n",
        "                                                     'Super Population']]\n"
      ],
      "execution_count": null,
      "outputs": [
        {
          "output_type": "execute_result",
          "data": {
            "text/html": [
              "<div>\n",
              "<style scoped>\n",
              "    .dataframe tbody tr th:only-of-type {\n",
              "        vertical-align: middle;\n",
              "    }\n",
              "\n",
              "    .dataframe tbody tr th {\n",
              "        vertical-align: top;\n",
              "    }\n",
              "\n",
              "    .dataframe thead th {\n",
              "        text-align: right;\n",
              "    }\n",
              "</style>\n",
              "<table border=\"1\" class=\"dataframe\">\n",
              "  <thead>\n",
              "    <tr style=\"text-align: right;\">\n",
              "      <th></th>\n",
              "      <th>Population Code</th>\n",
              "      <th>Population Description</th>\n",
              "      <th>Super Population</th>\n",
              "    </tr>\n",
              "  </thead>\n",
              "  <tbody>\n",
              "    <tr>\n",
              "      <td>0</td>\n",
              "      <td>CDX</td>\n",
              "      <td>Chinese Dai in Xishuangbanna, China</td>\n",
              "      <td>EAS</td>\n",
              "    </tr>\n",
              "    <tr>\n",
              "      <td>1</td>\n",
              "      <td>CHB</td>\n",
              "      <td>Han Chinese in Bejing, China</td>\n",
              "      <td>EAS</td>\n",
              "    </tr>\n",
              "    <tr>\n",
              "      <td>2</td>\n",
              "      <td>JPT</td>\n",
              "      <td>Japanese in Tokyo, Japan</td>\n",
              "      <td>EAS</td>\n",
              "    </tr>\n",
              "    <tr>\n",
              "      <td>3</td>\n",
              "      <td>KHV</td>\n",
              "      <td>Kinh in Ho Chi Minh City, Vietnam</td>\n",
              "      <td>EAS</td>\n",
              "    </tr>\n",
              "    <tr>\n",
              "      <td>4</td>\n",
              "      <td>CHS</td>\n",
              "      <td>Southern Han Chinese, China</td>\n",
              "      <td>EAS</td>\n",
              "    </tr>\n",
              "    <tr>\n",
              "      <td>5</td>\n",
              "      <td>BEB</td>\n",
              "      <td>Bengali in Bangladesh</td>\n",
              "      <td>SAS</td>\n",
              "    </tr>\n",
              "    <tr>\n",
              "      <td>6</td>\n",
              "      <td>GIH</td>\n",
              "      <td>Gujarati Indian in Houston,TX</td>\n",
              "      <td>SAS</td>\n",
              "    </tr>\n",
              "    <tr>\n",
              "      <td>7</td>\n",
              "      <td>ITU</td>\n",
              "      <td>Indian Telugu in the UK</td>\n",
              "      <td>SAS</td>\n",
              "    </tr>\n",
              "    <tr>\n",
              "      <td>8</td>\n",
              "      <td>PJL</td>\n",
              "      <td>Punjabi in Lahore,Pakistan</td>\n",
              "      <td>SAS</td>\n",
              "    </tr>\n",
              "    <tr>\n",
              "      <td>9</td>\n",
              "      <td>STU</td>\n",
              "      <td>Sri Lankan Tamil in the UK</td>\n",
              "      <td>SAS</td>\n",
              "    </tr>\n",
              "    <tr>\n",
              "      <td>10</td>\n",
              "      <td>ASW</td>\n",
              "      <td>African Ancestry in Southwest US</td>\n",
              "      <td>AFR</td>\n",
              "    </tr>\n",
              "    <tr>\n",
              "      <td>11</td>\n",
              "      <td>ACB</td>\n",
              "      <td>African Caribbean in Barbados</td>\n",
              "      <td>AFR</td>\n",
              "    </tr>\n",
              "    <tr>\n",
              "      <td>12</td>\n",
              "      <td>ESN</td>\n",
              "      <td>Esan in Nigeria</td>\n",
              "      <td>AFR</td>\n",
              "    </tr>\n",
              "    <tr>\n",
              "      <td>13</td>\n",
              "      <td>GWD</td>\n",
              "      <td>Gambian in Western Division, The Gambia</td>\n",
              "      <td>AFR</td>\n",
              "    </tr>\n",
              "    <tr>\n",
              "      <td>14</td>\n",
              "      <td>LWK</td>\n",
              "      <td>Luhya in Webuye, Kenya</td>\n",
              "      <td>AFR</td>\n",
              "    </tr>\n",
              "    <tr>\n",
              "      <td>15</td>\n",
              "      <td>MSL</td>\n",
              "      <td>Mende in Sierra Leone</td>\n",
              "      <td>AFR</td>\n",
              "    </tr>\n",
              "    <tr>\n",
              "      <td>16</td>\n",
              "      <td>YRI</td>\n",
              "      <td>Yoruba in Ibadan, Nigeria</td>\n",
              "      <td>AFR</td>\n",
              "    </tr>\n",
              "    <tr>\n",
              "      <td>17</td>\n",
              "      <td>GBR</td>\n",
              "      <td>British in England and Scotland</td>\n",
              "      <td>EUR</td>\n",
              "    </tr>\n",
              "    <tr>\n",
              "      <td>18</td>\n",
              "      <td>FIN</td>\n",
              "      <td>Finnish in Finland</td>\n",
              "      <td>EUR</td>\n",
              "    </tr>\n",
              "    <tr>\n",
              "      <td>19</td>\n",
              "      <td>IBS</td>\n",
              "      <td>Iberian populations in Spain</td>\n",
              "      <td>EUR</td>\n",
              "    </tr>\n",
              "    <tr>\n",
              "      <td>20</td>\n",
              "      <td>TSI</td>\n",
              "      <td>Toscani in Italy</td>\n",
              "      <td>EUR</td>\n",
              "    </tr>\n",
              "    <tr>\n",
              "      <td>21</td>\n",
              "      <td>CEU</td>\n",
              "      <td>Utah residents with Northern and Western Europ...</td>\n",
              "      <td>EUR</td>\n",
              "    </tr>\n",
              "    <tr>\n",
              "      <td>22</td>\n",
              "      <td>CLM</td>\n",
              "      <td>Colombian in Medellin, Colombia</td>\n",
              "      <td>AMR</td>\n",
              "    </tr>\n",
              "    <tr>\n",
              "      <td>23</td>\n",
              "      <td>MXL</td>\n",
              "      <td>Mexican Ancestry in Los Angeles, California</td>\n",
              "      <td>AMR</td>\n",
              "    </tr>\n",
              "    <tr>\n",
              "      <td>24</td>\n",
              "      <td>PEL</td>\n",
              "      <td>Peruvian in Lima, Peru</td>\n",
              "      <td>AMR</td>\n",
              "    </tr>\n",
              "    <tr>\n",
              "      <td>25</td>\n",
              "      <td>PUR</td>\n",
              "      <td>Puerto Rican in Puerto Rico</td>\n",
              "      <td>AMR</td>\n",
              "    </tr>\n",
              "    <tr>\n",
              "      <td>26</td>\n",
              "      <td>NaN</td>\n",
              "      <td>Total</td>\n",
              "      <td>NaN</td>\n",
              "    </tr>\n",
              "    <tr>\n",
              "      <td>27</td>\n",
              "      <td>NaN</td>\n",
              "      <td>NaN</td>\n",
              "      <td>NaN</td>\n",
              "    </tr>\n",
              "    <tr>\n",
              "      <td>28</td>\n",
              "      <td>NaN</td>\n",
              "      <td>NaN</td>\n",
              "      <td>NaN</td>\n",
              "    </tr>\n",
              "  </tbody>\n",
              "</table>\n",
              "</div>"
            ],
            "text/plain": [
              "   Population Code                             Population Description  \\\n",
              "0              CDX                Chinese Dai in Xishuangbanna, China   \n",
              "1              CHB                       Han Chinese in Bejing, China   \n",
              "2              JPT                           Japanese in Tokyo, Japan   \n",
              "3              KHV                  Kinh in Ho Chi Minh City, Vietnam   \n",
              "4              CHS                        Southern Han Chinese, China   \n",
              "5              BEB                              Bengali in Bangladesh   \n",
              "6              GIH                      Gujarati Indian in Houston,TX   \n",
              "7              ITU                            Indian Telugu in the UK   \n",
              "8              PJL                         Punjabi in Lahore,Pakistan   \n",
              "9              STU                         Sri Lankan Tamil in the UK   \n",
              "10             ASW                   African Ancestry in Southwest US   \n",
              "11             ACB                      African Caribbean in Barbados   \n",
              "12             ESN                                    Esan in Nigeria   \n",
              "13             GWD            Gambian in Western Division, The Gambia   \n",
              "14             LWK                             Luhya in Webuye, Kenya   \n",
              "15             MSL                              Mende in Sierra Leone   \n",
              "16             YRI                          Yoruba in Ibadan, Nigeria   \n",
              "17             GBR                    British in England and Scotland   \n",
              "18             FIN                                 Finnish in Finland   \n",
              "19             IBS                       Iberian populations in Spain   \n",
              "20             TSI                                   Toscani in Italy   \n",
              "21             CEU  Utah residents with Northern and Western Europ...   \n",
              "22             CLM                    Colombian in Medellin, Colombia   \n",
              "23             MXL        Mexican Ancestry in Los Angeles, California   \n",
              "24             PEL                             Peruvian in Lima, Peru   \n",
              "25             PUR                        Puerto Rican in Puerto Rico   \n",
              "26             NaN                                              Total   \n",
              "27             NaN                                                NaN   \n",
              "28             NaN                                                NaN   \n",
              "\n",
              "   Super Population  \n",
              "0               EAS  \n",
              "1               EAS  \n",
              "2               EAS  \n",
              "3               EAS  \n",
              "4               EAS  \n",
              "5               SAS  \n",
              "6               SAS  \n",
              "7               SAS  \n",
              "8               SAS  \n",
              "9               SAS  \n",
              "10              AFR  \n",
              "11              AFR  \n",
              "12              AFR  \n",
              "13              AFR  \n",
              "14              AFR  \n",
              "15              AFR  \n",
              "16              AFR  \n",
              "17              EUR  \n",
              "18              EUR  \n",
              "19              EUR  \n",
              "20              EUR  \n",
              "21              EUR  \n",
              "22              AMR  \n",
              "23              AMR  \n",
              "24              AMR  \n",
              "25              AMR  \n",
              "26              NaN  \n",
              "27              NaN  \n",
              "28              NaN  "
            ]
          },
          "metadata": {
            "tags": []
          },
          "execution_count": 27
        }
      ]
    },
    {
      "cell_type": "markdown",
      "metadata": {
        "id": "upNOqd54N8za",
        "colab_type": "text"
      },
      "source": [
        "Finally, plot the pairwise $F_{ST}$, with the Hudson estimator in the lower corner and the Patterson in the upper right."
      ]
    },
    {
      "cell_type": "code",
      "metadata": {
        "id": "ElXP_moVN8za",
        "colab_type": "code",
        "colab": {},
        "outputId": "6ac126ff-ff0e-483f-db4b-e015605d96a7"
      },
      "source": [
        "### 27\n",
        "plt.imshow(fstarray,interpolation='nearest',cmap= 'plasma')\n",
        "plt.colorbar()\n",
        "ax = plt.gca()\n",
        "ax.set_xticks(list(range(len(populations))));\n",
        "ax.set_yticks(list(range(len(populations))));\n",
        "ax.set_xticklabels(sorted_pops,rotation=90);\n",
        "ax.set_yticklabels(sorted_pops);\n",
        "\n",
        "[label.set_color(continentcolor[continent_by_population[sorted_pops[i]]]) \n",
        "    for i,label in enumerate(ax.get_xticklabels())];\n",
        "[label.set_color(continentcolor[continent_by_population[sorted_pops[i]]]) \n",
        "    for i,label in enumerate(ax.get_yticklabels())];"
      ],
      "execution_count": null,
      "outputs": [
        {
          "output_type": "display_data",
          "data": {
            "image/png": "[encoded data removed]",
            "text/plain": [
              "<Figure size 432x288 with 2 Axes>"
            ]
          },
          "metadata": {
            "tags": []
          }
        }
      ]
    },
    {
      "cell_type": "markdown",
      "metadata": {
        "id": "t4gbR5BdN8zc",
        "colab_type": "text"
      },
      "source": [
        "In the next cell, describe some of your observations--I see patterns of variation both within and across continents. I want at least 4 distinct qualitative observations for which you can come up with plausible explanations.\n",
        "\n",
        "Observations:\n",
        "\n"
      ]
    },
    {
      "cell_type": "markdown",
      "metadata": {
        "id": "DIlGnh7kN8zd",
        "colab_type": "text"
      },
      "source": [
        "One observation is that the two measures of $F_{ST}$ are very consistent. We can measure this explicitly:"
      ]
    },
    {
      "cell_type": "code",
      "metadata": {
        "id": "LnC_6n8lN8zd",
        "colab_type": "code",
        "colab": {},
        "outputId": "c409eacb-1c7a-4bd5-e47b-3c7f98543bdd"
      },
      "source": [
        "### 28\n",
        "fst_list_patterson = list(patterson.values())\n",
        "fst_list_hudson = list(hudson.values())\n",
        "plt.plot(fst_list_hudson, fst_list_patterson,'.')\n"
      ],
      "execution_count": null,
      "outputs": [
        {
          "output_type": "execute_result",
          "data": {
            "text/plain": [
              "[<matplotlib.lines.Line2D at 0x1c23403750>]"
            ]
          },
          "metadata": {
            "tags": []
          },
          "execution_count": 29
        },
        {
          "output_type": "display_data",
          "data": {
            "image/png": "[encoded data removed]",
            "text/plain": [
              "<Figure size 432x288 with 1 Axes>"
            ]
          },
          "metadata": {
            "tags": [],
            "needs_background": "light"
          }
        }
      ]
    },
    {
      "cell_type": "markdown",
      "metadata": {
        "id": "bCTCiRNlN8zf",
        "colab_type": "text"
      },
      "source": [
        "I find them to be perfectly correlated. Maybe the two measures are actually identical? I have not figured it out yet, but looking at the [source code](https://scikit-allel.readthedocs.io/en/stable/_modules/allel/stats/fst.html#hudson_fst) of scikit-allel.patterson_Fst (there was a TODO there on Jan 14, 2019 suggesting to try to understand whether these two estimators are exactly the same...)."
      ]
    },
    {
      "cell_type": "markdown",
      "metadata": {
        "id": "HDErimUnN8zg",
        "colab_type": "text"
      },
      "source": [
        "\n",
        "Let's try to write our own $F_{ST}$ calculator. We have the formula\n",
        "\n",
        "$$F_{ST,Sample}= \\frac{(p_1-p_2)^2}{4 p (1-p)}$$\n",
        "\n",
        "\n",
        "This suggests a pretty straightforward way to compute $F_{ST}$: we could estimate the sample frequency in each population $\\hat p_1$ and $\\hat p_2$, and an estimate of the mean frequency, such as $\\hat p = \\frac{\\hat p_1+\\hat p_2}{2}$, and $\\hat F_{ST,sample}= \\frac{(\\hat p_1-\\hat p_2)^2}{4 \\hat p (1-\\hat p)}.$ "
      ]
    },
    {
      "cell_type": "code",
      "metadata": {
        "id": "7_7Vtp_ON8zg",
        "colab_type": "code",
        "colab": {},
        "outputId": "24675373-bac8-4b88-e031-666f5624066a"
      },
      "source": [
        ""
      ],
      "execution_count": null,
      "outputs": [
        {
          "output_type": "execute_result",
          "data": {
            "text/plain": [
              "array([216, 216, 216, ..., 216, 216, 216], dtype=int32)"
            ]
          },
          "metadata": {
            "tags": []
          },
          "execution_count": 112
        }
      ]
    },
    {
      "cell_type": "code",
      "metadata": {
        "id": "mHBX35nRN8zi",
        "colab_type": "code",
        "colab": {},
        "outputId": "cfff9df7-8a76-4613-9345-b1addd1ed074"
      },
      "source": [
        ""
      ],
      "execution_count": null,
      "outputs": [
        {
          "output_type": "execute_result",
          "data": {
            "text/plain": [
              "{('GWD', 'YRI'): 0.0071633632781374435,\n",
              " ('GWD', 'ESN'): 0.00884672686601873,\n",
              " ('GWD', 'LWK'): 0.011445718092056667,\n",
              " ('GWD', 'ACB'): 0.0065133343811240255,\n",
              " ('GWD', 'MSL'): 0.004113584232991811,\n",
              " ('GWD', 'ASW'): 0.012549835778929016,\n",
              " ('GWD', 'CHS'): 0.17199637810012705,\n",
              " ('GWD', 'JPT'): 0.17294495088537976,\n",
              " ('GWD', 'CHB'): 0.1706231372236463,\n",
              " ('GWD', 'KHV'): 0.16816273859356268,\n",
              " ('GWD', 'CDX'): 0.1717663201678092,\n",
              " ('GWD', 'TSI'): 0.13011856397149027,\n",
              " ('GWD', 'IBS'): 0.13133601917671686,\n",
              " ('GWD', 'FIN'): 0.13878066599952427,\n",
              " ('GWD', 'CEU'): 0.13497729353954893,\n",
              " ('GWD', 'GBR'): 0.13585367660678915,\n",
              " ('GWD', 'GIH'): 0.12738824191215398,\n",
              " ('GWD', 'STU'): 0.12608710096020195,\n",
              " ('GWD', 'ITU'): 0.12597591057328614,\n",
              " ('GWD', 'PJL'): 0.12272443116168029,\n",
              " ('GWD', 'BEB'): 0.12581017350497928,\n",
              " ('GWD', 'PUR'): 0.10118658229041319,\n",
              " ('GWD', 'CLM'): 0.11474350023470241,\n",
              " ('GWD', 'PEL'): 0.18103364891326426,\n",
              " ('GWD', 'MXL'): 0.1395356950729694,\n",
              " ('YRI', 'ESN'): 0.0009623107591334337,\n",
              " ('YRI', 'LWK'): 0.008725681085879365,\n",
              " ('YRI', 'ACB'): 0.0034079789384852434,\n",
              " ('YRI', 'MSL'): 0.004177988091403857,\n",
              " ('YRI', 'ASW'): 0.01197667714731511,\n",
              " ('YRI', 'CHS'): 0.17587528942288025,\n",
              " ('YRI', 'JPT'): 0.17716624064385436,\n",
              " ('YRI', 'CHB'): 0.1745256512085788,\n",
              " ('YRI', 'KHV'): 0.1722055452977756,\n",
              " ('YRI', 'CDX'): 0.17590775917755933,\n",
              " ('YRI', 'TSI'): 0.13526505378326145,\n",
              " ('YRI', 'IBS'): 0.13652160511832892,\n",
              " ('YRI', 'FIN'): 0.14391030122925705,\n",
              " ('YRI', 'CEU'): 0.14005377923690546,\n",
              " ('YRI', 'GBR'): 0.14102797237569362,\n",
              " ('YRI', 'GIH'): 0.13218931868943945,\n",
              " ('YRI', 'STU'): 0.13062212345075352,\n",
              " ('YRI', 'ITU'): 0.13080985483738408,\n",
              " ('YRI', 'PJL'): 0.12771155861791753,\n",
              " ('YRI', 'BEB'): 0.13046832534734507,\n",
              " ('YRI', 'PUR'): 0.10570450710840615,\n",
              " ('YRI', 'CLM'): 0.11972003236858947,\n",
              " ('YRI', 'PEL'): 0.18544957735954457,\n",
              " ('YRI', 'MXL'): 0.14405003557587237,\n",
              " ('ESN', 'LWK'): 0.008704880690983356,\n",
              " ('ESN', 'ACB'): 0.004542348385624134,\n",
              " ('ESN', 'MSL'): 0.005428247851894793,\n",
              " ('ESN', 'ASW'): 0.012488004779098364,\n",
              " ('ESN', 'CHS'): 0.1767596750709972,\n",
              " ('ESN', 'JPT'): 0.17836928792345297,\n",
              " ('ESN', 'CHB'): 0.17536298481130896,\n",
              " ('ESN', 'KHV'): 0.17311729037880247,\n",
              " ('ESN', 'CDX'): 0.17693912797349085,\n",
              " ('ESN', 'TSI'): 0.1362831407019483,\n",
              " ('ESN', 'IBS'): 0.1378626592050092,\n",
              " ('ESN', 'FIN'): 0.14510201741480458,\n",
              " ('ESN', 'CEU'): 0.1412085593640734,\n",
              " ('ESN', 'GBR'): 0.1423728732987639,\n",
              " ('ESN', 'GIH'): 0.1337387216833699,\n",
              " ('ESN', 'STU'): 0.13211067440115112,\n",
              " ('ESN', 'ITU'): 0.132281738683592,\n",
              " ('ESN', 'PJL'): 0.12907048880466285,\n",
              " ('ESN', 'BEB'): 0.13173806505668606,\n",
              " ('ESN', 'PUR'): 0.10703625970760866,\n",
              " ('ESN', 'CLM'): 0.12115775883068008,\n",
              " ('ESN', 'PEL'): 0.1873522365284135,\n",
              " ('ESN', 'MXL'): 0.14562016348247522,\n",
              " ('LWK', 'ACB'): 0.0073932924352787,\n",
              " ('LWK', 'MSL'): 0.009753797718500197,\n",
              " ('LWK', 'ASW'): 0.012064601079331955,\n",
              " ('LWK', 'CHS'): 0.16561197042055015,\n",
              " ('LWK', 'JPT'): 0.1666227185256915,\n",
              " ('LWK', 'CHB'): 0.16418756684800542,\n",
              " ('LWK', 'KHV'): 0.16176013978817527,\n",
              " ('LWK', 'CDX'): 0.16526410068407676,\n",
              " ('LWK', 'TSI'): 0.12366775842227844,\n",
              " ('LWK', 'IBS'): 0.12528624571893757,\n",
              " ('LWK', 'FIN'): 0.13269084573016623,\n",
              " ('LWK', 'CEU'): 0.1283130851418239,\n",
              " ('LWK', 'GBR'): 0.12956579784026218,\n",
              " ('LWK', 'GIH'): 0.1208509782867425,\n",
              " ('LWK', 'STU'): 0.11986158906722462,\n",
              " ('LWK', 'ITU'): 0.11961365865724341,\n",
              " ('LWK', 'PJL'): 0.11666518083235258,\n",
              " ('LWK', 'BEB'): 0.11957871390223158,\n",
              " ('LWK', 'PUR'): 0.09586616296471563,\n",
              " ('LWK', 'CLM'): 0.10922948229398749,\n",
              " ('LWK', 'PEL'): 0.17533900765304192,\n",
              " ('LWK', 'MXL'): 0.13369370571218642,\n",
              " ('ACB', 'MSL'): 0.005034349508520746,\n",
              " ('ACB', 'ASW'): 0.002911012924869924,\n",
              " ('ACB', 'CHS'): 0.14824099491893172,\n",
              " ('ACB', 'JPT'): 0.14939823774261887,\n",
              " ('ACB', 'CHB'): 0.1469591249808738,\n",
              " ('ACB', 'KHV'): 0.14482104572812732,\n",
              " ('ACB', 'CDX'): 0.14858916870873115,\n",
              " ('ACB', 'TSI'): 0.10275251751846153,\n",
              " ('ACB', 'IBS'): 0.1038532624319892,\n",
              " ('ACB', 'FIN'): 0.1107185216256337,\n",
              " ('ACB', 'CEU'): 0.10675427476180456,\n",
              " ('ACB', 'GBR'): 0.10782744366201953,\n",
              " ('ACB', 'GIH'): 0.10235464841478059,\n",
              " ('ACB', 'STU'): 0.10161379514834927,\n",
              " ('ACB', 'ITU'): 0.10174832402544884,\n",
              " ('ACB', 'PJL'): 0.09777200870121426,\n",
              " ('ACB', 'BEB'): 0.10138500990662294,\n",
              " ('ACB', 'PUR'): 0.07668706023678823,\n",
              " ('ACB', 'CLM'): 0.08962699524421332,\n",
              " ('ACB', 'PEL'): 0.1567495342311537,\n",
              " ('ACB', 'MXL'): 0.11392435197050374,\n",
              " ('MSL', 'ASW'): 0.01233681700360659,\n",
              " ('MSL', 'CHS'): 0.17391407350456564,\n",
              " ('MSL', 'JPT'): 0.17520756830359635,\n",
              " ('MSL', 'CHB'): 0.1724923465515917,\n",
              " ('MSL', 'KHV'): 0.1700843990639984,\n",
              " ('MSL', 'CDX'): 0.1735825724111357,\n",
              " ('MSL', 'TSI'): 0.133443986302361,\n",
              " ('MSL', 'IBS'): 0.13489587285483604,\n",
              " ('MSL', 'FIN'): 0.14185071915221303,\n",
              " ('MSL', 'CEU'): 0.13819596769886863,\n",
              " ('MSL', 'GBR'): 0.13920526269262665,\n",
              " ('MSL', 'GIH'): 0.13032794454676636,\n",
              " ('MSL', 'STU'): 0.12904624795082115,\n",
              " ('MSL', 'ITU'): 0.1287431361698545,\n",
              " ('MSL', 'PJL'): 0.1258173541509231,\n",
              " ('MSL', 'BEB'): 0.12859077121518553,\n",
              " ('MSL', 'PUR'): 0.10441189593810447,\n",
              " ('MSL', 'CLM'): 0.11795650031234937,\n",
              " ('MSL', 'PEL'): 0.18349924127551237,\n",
              " ('MSL', 'MXL'): 0.14216379777680035,\n",
              " ('ASW', 'CHS'): 0.1267703342029579,\n",
              " ('ASW', 'JPT'): 0.127681504858828,\n",
              " ('ASW', 'CHB'): 0.12517790007997892,\n",
              " ('ASW', 'KHV'): 0.12383172936670472,\n",
              " ('ASW', 'CDX'): 0.1276593089979267,\n",
              " ('ASW', 'TSI'): 0.07676876381107928,\n",
              " ('ASW', 'IBS'): 0.07769491674487422,\n",
              " ('ASW', 'FIN'): 0.08382735651296226,\n",
              " ('ASW', 'CEU'): 0.07982331489289726,\n",
              " ('ASW', 'GBR'): 0.08064551499710866,\n",
              " ('ASW', 'GIH'): 0.07898091106552045,\n",
              " ('ASW', 'STU'): 0.07884768036204032,\n",
              " ('ASW', 'ITU'): 0.07918607905430329,\n",
              " ('ASW', 'PJL'): 0.0742546332246229,\n",
              " ('ASW', 'BEB'): 0.07878128179977942,\n",
              " ('ASW', 'PUR'): 0.05313725345054674,\n",
              " ('ASW', 'CLM'): 0.06421241131360242,\n",
              " ('ASW', 'PEL'): 0.12992309547871425,\n",
              " ('ASW', 'MXL'): 0.0872308447911636,\n",
              " ('CHS', 'JPT'): 0.009353832028413039,\n",
              " ('CHS', 'CHB'): 0.0005447048183424745,\n",
              " ('CHS', 'KHV'): 0.004130197055948896,\n",
              " ('CHS', 'CDX'): 0.005280421787515423,\n",
              " ('CHS', 'TSI'): 0.10765290773705637,\n",
              " ('CHS', 'IBS'): 0.10860507695268543,\n",
              " ('CHS', 'FIN'): 0.09946099119680699,\n",
              " ('CHS', 'CEU'): 0.10858427769916659,\n",
              " ('CHS', 'GBR'): 0.10997597611878893,\n",
              " ('CHS', 'GIH'): 0.07995904980747003,\n",
              " ('CHS', 'STU'): 0.07235116549206351,\n",
              " ('CHS', 'ITU'): 0.07358727084995625,\n",
              " ('CHS', 'PJL'): 0.07528597608944633,\n",
              " ('CHS', 'BEB'): 0.059297533255441855,\n",
              " ('CHS', 'PUR'): 0.08802175966288432,\n",
              " ('CHS', 'CLM'): 0.0830887035517654,\n",
              " ('CHS', 'PEL'): 0.10113032258488375,\n",
              " ('CHS', 'MXL'): 0.07648365338808151,\n",
              " ('JPT', 'CHB'): 0.008514121497950162,\n",
              " ('JPT', 'KHV'): 0.01662600608412848,\n",
              " ('JPT', 'CDX'): 0.019094447567070235,\n",
              " ('JPT', 'TSI'): 0.10384679580349924,\n",
              " ('JPT', 'IBS'): 0.10490188161729559,\n",
              " ('JPT', 'FIN'): 0.09594384962364984,\n",
              " ('JPT', 'CEU'): 0.10522299618496514,\n",
              " ('JPT', 'GBR'): 0.10652622064635499,\n",
              " ('JPT', 'GIH'): 0.0783903289768199,\n",
              " ('JPT', 'STU'): 0.07193535878730592,\n",
              " ('JPT', 'ITU'): 0.07379572856217045,\n",
              " ('JPT', 'PJL'): 0.07454764428844907,\n",
              " ('JPT', 'BEB'): 0.059827942398583654,\n",
              " ('JPT', 'PUR'): 0.08572896840794537,\n",
              " ('JPT', 'CLM'): 0.0806637219838767,\n",
              " ('JPT', 'PEL'): 0.09953268525927997,\n",
              " ('JPT', 'MXL'): 0.07434080655932816,\n",
              " ('CHB', 'KHV'): 0.006512352112769548,\n",
              " ('CHB', 'CDX'): 0.00811548422544967,\n",
              " ('CHB', 'TSI'): 0.10481682574713728,\n",
              " ('CHB', 'IBS'): 0.10601571395913086,\n",
              " ('CHB', 'FIN'): 0.09704180150663999,\n",
              " ('CHB', 'CEU'): 0.10639331555830106,\n",
              " ('CHB', 'GBR'): 0.10727068285729463,\n",
              " ('CHB', 'GIH'): 0.0779325001161173,\n",
              " ('CHB', 'STU'): 0.07030354212672006,\n",
              " ('CHB', 'ITU'): 0.0716179815774233,\n",
              " ('CHB', 'PJL'): 0.07344227664771322,\n",
              " ('CHB', 'BEB'): 0.05745610729498632,\n",
              " ('CHB', 'PUR'): 0.08592123768668741,\n",
              " ('CHB', 'CLM'): 0.08095977680636088,\n",
              " ('CHB', 'PEL'): 0.09991634796102926,\n",
              " ('CHB', 'MXL'): 0.07481196604432859,\n",
              " ('KHV', 'CDX'): 0.0015271788948951392,\n",
              " ('KHV', 'TSI'): 0.10610345333523861,\n",
              " ('KHV', 'IBS'): 0.10727294061170257,\n",
              " ('KHV', 'FIN'): 0.09942792160077828,\n",
              " ('KHV', 'CEU'): 0.10719091033419867,\n",
              " ('KHV', 'GBR'): 0.10853969951990494,\n",
              " ('KHV', 'GIH'): 0.07724705979243136,\n",
              " ('KHV', 'STU'): 0.06898217430130518,\n",
              " ('KHV', 'ITU'): 0.07009051533181962,\n",
              " ('KHV', 'PJL'): 0.07226314923332765,\n",
              " ('KHV', 'BEB'): 0.05624011647600724,\n",
              " ('KHV', 'PUR'): 0.08748495907108762,\n",
              " ('KHV', 'CLM'): 0.08384565686490697,\n",
              " ('KHV', 'PEL'): 0.10701071957794984,\n",
              " ('KHV', 'MXL'): 0.07984092465702738,\n",
              " ('CDX', 'TSI'): 0.11159631900088225,\n",
              " ('CDX', 'IBS'): 0.11235031370696598,\n",
              " ('CDX', 'FIN'): 0.10420014116298872,\n",
              " ('CDX', 'CEU'): 0.1123496395064138,\n",
              " ('CDX', 'GBR'): 0.1138837868861392,\n",
              " ('CDX', 'GIH'): 0.08243794140725513,\n",
              " ('CDX', 'STU'): 0.07407679626642073,\n",
              " ('CDX', 'ITU'): 0.07518875476883664,\n",
              " ('CDX', 'PJL'): 0.07738142986948994,\n",
              " ('CDX', 'BEB'): 0.060967052773589624,\n",
              " ('CDX', 'PUR'): 0.09180560256623765,\n",
              " ('CDX', 'CLM'): 0.08780661964490279,\n",
              " ('CDX', 'PEL'): 0.10915379869589531,\n",
              " ('CDX', 'MXL'): 0.08323301675178689,\n",
              " ('TSI', 'IBS'): 0.0016238415382806206,\n",
              " ('TSI', 'FIN'): 0.011746335362682193,\n",
              " ('TSI', 'CEU'): 0.0027905053544277246,\n",
              " ('TSI', 'GBR'): 0.003513183756091166,\n",
              " ('TSI', 'GIH'): 0.03584578745591674,\n",
              " ('TSI', 'STU'): 0.03984734330194004,\n",
              " ('TSI', 'ITU'): 0.04103298428130235,\n",
              " ('TSI', 'PJL'): 0.029088927299623736,\n",
              " ('TSI', 'BEB'): 0.04121735996507266,\n",
              " ('TSI', 'PUR'): 0.008298107129227609,\n",
              " ('TSI', 'CLM'): 0.015207417268507979,\n",
              " ('TSI', 'PEL'): 0.10284646827596809,\n",
              " ('TSI', 'MXL'): 0.043365494929069826,\n",
              " ('IBS', 'FIN'): 0.011401207076534487,\n",
              " ('IBS', 'CEU'): 0.0027798732984971224,\n",
              " ('IBS', 'GBR'): 0.002315850452847469,\n",
              " ('IBS', 'GIH'): 0.03758262255237242,\n",
              " ('IBS', 'STU'): 0.04189791561456092,\n",
              " ('IBS', 'ITU'): 0.042916427155736125,\n",
              " ('IBS', 'PJL'): 0.031014412937585983,\n",
              " ('IBS', 'BEB'): 0.04297863303114709,\n",
              " ('IBS', 'PUR'): 0.00790026921463337,\n",
              " ('IBS', 'CLM'): 0.01462318556675116,\n",
              " ('IBS', 'PEL'): 0.10298584201927884,\n",
              " ('IBS', 'MXL'): 0.04342283345233745,\n",
              " ('FIN', 'CEU'): 0.006787948040628426,\n",
              " ('FIN', 'GBR'): 0.007286920145889026,\n",
              " ('FIN', 'GIH'): 0.036057543084928485,\n",
              " ('FIN', 'STU'): 0.03993511393248624,\n",
              " ('FIN', 'ITU'): 0.0409075657567153,\n",
              " ('FIN', 'PJL'): 0.029630842527371463,\n",
              " ('FIN', 'BEB'): 0.03955109263237244,\n",
              " ('FIN', 'PUR'): 0.015360443884062042,\n",
              " ('FIN', 'CLM'): 0.020324718379877215,\n",
              " ('FIN', 'PEL'): 0.09527383627059341,\n",
              " ('FIN', 'MXL'): 0.041182725173217694,\n",
              " ('CEU', 'GBR'): 0.0002099065124128106,\n",
              " ('CEU', 'GIH'): 0.03575147454616533,\n",
              " ('CEU', 'STU'): 0.04118635279749327,\n",
              " ('CEU', 'ITU'): 0.04202611787574157,\n",
              " ('CEU', 'PJL'): 0.029641560804080234,\n",
              " ('CEU', 'BEB'): 0.04147963706383539,\n",
              " ('CEU', 'PUR'): 0.009870413629236439,\n",
              " ('CEU', 'CLM'): 0.015535509957533972,\n",
              " ('CEU', 'PEL'): 0.10127088419804654,\n",
              " ('CEU', 'MXL'): 0.04252187299575881,\n",
              " ('GBR', 'GIH'): 0.037152242385451395,\n",
              " ('GBR', 'STU'): 0.04217016238490805,\n",
              " ('GBR', 'ITU'): 0.04289265214454689,\n",
              " ('GBR', 'PJL'): 0.030431052723039226,\n",
              " ('GBR', 'BEB'): 0.042423349364956967,\n",
              " ('GBR', 'PUR'): 0.009663868065605987,\n",
              " ('GBR', 'CLM'): 0.015529616835210707,\n",
              " ('GBR', 'PEL'): 0.10095357198177579,\n",
              " ('GBR', 'MXL'): 0.04222838708457783,\n",
              " ('GIH', 'STU'): 0.004007495106373639,\n",
              " ('GIH', 'ITU'): 0.004219992703066206,\n",
              " ('GIH', 'PJL'): 0.003990606235545883,\n",
              " ('GIH', 'BEB'): 0.005174286561697928,\n",
              " ('GIH', 'PUR'): 0.029868031708890845,\n",
              " ('GIH', 'CLM'): 0.030353703167858403,\n",
              " ('GIH', 'PEL'): 0.0885487034251473,\n",
              " ('GIH', 'MXL'): 0.04479673576833734,\n",
              " ('STU', 'ITU'): 0.000903068231441476,\n",
              " ('STU', 'PJL'): 0.002877796315808808,\n",
              " ('STU', 'BEB'): 0.0023564377690976834,\n",
              " ('STU', 'PUR'): 0.03236586966165209,\n",
              " ('STU', 'CLM'): 0.03272384478784001,\n",
              " ('STU', 'PEL'): 0.08751044017075184,\n",
              " ('STU', 'MXL'): 0.04520809930068117,\n",
              " ('ITU', 'PJL'): 0.0025917042674214966,\n",
              " ('ITU', 'BEB'): 0.0025115519284525795,\n",
              " ('ITU', 'PUR'): 0.033496187798201835,\n",
              " ('ITU', 'CLM'): 0.0336928840688092,\n",
              " ('ITU', 'PEL'): 0.0889948135078014,\n",
              " ('ITU', 'MXL'): 0.046305415746693,\n",
              " ('PJL', 'BEB'): 0.0037313230403366424,\n",
              " ('PJL', 'PUR'): 0.02410857526850935,\n",
              " ('PJL', 'CLM'): 0.02509693526096222,\n",
              " ('PJL', 'PEL'): 0.08537663472707108,\n",
              " ('PJL', 'MXL'): 0.03992115483777425,\n",
              " ('BEB', 'PUR'): 0.03306895576303357,\n",
              " ('BEB', 'CLM'): 0.03259958412606792,\n",
              " ('BEB', 'PEL'): 0.08444703525987082,\n",
              " ('BEB', 'MXL'): 0.042963295739381804,\n",
              " ('PUR', 'CLM'): 0.00454648115478521,\n",
              " ('PUR', 'PEL'): 0.0690619251867385,\n",
              " ('PUR', 'MXL'): 0.02340238363090793,\n",
              " ('CLM', 'PEL'): 0.048873229621794384,\n",
              " ('CLM', 'MXL'): 0.011986384089046601,\n",
              " ('PEL', 'MXL'): 0.021156939569003042}"
            ]
          },
          "metadata": {
            "tags": []
          },
          "execution_count": 157
        }
      ]
    },
    {
      "cell_type": "code",
      "metadata": {
        "id": "FwV0HM68N8zk",
        "colab_type": "code",
        "colab": {},
        "outputId": "4c686a3d-19bb-4583-cd99-a55e91473273"
      },
      "source": [
        "### 29\n",
        "pop1 = \"YRI\"\n",
        "pop2 = \"CEU\"\n",
        "print(\"patterson F_ST, YRI CHB\", patterson[(pop1, pop2)])\n",
        "print(\"hudson F_ST, YRI CHB\", hudson[(pop1, pop2)])\n",
        "\n",
        "ac1 = ac_subpops[pop1]\n",
        "ac2 = ac_subpops[pop2]\n",
        "\n",
        "hat_p1 =  ((ac1[:,1] / ac1[:].sum(axis = 1)).sum())/len(ac1)\n",
        "hat_p2 =  ((ac2[:,1] / ac2[:].sum(axis = 1)).sum())/len(ac2)\n",
        "hat_p  = (hat_p1 + hat_p2)/2\n",
        "fst = ((hat_p1 - hat_p2)**2)/((4*hat_p)*(1 - hat_p))\n",
        "print (\"Our naive FST\", fst)"
      ],
      "execution_count": null,
      "outputs": [
        {
          "output_type": "stream",
          "text": [
            "patterson F_ST, YRI CHB 0.14005377923690546\n",
            "hudson F_ST, YRI CHB 0.14005377923690546\n",
            "Our naive FST 0.0006044820372498613\n"
          ],
          "name": "stdout"
        }
      ]
    },
    {
      "cell_type": "markdown",
      "metadata": {
        "id": "vVxJbp0EN8zn",
        "colab_type": "text"
      },
      "source": [
        "This likely gives you a fairly different estimate. Why do you think that is? The estimate we coded up was initially proposed by Nei (1973) and Nei and Chesser (1983). It was eventually updated by Nei (1986) who added a factor of 2 to get the 'population' $F_{ST}$, as discussed earlier in this notebook. All references can be found in [Bhatia et al](https://www.ncbi.nlm.nih.gov/pubmed/23861382).     \n",
        "\n",
        "This was a bit of a shocker to me: the definition of $F_{ST}$ given in almost all textbooks is different by a factor of two to the one reported by almost all software... \n",
        "\n",
        "As it turns out, the Hudson estimator (Equation 10 in Bhatia et al) can be also be estimated pretty easily. Please try it out in the next cell, and compare the Nei and Hudson estimator on a SNP-by-snp basis. "
      ]
    },
    {
      "cell_type": "code",
      "metadata": {
        "id": "wf4c2hYHN8zo",
        "colab_type": "code",
        "colab": {},
        "outputId": "e2a91cbb-ebe4-468d-f98f-5528e4b7a579"
      },
      "source": [
        "### 30\n",
        "### Code the hudson estimator here! \n",
        "### (Equation 10 in Bhatia et al) \n",
        "nm1 = (hat_p1 - hat_p2)**2 \n",
        "nm2 = (hat_p1*(1 - hat_p1))/(len(ac1))\n",
        "nm3 = (hat_p2*(1 - hat_p2))/(len(ac2)) \n",
        "dm1 = hat_p1*(1 - hat_p2) \n",
        "dm2 = hat_p2*(1 - hat_p1) \n",
        "fst_hudson = (nm1 - nm2 - nm3)/(dm1 + dm2)\n",
        "fst_hudson"
      ],
      "execution_count": null,
      "outputs": [
        {
          "output_type": "execute_result",
          "data": {
            "text/plain": [
              "0.0012068888147103356"
            ]
          },
          "metadata": {
            "tags": []
          },
          "execution_count": 118
        }
      ]
    },
    {
      "cell_type": "code",
      "metadata": {
        "id": "nNMVQPjtN8zr",
        "colab_type": "code",
        "colab": {},
        "outputId": "cdbfd7d6-339b-47a4-bf83-0665984ae2f9"
      },
      "source": [
        "pop1_index = subpops[pop1]\n",
        "pop2_index = subpops[pop2]\n",
        "a, b, c = allel.weir_cockerham_fst(strict_genotypes, subpops=[pop1_index, pop2_index], max_allele=1)\n",
        "snp_fst_wc = (a / (a + b + c))[:, 0]\n",
        "snp_fst_wc "
      ],
      "execution_count": null,
      "outputs": [
        {
          "output_type": "stream",
          "text": [
            "/Users/aa25desh/opt/anaconda3/lib/python3.7/site-packages/ipykernel_launcher.py:4: RuntimeWarning: divide by zero encountered in true_divide\n",
            "  after removing the cwd from sys.path.\n",
            "/Users/aa25desh/opt/anaconda3/lib/python3.7/site-packages/ipykernel_launcher.py:4: RuntimeWarning: invalid value encountered in true_divide\n",
            "  after removing the cwd from sys.path.\n"
          ],
          "name": "stderr"
        },
        {
          "output_type": "execute_result",
          "data": {
            "text/plain": [
              "array([       nan, 0.01641554,        nan, ...,        nan,        nan,\n",
              "              nan])"
            ]
          },
          "metadata": {
            "tags": []
          },
          "execution_count": 124
        }
      ]
    },
    {
      "cell_type": "code",
      "metadata": {
        "id": "hff3ij29N8zt",
        "colab_type": "code",
        "colab": {},
        "outputId": "72308ac7-3706-434c-e95f-361e2a499e62"
      },
      "source": [
        "num, den = allel.hudson_fst(ac1, ac2)\n",
        "snp_fst_hudson = num / den\n",
        "snp_fst_hudson"
      ],
      "execution_count": null,
      "outputs": [
        {
          "output_type": "stream",
          "text": [
            "/Users/aa25desh/opt/anaconda3/lib/python3.7/site-packages/ipykernel_launcher.py:2: RuntimeWarning: divide by zero encountered in true_divide\n",
            "  \n",
            "/Users/aa25desh/opt/anaconda3/lib/python3.7/site-packages/ipykernel_launcher.py:2: RuntimeWarning: invalid value encountered in true_divide\n",
            "  \n"
          ],
          "name": "stderr"
        },
        {
          "output_type": "execute_result",
          "data": {
            "text/plain": [
              "array([       nan, 0.01522843,        nan, ...,        nan,        nan,\n",
              "              nan])"
            ]
          },
          "metadata": {
            "tags": []
          },
          "execution_count": 126
        }
      ]
    },
    {
      "cell_type": "markdown",
      "metadata": {
        "id": "UWMTnNQlN8zw",
        "colab_type": "text"
      },
      "source": [
        "More discussion on $F_{ST}$ estimators within scikit-allel can be found [here](http://alimanfoo.github.io/2015/09/21/estimating-fst.html)."
      ]
    },
    {
      "cell_type": "code",
      "metadata": {
        "id": "28KYPFMuN8zw",
        "colab_type": "code",
        "colab": {},
        "outputId": "3cdf3082-6254-461b-8681-f49da3744572"
      },
      "source": [
        "fig, ax = plt.subplots(figsize=(5, 5))\n",
        "sns.despine(ax=ax, offset=5)\n",
        "ax.plot(snp_fst_hudson, snp_fst_wc, color='k', marker='.', linestyle=' ')\n",
        "ax.set_xlim(0, 1)\n",
        "ax.set_ylim(0, 1)\n",
        "ax.set_xlabel('Hudson $F_{ST}$')\n",
        "ax.set_ylabel('Weir & Cockerham $F_{ST}$')\n",
        "ax.set_title('%s (%s) vs %s (%s), SNP $F_{ST}$' % (pop1, len(pop1), pop2, len(pop2)));"
      ],
      "execution_count": null,
      "outputs": [
        {
          "output_type": "display_data",
          "data": {
            "image/png": "[encoded data removed]",
            "text/plain": [
              "<Figure size 360x360 with 1 Axes>"
            ]
          },
          "metadata": {
            "tags": [],
            "needs_background": "light"
          }
        }
      ]
    },
    {
      "cell_type": "code",
      "metadata": {
        "id": "Rng0eGt2N8zz",
        "colab_type": "code",
        "colab": {},
        "outputId": "48ef52ca-a7ed-4015-94d0-d84bc02afb6d"
      },
      "source": [
        "strict_genotypes"
      ],
      "execution_count": null,
      "outputs": [
        {
          "output_type": "execute_result",
          "data": {
            "text/html": [
              "<div class=\"allel allel-DisplayAs2D\"><span>&lt;GenotypeChunkedArray shape=(742649, 2504, 2) dtype=int8 chunks=(209, 2504, 2)\n",
              "   nbytes=3.5G cbytes=97.4M cratio=36.4\n",
              "   compression=gzip compression_opts=1\n",
              "   values=h5py._hl.dataset.Dataset&gt;</span><table><thead><tr><th></th><th style=\"text-align: center\">0</th><th style=\"text-align: center\">1</th><th style=\"text-align: center\">2</th><th style=\"text-align: center\">3</th><th style=\"text-align: center\">4</th><th style=\"text-align: center\">...</th><th style=\"text-align: center\">2499</th><th style=\"text-align: center\">2500</th><th style=\"text-align: center\">2501</th><th style=\"text-align: center\">2502</th><th style=\"text-align: center\">2503</th></tr></thead><tbody><tr><th style=\"text-align: center; background-color: white; border-right: 1px solid black; \">0</th><td style=\"text-align: center\">0/0</td><td style=\"text-align: center\">0/0</td><td style=\"text-align: center\">0/0</td><td style=\"text-align: center\">0/0</td><td style=\"text-align: center\">0/0</td><td style=\"text-align: center\">...</td><td style=\"text-align: center\">0/0</td><td style=\"text-align: center\">0/0</td><td style=\"text-align: center\">0/0</td><td style=\"text-align: center\">0/0</td><td style=\"text-align: center\">0/0</td></tr><tr><th style=\"text-align: center; background-color: white; border-right: 1px solid black; \">1</th><td style=\"text-align: center\">0/0</td><td style=\"text-align: center\">1/0</td><td style=\"text-align: center\">0/0</td><td style=\"text-align: center\">0/0</td><td style=\"text-align: center\">0/0</td><td style=\"text-align: center\">...</td><td style=\"text-align: center\">0/1</td><td style=\"text-align: center\">0/0</td><td style=\"text-align: center\">0/0</td><td style=\"text-align: center\">0/1</td><td style=\"text-align: center\">1/0</td></tr><tr><th style=\"text-align: center; background-color: white; border-right: 1px solid black; \">2</th><td style=\"text-align: center\">0/0</td><td style=\"text-align: center\">0/0</td><td style=\"text-align: center\">0/0</td><td style=\"text-align: center\">0/0</td><td style=\"text-align: center\">0/0</td><td style=\"text-align: center\">...</td><td style=\"text-align: center\">0/0</td><td style=\"text-align: center\">0/0</td><td style=\"text-align: center\">0/0</td><td style=\"text-align: center\">0/0</td><td style=\"text-align: center\">0/0</td></tr><tr><th style=\"text-align: center; background-color: white; border-right: 1px solid black; \">...</th><td style=\"text-align: center\" colspan=\"12\">...</td></tr><tr><th style=\"text-align: center; background-color: white; border-right: 1px solid black; \">742646</th><td style=\"text-align: center\">0/0</td><td style=\"text-align: center\">0/0</td><td style=\"text-align: center\">0/0</td><td style=\"text-align: center\">0/0</td><td style=\"text-align: center\">0/0</td><td style=\"text-align: center\">...</td><td style=\"text-align: center\">0/0</td><td style=\"text-align: center\">0/0</td><td style=\"text-align: center\">0/0</td><td style=\"text-align: center\">0/0</td><td style=\"text-align: center\">0/0</td></tr><tr><th style=\"text-align: center; background-color: white; border-right: 1px solid black; \">742647</th><td style=\"text-align: center\">0/0</td><td style=\"text-align: center\">0/0</td><td style=\"text-align: center\">0/0</td><td style=\"text-align: center\">0/0</td><td style=\"text-align: center\">0/0</td><td style=\"text-align: center\">...</td><td style=\"text-align: center\">0/0</td><td style=\"text-align: center\">0/0</td><td style=\"text-align: center\">0/0</td><td style=\"text-align: center\">0/0</td><td style=\"text-align: center\">0/0</td></tr><tr><th style=\"text-align: center; background-color: white; border-right: 1px solid black; \">742648</th><td style=\"text-align: center\">0/0</td><td style=\"text-align: center\">0/0</td><td style=\"text-align: center\">0/0</td><td style=\"text-align: center\">0/0</td><td style=\"text-align: center\">0/0</td><td style=\"text-align: center\">...</td><td style=\"text-align: center\">0/0</td><td style=\"text-align: center\">0/0</td><td style=\"text-align: center\">0/0</td><td style=\"text-align: center\">0/0</td><td style=\"text-align: center\">0/0</td></tr></tbody></table></div>"
            ],
            "text/plain": [
              "<GenotypeChunkedArray shape=(742649, 2504, 2) dtype=int8 chunks=(209, 2504, 2)\n",
              "   nbytes=3.5G cbytes=97.4M cratio=36.4\n",
              "   compression=gzip compression_opts=1\n",
              "   values=h5py._hl.dataset.Dataset>"
            ]
          },
          "metadata": {
            "tags": []
          },
          "execution_count": 228
        }
      ]
    },
    {
      "cell_type": "markdown",
      "metadata": {
        "id": "jKj9m3ehN8z1",
        "colab_type": "text"
      },
      "source": [
        "## $F_{IS}$\n",
        "\n",
        "Given all these complications around $F_{ST}$, it may come as relief that $F_{IS},$ which measures the excess of homozygosity within populations, is less controversial. We can still compute it as $\\frac{H_{exp}-H_{obs}}{H_{exp}},$ with the expectation computed under Hardy-Weinberg equilibrium. Based on our last notebook, we expect that this will be close to $0$ for most populations.\n",
        "\n"
      ]
    },
    {
      "cell_type": "code",
      "metadata": {
        "id": "LtQkXeoHN8z1",
        "colab_type": "code",
        "colab": {}
      },
      "source": [
        "# Get biallelic allele counts\n",
        "allele_counts_biallelic_all_alleles = allele_counts.compress(is_biallelic)\n",
        "relevant_column = np.array([False] * allele_counts_biallelic_all_alleles.shape[1])\n",
        "relevant_column[0:2] = True\n",
        "allele_counts_biallelic = allele_counts_biallelic_all_alleles.compress(relevant_column, \n",
        "                                                                       axis = 1)\n",
        "\n",
        "# Count heterozygotes by sample and subpopulation\n",
        "genotypes_012 = genotypes_biallelic.to_n_alt(fill=-1) # n_snps by n_individuals\n",
        "strict_genotypes_012 = genotypes_012.compress(in_mask) # n_snps by n_individuals\n",
        "\n",
        "\n",
        "genotype_012_as_triallelic_haploid = allel.GenotypeArray(strict_genotypes_012[:].reshape(\n",
        "    [strict_genotypes_012.shape[0], strict_genotypes_012.shape[1], 1]))\n",
        "observed_counts_by_subpop = genotype_012_as_triallelic_haploid.count_alleles_subpops(subpops, \n",
        "                                                                           max_allele=2)\n",
        "het_per_sample = (genotype_012_as_triallelic_haploid==1).sum(axis = 0)\n",
        "\n",
        "\n",
        "ac_subpops = strict_genotypes.count_alleles_subpops(subpops, max_allele=1)"
      ],
      "execution_count": null,
      "outputs": []
    },
    {
      "cell_type": "code",
      "metadata": {
        "id": "GcVUh7bnN8z4",
        "colab_type": "code",
        "colab": {}
      },
      "source": [
        "het_p = ((allele_counts_subpop[:,1] / allele_counts_subpop[:].sum(axis = 1)))/len(allele_counts_subpop)"
      ],
      "execution_count": null,
      "outputs": []
    },
    {
      "cell_type": "code",
      "metadata": {
        "id": "H-II-jvIN8z5",
        "colab_type": "code",
        "colab": {}
      },
      "source": [
        "het_p = [(i*(1 - i)) for i in het_p]"
      ],
      "execution_count": null,
      "outputs": []
    },
    {
      "cell_type": "code",
      "metadata": {
        "id": "QCTP8DVzN8z7",
        "colab_type": "code",
        "colab": {},
        "outputId": "9ab3c408-0f2c-4bc9-81a7-6154aa389a37"
      },
      "source": [
        "  2*allele_counts_subpop[0].sum()*sum(het_p)"
      ],
      "execution_count": null,
      "outputs": [
        {
          "output_type": "execute_result",
          "data": {
            "text/plain": [
              "13.34499545011369"
            ]
          },
          "metadata": {
            "tags": []
          },
          "execution_count": 221
        }
      ]
    },
    {
      "cell_type": "code",
      "metadata": {
        "id": "L9BcUbabN8z9",
        "colab_type": "code",
        "colab": {},
        "outputId": "9dca2ac3-9ab3-4303-f009-b91511801db6"
      },
      "source": [
        "genotypes_012"
      ],
      "execution_count": null,
      "outputs": [
        {
          "output_type": "execute_result",
          "data": {
            "text/plain": [
              "<ChunkedArrayWrapper shape=(1093133, 2504) dtype=int8 chunks=(418, 2504)\n",
              "   nbytes=2.5G cbytes=106.0M cratio=24.6\n",
              "   compression=gzip compression_opts=1\n",
              "   values=h5py._hl.dataset.Dataset>"
            ]
          },
          "metadata": {
            "tags": []
          },
          "execution_count": 238
        }
      ]
    },
    {
      "cell_type": "code",
      "metadata": {
        "id": "Y5IWV5BtN8z_",
        "colab_type": "code",
        "colab": {},
        "outputId": "d3e0465c-7577-433f-9172-e56eefc8e4a3"
      },
      "source": [
        " allel.heterozygosity_expected()"
      ],
      "execution_count": null,
      "outputs": [
        {
          "output_type": "execute_result",
          "data": {
            "text/plain": [
              "array([[16775],\n",
              "       [19521],\n",
              "       [20109],\n",
              "       ...,\n",
              "       [22454],\n",
              "       [23115],\n",
              "       [21196]])"
            ]
          },
          "metadata": {
            "tags": []
          },
          "execution_count": 240
        }
      ]
    },
    {
      "cell_type": "code",
      "metadata": {
        "id": "YOmIjLb_N80F",
        "colab_type": "code",
        "colab": {},
        "outputId": "7c0807d2-de23-493c-9d18-5b60462d48d5"
      },
      "source": [
        "### 31\n",
        "\n",
        "# Get biallelic allele counts\n",
        "allele_counts_biallelic_all_alleles = allele_counts.compress(is_biallelic)\n",
        "relevant_column = np.array([False] * allele_counts_biallelic_all_alleles.shape[1])\n",
        "relevant_column[0:2] = True\n",
        "allele_counts_biallelic = allele_counts_biallelic_all_alleles.compress(relevant_column, \n",
        "                                                                       axis = 1)\n",
        "\n",
        "# Count heterozygotes by sample and subpopulation\n",
        "genotypes_012 = genotypes_biallelic.to_n_alt(fill=-1) # n_snps by n_individuals\n",
        "strict_genotypes_012 = genotypes_012.compress(in_mask) # n_snps by n_individuals\n",
        "\n",
        "\n",
        "genotype_012_as_triallelic_haploid = allel.GenotypeArray(strict_genotypes_012[:].reshape(\n",
        "    [strict_genotypes_012.shape[0], strict_genotypes_012.shape[1], 1]))\n",
        "observed_counts_by_subpop = genotype_012_as_triallelic_haploid.count_alleles_subpops(subpops, \n",
        "                                                                           max_allele=2)\n",
        "het_per_sample = (genotype_012_as_triallelic_haploid==1).sum(axis = 0)\n",
        "\n",
        "\n",
        "ac_subpops = strict_genotypes.count_alleles_subpops(subpops, max_allele=1)\n",
        "\n",
        "\n",
        "FIS = []\n",
        "for population in sorted_pops:\n",
        "    allele_counts_subpop = ac_subpops[population]\n",
        "    number_of_genotypes_subpop = observed_counts_by_subpop[population].sum(axis=1)\n",
        "    #calculate expected heterozygosity \n",
        "    het_expectation = \n",
        "    \n",
        "    #calculate the numerator and denominator of FIS\n",
        "    numerator =...\n",
        "    denominator =...\n",
        "    \n",
        "    #append FIS to FIS list\n",
        "......\n",
        "    \n",
        "    "
      ],
      "execution_count": null,
      "outputs": [
        {
          "output_type": "error",
          "ename": "SyntaxError",
          "evalue": "invalid syntax (<ipython-input-33-9e6e7dd5db60>, line 37)",
          "traceback": [
            "\u001b[0;36m  File \u001b[0;32m\"<ipython-input-33-9e6e7dd5db60>\"\u001b[0;36m, line \u001b[0;32m37\u001b[0m\n\u001b[0;31m    ......\u001b[0m\n\u001b[0m         ^\u001b[0m\n\u001b[0;31mSyntaxError\u001b[0m\u001b[0;31m:\u001b[0m invalid syntax\n"
          ]
        }
      ]
    },
    {
      "cell_type": "code",
      "metadata": {
        "id": "em6oWJecN80I",
        "colab_type": "code",
        "colab": {}
      },
      "source": [
        "### 32\n",
        "plt.plot(FIS,'b',lw=2);\n",
        "plt.xlabel(\"population\")\n",
        "plt.ylabel(\"F_IS\")\n",
        "\n",
        "\n",
        "# I want to color-code the populations by continent and write the name below the graph \n",
        "ax = plt.gca()  # Gives a name to the current plot. \n",
        "ax.set_xticks(list(range(len(populations)))); # puts one tick-mark for each position in \n",
        "                                              # the array\n",
        "ax.set_xticklabels(sorted_pops,rotation=90);  # Gives the name of the population to the tick \n",
        "                                              # mark\n",
        "\n",
        "# Change the color of each tick label according to the continent of origin\n",
        "continentcolor = {'SAS':'r', 'EAS':'b', 'AMR':'orange', 'AFR':'g', 'EUR':'m'}\n",
        "[label.set_color(continentcolor[continent_by_population[sorted_pops[i]]]) \n",
        " for i,label in enumerate(ax.get_xticklabels())];\n"
      ],
      "execution_count": null,
      "outputs": []
    },
    {
      "cell_type": "markdown",
      "metadata": {
        "id": "CT2EGnk-N80K",
        "colab_type": "text"
      },
      "source": [
        "Please interpret your results!\n",
        "In particular, given the population with the highest $F_{IS},$ how much first-cousin matings would we need to explain the level of $F_{IS}$? Is that plausible? Whether plausible or not, what are possible other explanations?"
      ]
    },
    {
      "cell_type": "markdown",
      "metadata": {
        "id": "4rGrDT1NN80K",
        "colab_type": "text"
      },
      "source": [
        "Your answer:"
      ]
    },
    {
      "cell_type": "markdown",
      "metadata": {
        "id": "sWXnAcZaN80K",
        "colab_type": "text"
      },
      "source": [
        "\n"
      ]
    },
    {
      "cell_type": "markdown",
      "metadata": {
        "id": "AaR8nVEmN80L",
        "colab_type": "text"
      },
      "source": [
        "Copyright Simon Gravel, McGill University."
      ]
    }
  ]
}