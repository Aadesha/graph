{
  "nbformat": 4,
  "nbformat_minor": 0,
  "metadata": {
    "anaconda-cloud": {},
    "kernelspec": {
      "display_name": "Python 3",
      "language": "python",
      "name": "python3"
    },
    "colab": {
      "name": "hwb.ipynb",
      "provenance": [],
      "include_colab_link": true
    }
  },
  "cells": [
    {
      "cell_type": "markdown",
      "metadata": {
        "id": "view-in-github",
        "colab_type": "text"
      },
      "source": [
        "<a href=\"https://colab.research.google.com/github/aa25desh/graph/blob/master/hwb.ipynb\" target=\"_parent\"><img src=\"https://colab.research.google.com/assets/colab-badge.svg\" alt=\"Open In Colab\"/></a>"
      ]
    },
    {
      "cell_type": "code",
      "metadata": {
        "id": "l-9cY5NXFHdm",
        "colab_type": "code",
        "colab": {},
        "outputId": "870ca4db-7d27-4816-fb0e-e914dc67545a"
      },
      "source": [
        "### 1\n",
        "import numpy as np # A module for handling numerical arrays \n",
        "import os # A module for interacting with your operating system (e.g., listing directories)\n",
        "import gzip # A module to handle gzipped files\n",
        "import scipy # A module with scientific functions (such as statistical tests)\n",
        "import pandas # A module that handles general data arrays, in a way that is similar to R\n",
        "import matplotlib as mpl # A module for plotting\n",
        "import matplotlib.pyplot as plt\n",
        "%matplotlib inline\n",
        "import seaborn as sns # A module to plot prettier plots\n",
        "sns.set_style('white')\n",
        "sns.set_style('ticks')\n",
        "sns.set_context('notebook')\n",
        "import h5py # A module for interacting with hdf5 data format.\n",
        "import allel; print('scikit-allel', allel.__version__) # A module to handle genetic data\n",
        "\n",
        "# Check version of scikit-allel -- this notebook may not work with older versions\n",
        "from distutils.version import LooseVersion # I import this module just to check that we have the\n",
        "                                           # correct version of allel -- otherwise things\n",
        "                                           # will fail\n",
        "assert LooseVersion(allel.__version__) >=  LooseVersion('1.2.0'), \\\n",
        "                \"This notebook may not work with this version of scikit-allel, requires 1.2.0\"\n"
      ],
      "execution_count": 0,
      "outputs": [
        {
          "output_type": "stream",
          "text": [
            "scikit-allel 1.2.1\n"
          ],
          "name": "stdout"
        }
      ]
    },
    {
      "cell_type": "markdown",
      "metadata": {
        "id": "b8UmWjbYFHeC",
        "colab_type": "text"
      },
      "source": [
        "This is an ipython notebook. Lectures about Python, useful both for beginners and experts, can be found at http://scipy-lectures.github.io.\n",
        "\n",
        "I recommend installing the [Anaconda](https://store.continuum.io/cshop/academicanaconda) distribution. Make sure not to pay for it! Click Anaconda Academic License; it should be free for those with academic e-mail addresses. \n",
        "\n",
        "\n",
        "Open the notebook by (1) copying this file into a directory, (2) in that directory typing\n",
        "ipython notebook\n",
        "and (3) selecting the notebook.\n",
        "\n",
        "This notebook uses the scikit-allel package. Follow instructions [here](https://anaconda.org/conda-forge/scikit-allel) to install it. \n",
        "\n",
        "Note: if you have an older version of anaconda installed, you should start by updating anaconda. \n",
        "\n",
        "\n",
        "# The Hardy-Weinberg principle\n",
        "In this exercise, we will warm up by manipulating some data from the 1000 Genomes Project and explore one of the most widely-used population genetics concepts, the Hardy-Weinberg principle. \n",
        "\n",
        "## Motivation\n",
        "If we want to be doing population genetics, we'll have to come up with a definition of what a \"population\" is. We already have an idea of what a diploid species is: it's a set of individuals that can reproduce together. Within a species, we may find multiple groups whose individuals *tend* to reproduce together, because biology, geography, or cultural factors favor matings within the group. This tendency can increase the genetic similarity of individuals within the groups. \n",
        "We'll say that a *population* is a group whose individuals reproduce preferentially with each other because of an inheritable feature. The inheritable feature is typically not genetic: it can involve geographic factors (eg, Peoples of the Americas), as well as political (e.g., Canadians), cultural (e.g., French Canadians), or a mix of all these factors (e.g., Montreal Canadians fans). None of these groups are in reproductive isolation, but individuals are statistically more likely to reproduce with members of their group, and so they form populations in the sense of population genetics. But it should be clear that not all these groups are useful to study from a genetics perspective. \n",
        "\n",
        "This brings up the question of why we need to define populations in the first place. In short, we define populations to help us build models of genetic diversity and evolution, when we think that each population can be described more simply than the whole species. For example, we often assume that indiviudals within a population behave in a relatively uniform manner. A perfectly uniform population never truly exists, and all our models are vast simplifications, but in many cases these simple models are sufficient to understand the biology that we care about. \n",
        "\n",
        "A particularly simple population is one where partners choose each other entirely randomly among all individuals. When that happens, the mathematical modelling gets much easier, because we don't have to model all the individual idiosyncracies. This is extremely convenient, and the random mating assumption plays a a central role in population genetics. The first thing we might want to do when looking at genetic data, therefore, is to check whether we can get away with this random mating assumption.\n",
        "\n",
        "Conveniently, the random mating assumption makes a very clear prediction about the genetic diversity in a population: the chromosomes inherited from each parent should be no more similar, nor dissimilar, than any two chromosomes sampled at random in the population. Therefore, if neutral alleles $a$ and $A$ segregate in a parental population, with frequencies $p_a+p_A=1$, the probability of genotypes in the descendants is \n",
        "\n",
        "$p_{AA}=p_A^2$, \n",
        "\n",
        "$p_{aA}=2 p_ap_A,$ \n",
        "\n",
        "$p_{aa}=p_ap_a$. \n",
        "\n",
        "You can verify that the expected proportion of $A$ alleles in the second generation is just  $p_A^{offspring}=p_{AA}+\\frac{p_{aA}}{2}=p_A$. Therefore, both the expected frequencies of alleles and of genotypes are conserved over time--this is the Hardy-Weinberg principle. \n",
        "\n",
        "Even without looking at the parental population, we can sometimes see that the genotype distribution does not follow the Hardy-Weinberg principle. If the counts of alleles in a population are:\n",
        "\n",
        "\n",
        "$\\#_{AA}=100$\n",
        "\n",
        "$\\#_{aA}=0$\n",
        "\n",
        "$\\#_{aa}=100,$\n",
        "\n",
        "we know that it's unlikely to have occurred in a randomly mating population--we can't find a $p_a$ and $p_A$ that match the data. If the data is consistent with the HW principle, we say that the allele is at Hardy-Weinberg equilibrium. We'll explore a few situations where Hardy-Weinberg equilibrium is not respected, but let's first look at some data and see what we find.\n",
        "\n",
        "\n",
        "\n",
        "\n",
        "\n",
        "\n",
        "You can download the data file at:\n",
        "ftp://ftp.1000genomes.ebi.ac.uk/vol1/ftp/release/20130502/\n",
        "\n",
        "Download \"ALL.chr22.phase3_shapeit2_mvncall_integrated_v5a.20130502.genotypes.vcf.gz\" to your computer and take note of where you put it. "
      ]
    },
    {
      "cell_type": "code",
      "metadata": {
        "id": "iBataYvcFHeI",
        "colab_type": "code",
        "colab": {},
        "outputId": "04271fcf-3d57-431c-d746-feb9f8ac44eb"
      },
      "source": [
        "### 2\n",
        "vcf_file_name = 'ALL.chr22.phase3_shapeit2_mvncall_integrated_v5a.20130502.genotypes.vcf.gz'\n",
        "vcf_file_path = os.path.join(os.sep, 'Users', 'aa25desh' , 'data1000gen', vcf_file_name) # Change this path as \n",
        "                                                                    # necessary!\n",
        "\n",
        "# I used a relative path here, because I stored the data file in a directory close to the \n",
        "# notebooks. To find the file I just need to go up one directory ('..'), then go in the \n",
        "# \"data/1000G\" directory to use an absolute path, I would write something like\n",
        "# vcf_file = os.path.join(os.sep,'Users','simon', 'data', '1000G', vcf_file_name) \n",
        "                                                            \n",
        "import gzip \n",
        "for line in gzip.open(vcf_file_path,'rt'):\n",
        "    if not line.startswith(\"##\"): # Comment lines in vcf files start with ##. This skips comment lines\n",
        "        print('\\t'.join(line.split()[0:10])) # The first line after the comment lines is the header line, starting w/ #\n",
        "                                             # It gives information about what data is contained in each column.\n",
        "                                             \n",
        "    if not line.startswith(\"#\"): # After the header, we find data lines, which do not start with #\n",
        "                                 # We stop after we have read one such line  \n",
        "        break;\n",
        "        \n"
      ],
      "execution_count": 0,
      "outputs": [
        {
          "output_type": "stream",
          "text": [
            "#CHROM\tPOS\tID\tREF\tALT\tQUAL\tFILTER\tINFO\tFORMAT\tHG00096\n",
            "22\t16050075\trs587697622\tA\tG\t100\tPASS\tAC=1;AF=0.000199681;AN=5008;NS=2504;DP=8012;EAS_AF=0;AMR_AF=0;AFR_AF=0;EUR_AF=0;SAS_AF=0.001;AA=.|||;VT=SNP\tGT\t0|0\n"
          ],
          "name": "stdout"
        }
      ]
    },
    {
      "cell_type": "markdown",
      "metadata": {
        "id": "O7y3gptwFHea",
        "colab_type": "text"
      },
      "source": [
        "If you are not familiar with the vcf format, read about it here: http://samtools.github.io/hts-specs/VCFv4.2.pdf. It is a very commonly used format to present sequencing data for occurence_countiple individuals.\n",
        "\n",
        "When we read the vcf file, we are reading lines of text. To analyze the data, we would need to parse the file, that is, tell python which character on each line corresponds to a position, to a genotype, to a chomosome number, etc. We would need to do this in a computationally efficient manner, because reading the file itelf is computationally demanding. And we would need to handle all kinds of possible problems with the data, such as missing genotypes, multiallelic SNPs, etc.\n",
        "\n",
        "As is often the case in python, someone has already solved that problem for us and made it available in the scikit-allel package. \n",
        "Hopefully you were able to install the scikit-allel package -- if you did, you just saved yourself hours of pain.\n",
        "\n",
        "\n",
        "\n",
        "\n"
      ]
    },
    {
      "cell_type": "markdown",
      "metadata": {
        "id": "uQhOig_tFHei",
        "colab_type": "text"
      },
      "source": [
        "Our first step will be to convert the vcf file in hdf5 format used by scikit-allel. This format takes a bit more space on disk than the compressed vcf format, but it's a lot easier (and faster) to access specific subsets of the data. It will take a few minutes to convert the file the first time we run this, but afterwards things will be much faster."
      ]
    },
    {
      "cell_type": "code",
      "metadata": {
        "id": "zuBbsogdFHel",
        "colab_type": "code",
        "colab": {}
      },
      "source": [
        "### 3\n",
        "h5_file_name = \"chr22.h5\"\n",
        "h5_file_path =  os.path.join(os.sep, 'Users', 'aa25desh' , 'data1000gen', h5_file_name)"
      ],
      "execution_count": 0,
      "outputs": []
    },
    {
      "cell_type": "markdown",
      "metadata": {
        "id": "bY-L8av_FHeu",
        "colab_type": "text"
      },
      "source": [
        "Try to read the hdf5 file. If we don't find it, we'll get an OSError. In that case, we'll create the file from the vcf. This took about 6 minutes on my computer.\n",
        "\n",
        "If you rerun the notebook a second time, the hdf5 file should exist and this should run much faster."
      ]
    },
    {
      "cell_type": "code",
      "metadata": {
        "id": "3FEuQLj-FHex",
        "colab_type": "code",
        "colab": {}
      },
      "source": [
        "### 4\n",
        "try:\n",
        "    callset = h5py.File(h5_file_path, mode='r')\n",
        "except OSError:\n",
        "    allel.vcf_to_hdf5(vcf_file_path, h5_file_path, fields='*', overwrite=True)\n",
        "    callset = h5py.File(h5_file_path, mode='r')\n",
        "    "
      ],
      "execution_count": 0,
      "outputs": []
    },
    {
      "cell_type": "markdown",
      "metadata": {
        "id": "TgIvgBP7FHe7",
        "colab_type": "text"
      },
      "source": [
        "The allel package uses a variety of data structures to encode the data to save on memory and allow for fast computation. This may cause a steep learning curve, but it will hopefully pay off in the end.  \n",
        "\n",
        "The 'callset' variable is a dictionary that contains the different types of data. "
      ]
    },
    {
      "cell_type": "code",
      "metadata": {
        "id": "y7H6SL6oFHe-",
        "colab_type": "code",
        "colab": {},
        "outputId": "eb2cafd6-2d69-4c43-8adb-cdf9ec97f174"
      },
      "source": [
        "### 5\n",
        "list(callset.keys())"
      ],
      "execution_count": 0,
      "outputs": [
        {
          "output_type": "execute_result",
          "data": {
            "text/plain": [
              "['calldata', 'samples', 'variants']"
            ]
          },
          "metadata": {
            "tags": []
          },
          "execution_count": 5
        }
      ]
    },
    {
      "cell_type": "markdown",
      "metadata": {
        "id": "j6wS2fVVFHfJ",
        "colab_type": "text"
      },
      "source": [
        "Broadly speaking, we have genotypes stored in 'calldata', meta-information about variants in 'variants', and information about samples IDs in 'samples': "
      ]
    },
    {
      "cell_type": "code",
      "metadata": {
        "id": "cYD-_oJmFHfL",
        "colab_type": "code",
        "colab": {},
        "outputId": "b8b80a9b-1ce5-4e5d-a49e-e8ae85564f3a"
      },
      "source": [
        "### 6\n",
        "callset['samples']"
      ],
      "execution_count": 0,
      "outputs": [
        {
          "output_type": "execute_result",
          "data": {
            "text/plain": [
              "<HDF5 dataset \"samples\": shape (2504,), type \"|O\">"
            ]
          },
          "metadata": {
            "tags": []
          },
          "execution_count": 6
        }
      ]
    },
    {
      "cell_type": "markdown",
      "metadata": {
        "id": "Kh5F8slAFHfS",
        "colab_type": "text"
      },
      "source": [
        "Information about samples is stored as an HDF5 dataset, with 2504 elements (that is, the number of samples).  HDF5 arrays are memory-efficient because they don't load the data in memory unless it is needed. This is why the output is only giving us general information about the dataset, but is not printing the actual data. If we want to see the data, we can ask for specific elements using the array 'slice' notation. This will produce a regular in-memory array:"
      ]
    },
    {
      "cell_type": "code",
      "metadata": {
        "id": "j0__pzHjFHfV",
        "colab_type": "code",
        "colab": {},
        "outputId": "201d0681-8cc3-4d9a-97da-6e2a27b4558d"
      },
      "source": [
        "### 7\n",
        "callset['samples'][:10]"
      ],
      "execution_count": 0,
      "outputs": [
        {
          "output_type": "execute_result",
          "data": {
            "text/plain": [
              "array(['HG00096', 'HG00097', 'HG00099', 'HG00100', 'HG00101', 'HG00102',\n",
              "       'HG00103', 'HG00105', 'HG00106', 'HG00107'], dtype=object)"
            ]
          },
          "metadata": {
            "tags": []
          },
          "execution_count": 7
        }
      ]
    },
    {
      "cell_type": "markdown",
      "metadata": {
        "id": "3PNNGMRBFHfd",
        "colab_type": "text"
      },
      "source": [
        "The hdf5 format is hierarchical: whereas the 'sample' category only contained one type of data, the 'calldata' category has more information."
      ]
    },
    {
      "cell_type": "code",
      "metadata": {
        "id": "YrJB9rIhFHff",
        "colab_type": "code",
        "colab": {},
        "outputId": "ae891c89-c917-40b2-bbb4-d440de1c181a"
      },
      "source": [
        "### 8\n",
        "callset['calldata']"
      ],
      "execution_count": 0,
      "outputs": [
        {
          "output_type": "execute_result",
          "data": {
            "text/plain": [
              "<HDF5 group \"/calldata\" (1 members)>"
            ]
          },
          "metadata": {
            "tags": []
          },
          "execution_count": 8
        }
      ]
    },
    {
      "cell_type": "markdown",
      "metadata": {
        "id": "pn2UyUe6FHfm",
        "colab_type": "text"
      },
      "source": [
        "callset['calldata'] is an hdf5 'group', rather than a dataset. This is also stored as a dictionary so we can look at its keys to see the sub-categories:"
      ]
    },
    {
      "cell_type": "code",
      "metadata": {
        "id": "ejFh30L1FHfn",
        "colab_type": "code",
        "colab": {},
        "outputId": "c9894090-893a-43c4-806f-1fb73f1872e5"
      },
      "source": [
        "### 9\n",
        "callset['calldata'].keys()"
      ],
      "execution_count": 0,
      "outputs": [
        {
          "output_type": "execute_result",
          "data": {
            "text/plain": [
              "<KeysViewHDF5 ['GT']>"
            ]
          },
          "metadata": {
            "tags": []
          },
          "execution_count": 9
        }
      ]
    },
    {
      "cell_type": "markdown",
      "metadata": {
        "id": "QzGyPJZwFHfr",
        "colab_type": "text"
      },
      "source": [
        "Now this is still slightly annoying: when we ask for the list of keys, the ouput is just a new data structure ('KeyView'), but doesn't show us the data itslef. Once again, this is designed to save memory. If we want to see the contents, we have to convert it to an in-memory format."
      ]
    },
    {
      "cell_type": "code",
      "metadata": {
        "id": "6BagP4RaFHfs",
        "colab_type": "code",
        "colab": {},
        "outputId": "b1bd453f-b0a6-4dcd-abd1-d56f0e650585"
      },
      "source": [
        "### 10\n",
        "list(callset['calldata'].keys())"
      ],
      "execution_count": 0,
      "outputs": [
        {
          "output_type": "execute_result",
          "data": {
            "text/plain": [
              "['GT']"
            ]
          },
          "metadata": {
            "tags": []
          },
          "execution_count": 10
        }
      ]
    },
    {
      "cell_type": "markdown",
      "metadata": {
        "id": "pYQOxxS5FHfw",
        "colab_type": "text"
      },
      "source": [
        "The genotypes are stored under the key 'calldata/GT'. We could refer to the data itself as callset['calldata']['GT'], or, more simply, "
      ]
    },
    {
      "cell_type": "code",
      "metadata": {
        "id": "cvPZay9JFHfx",
        "colab_type": "code",
        "colab": {},
        "outputId": "b65f6bf1-f4da-444a-8f6e-99cd1786cb70"
      },
      "source": [
        "### 11\n",
        "callset['calldata/GT']"
      ],
      "execution_count": 0,
      "outputs": [
        {
          "output_type": "execute_result",
          "data": {
            "text/plain": [
              "<HDF5 dataset \"GT\": shape (1103547, 2504, 2), type \"|i1\">"
            ]
          },
          "metadata": {
            "tags": []
          },
          "execution_count": 11
        }
      ]
    },
    {
      "cell_type": "markdown",
      "metadata": {
        "id": "VTzKowR6FHf2",
        "colab_type": "text"
      },
      "source": [
        "So we can see that the array has dimension (1103547, 2504, 2). We have:\n",
        "\n",
        "1 103 547 snps,\n",
        "\n",
        "2504 individuals,\n",
        "\n",
        "2 genotypes per snp and per individual. \n"
      ]
    },
    {
      "cell_type": "markdown",
      "metadata": {
        "id": "NlGNQZDlFHf5",
        "colab_type": "text"
      },
      "source": [
        "This is stored as an hdf5 dataset. Because genotype data is where most of the analysis is taking place, scikit-allel has a specific storage format for genotyping data that is  similar to a numpy array, but has additional properties convenient for genotype data. For example, it has a function to count the number of distinct alleles for a given snp (this takes about a minute)."
      ]
    },
    {
      "cell_type": "code",
      "metadata": {
        "id": "5Ab58UD7FHf6",
        "colab_type": "code",
        "colab": {}
      },
      "source": [
        "### 12\n",
        "genotypes = allel.GenotypeChunkedArray(callset['calldata/GT'])\n",
        "allele_counts = genotypes.count_alleles()"
      ],
      "execution_count": 0,
      "outputs": []
    },
    {
      "cell_type": "markdown",
      "metadata": {
        "id": "nU03_HamFHf9",
        "colab_type": "text"
      },
      "source": [
        "Given the matrix of allele_counts, we also have methods to identify whether a site is biallelic. "
      ]
    },
    {
      "cell_type": "code",
      "metadata": {
        "id": "l34X20jPFHf-",
        "colab_type": "code",
        "colab": {},
        "outputId": "9b6b854e-fe4b-41be-d85d-3ad54f1ea763"
      },
      "source": [
        "### 13\n",
        "is_biallelic = allele_counts.is_biallelic_01()\n",
        "is_biallelic"
      ],
      "execution_count": 0,
      "outputs": [
        {
          "output_type": "execute_result",
          "data": {
            "text/plain": [
              "<ChunkedArrayWrapper shape=(1103547,) dtype=bool chunks=(1048576,)\n",
              "   nbytes=1.1M cbytes=38.7K cratio=27.8\n",
              "   compression=gzip compression_opts=1\n",
              "   values=h5py._hl.dataset.Dataset>"
            ]
          },
          "metadata": {
            "tags": []
          },
          "execution_count": 13
        }
      ]
    },
    {
      "cell_type": "markdown",
      "metadata": {
        "id": "-dS4rohwFHgC",
        "colab_type": "text"
      },
      "source": [
        "We'll discard the non-biallelic sites, because they make everything so messy. When discarding sites, it's always a good idea to count how many things we are discarding. We'll do this a fair amount, so we might as well define a function that does this for us:"
      ]
    },
    {
      "cell_type": "code",
      "metadata": {
        "id": "v1Z3NvEeFHgE",
        "colab_type": "code",
        "colab": {},
        "outputId": "fd2d7a10-3711-4c0d-ebe0-a149e5b5450b"
      },
      "source": [
        "### 14\n",
        "def report_filter(filter_vector):\n",
        "    kept = np.sum(filter_vector)\n",
        "    length = filter_vector.shape[0]\n",
        "    print(\"kept %d out of %d. Ratio kept: %2.2f \" % (kept, length, kept/length))\n",
        "\n",
        "report_filter(is_biallelic)    "
      ],
      "execution_count": 0,
      "outputs": [
        {
          "output_type": "stream",
          "text": [
            "kept 1093133 out of 1103547. Ratio kept: 0.99 \n"
          ],
          "name": "stdout"
        }
      ]
    },
    {
      "cell_type": "markdown",
      "metadata": {
        "id": "mrTkxGlTFHgL",
        "colab_type": "text"
      },
      "source": [
        "Now we can extract only the snps that are biallelic. We'll want to keep track of the SNP positions, the genotypes, and the allele counts. The 'compress' function allows us to extract the part of the array for which a condition evaluated to True."
      ]
    },
    {
      "cell_type": "code",
      "metadata": {
        "id": "erBJkQYMFHgN",
        "colab_type": "code",
        "colab": {},
        "outputId": "6d25f4c1-15a6-4308-deaa-c8ea41982c7c"
      },
      "source": [
        "### 15\n",
        "print(\"original\")\n",
        "print(callset['variants']['ALT'][:11])\n",
        "print(\"\\n compressed\")\n",
        "print(np.compress(is_biallelic,callset['variants']['ALT'], axis = 0)[:11])"
      ],
      "execution_count": 0,
      "outputs": [
        {
          "output_type": "stream",
          "text": [
            "original\n",
            "[['G' '' '']\n",
            " ['A' '' '']\n",
            " ['T' '' '']\n",
            " ['T' '' '']\n",
            " ['A' '' '']\n",
            " ['A' '' '']\n",
            " ['A' '' '']\n",
            " ['T' '' '']\n",
            " ['T' '' '']\n",
            " ['<CN0>' '<CN2>' '<CN3>']\n",
            " ['A' '' '']]\n",
            "\n",
            " compressed\n",
            "[['G' '' '']\n",
            " ['A' '' '']\n",
            " ['T' '' '']\n",
            " ['T' '' '']\n",
            " ['A' '' '']\n",
            " ['A' '' '']\n",
            " ['A' '' '']\n",
            " ['T' '' '']\n",
            " ['T' '' '']\n",
            " ['A' '' '']\n",
            " ['T' '' '']]\n"
          ],
          "name": "stdout"
        }
      ]
    },
    {
      "cell_type": "markdown",
      "metadata": {
        "id": "z_DSbFXGFHgR",
        "colab_type": "text"
      },
      "source": [
        "We can do the same for the other arrays we will need. This also takes a couple of seconds because we need to make copies of the arrays. "
      ]
    },
    {
      "cell_type": "code",
      "metadata": {
        "id": "bdLEUa69FHgS",
        "colab_type": "code",
        "colab": {}
      },
      "source": [
        "### 16\n",
        "genotypes_biallelic = genotypes.compress(is_biallelic)\n",
        "allele_counts_biallelic_all_alleles = allele_counts.compress(is_biallelic)\n",
        "pos_biallelic = callset['variants/POS'][:].compress(is_biallelic)"
      ],
      "execution_count": 0,
      "outputs": []
    },
    {
      "cell_type": "markdown",
      "metadata": {
        "id": "5ESHVZWDFHgV",
        "colab_type": "text"
      },
      "source": [
        "Let's have a look at the resulting genotype and genotype count arrays"
      ]
    },
    {
      "cell_type": "code",
      "metadata": {
        "id": "YykZ7A9UFHgZ",
        "colab_type": "code",
        "colab": {},
        "outputId": "e837f9d4-cfc6-49ad-9cff-2b777ecc6ac9"
      },
      "source": [
        "### 17\n",
        "genotypes_biallelic[0:10]"
      ],
      "execution_count": 0,
      "outputs": [
        {
          "output_type": "execute_result",
          "data": {
            "text/html": [
              "<div class=\"allel allel-DisplayAs2D\"><span>&lt;GenotypeArray shape=(10, 2504, 2) dtype=int8&gt;</span><table><thead><tr><th></th><th style=\"text-align: center\">0</th><th style=\"text-align: center\">1</th><th style=\"text-align: center\">2</th><th style=\"text-align: center\">3</th><th style=\"text-align: center\">4</th><th style=\"text-align: center\">...</th><th style=\"text-align: center\">2499</th><th style=\"text-align: center\">2500</th><th style=\"text-align: center\">2501</th><th style=\"text-align: center\">2502</th><th style=\"text-align: center\">2503</th></tr></thead><tbody><tr><th style=\"text-align: center; background-color: white; border-right: 1px solid black; \">0</th><td style=\"text-align: center\">0/0</td><td style=\"text-align: center\">0/0</td><td style=\"text-align: center\">0/0</td><td style=\"text-align: center\">0/0</td><td style=\"text-align: center\">0/0</td><td style=\"text-align: center\">...</td><td style=\"text-align: center\">0/0</td><td style=\"text-align: center\">0/0</td><td style=\"text-align: center\">0/0</td><td style=\"text-align: center\">0/0</td><td style=\"text-align: center\">0/0</td></tr><tr><th style=\"text-align: center; background-color: white; border-right: 1px solid black; \">1</th><td style=\"text-align: center\">0/0</td><td style=\"text-align: center\">0/0</td><td style=\"text-align: center\">0/0</td><td style=\"text-align: center\">0/0</td><td style=\"text-align: center\">0/0</td><td style=\"text-align: center\">...</td><td style=\"text-align: center\">0/0</td><td style=\"text-align: center\">0/0</td><td style=\"text-align: center\">0/0</td><td style=\"text-align: center\">0/0</td><td style=\"text-align: center\">0/0</td></tr><tr><th style=\"text-align: center; background-color: white; border-right: 1px solid black; \">2</th><td style=\"text-align: center\">0/0</td><td style=\"text-align: center\">0/0</td><td style=\"text-align: center\">0/0</td><td style=\"text-align: center\">0/0</td><td style=\"text-align: center\">0/0</td><td style=\"text-align: center\">...</td><td style=\"text-align: center\">0/0</td><td style=\"text-align: center\">0/0</td><td style=\"text-align: center\">0/0</td><td style=\"text-align: center\">0/0</td><td style=\"text-align: center\">0/0</td></tr><tr><th style=\"text-align: center; background-color: white; border-right: 1px solid black; \">...</th><td style=\"text-align: center\" colspan=\"12\">...</td></tr><tr><th style=\"text-align: center; background-color: white; border-right: 1px solid black; \">7</th><td style=\"text-align: center\">0/0</td><td style=\"text-align: center\">0/0</td><td style=\"text-align: center\">0/0</td><td style=\"text-align: center\">0/0</td><td style=\"text-align: center\">0/0</td><td style=\"text-align: center\">...</td><td style=\"text-align: center\">0/0</td><td style=\"text-align: center\">0/0</td><td style=\"text-align: center\">0/0</td><td style=\"text-align: center\">0/0</td><td style=\"text-align: center\">0/0</td></tr><tr><th style=\"text-align: center; background-color: white; border-right: 1px solid black; \">8</th><td style=\"text-align: center\">0/0</td><td style=\"text-align: center\">0/0</td><td style=\"text-align: center\">0/0</td><td style=\"text-align: center\">0/0</td><td style=\"text-align: center\">0/0</td><td style=\"text-align: center\">...</td><td style=\"text-align: center\">0/0</td><td style=\"text-align: center\">0/0</td><td style=\"text-align: center\">0/0</td><td style=\"text-align: center\">0/0</td><td style=\"text-align: center\">0/0</td></tr><tr><th style=\"text-align: center; background-color: white; border-right: 1px solid black; \">9</th><td style=\"text-align: center\">0/0</td><td style=\"text-align: center\">0/0</td><td style=\"text-align: center\">0/0</td><td style=\"text-align: center\">0/0</td><td style=\"text-align: center\">0/0</td><td style=\"text-align: center\">...</td><td style=\"text-align: center\">0/0</td><td style=\"text-align: center\">0/0</td><td style=\"text-align: center\">0/0</td><td style=\"text-align: center\">0/0</td><td style=\"text-align: center\">0/0</td></tr></tbody></table></div>"
            ],
            "text/plain": [
              "<GenotypeArray shape=(10, 2504, 2) dtype=int8>\n",
              "0/0 0/0 0/0 0/0 0/0 ... 0/0 0/0 0/0 0/0 0/0\n",
              "0/0 0/0 0/0 0/0 0/0 ... 0/0 0/0 0/0 0/0 0/0\n",
              "0/0 0/0 0/0 0/0 0/0 ... 0/0 0/0 0/0 0/0 0/0\n",
              "...\n",
              "0/0 0/0 0/0 0/0 0/0 ... 0/0 0/0 0/0 0/0 0/0\n",
              "0/0 0/0 0/0 0/0 0/0 ... 0/0 0/0 0/0 0/0 0/0\n",
              "0/0 0/0 0/0 0/0 0/0 ... 0/0 0/0 0/0 0/0 0/0"
            ]
          },
          "metadata": {
            "tags": []
          },
          "execution_count": 17
        }
      ]
    },
    {
      "cell_type": "code",
      "metadata": {
        "id": "b8D7YKKBFHgi",
        "colab_type": "code",
        "colab": {},
        "outputId": "2a92e0e9-3cdd-4c55-d6b1-138f4531f9da"
      },
      "source": [
        "### 18\n",
        "allele_counts_biallelic_all_alleles[0:10]"
      ],
      "execution_count": 0,
      "outputs": [
        {
          "output_type": "execute_result",
          "data": {
            "text/html": [
              "<div class=\"allel allel-DisplayAs2D\"><span>&lt;AlleleCountsArray shape=(10, 9) dtype=int32&gt;</span><table><thead><tr><th></th><th style=\"text-align: center\">0</th><th style=\"text-align: center\">1</th><th style=\"text-align: center\">2</th><th style=\"text-align: center\">3</th><th style=\"text-align: center\">4</th><th style=\"text-align: center\">5</th><th style=\"text-align: center\">6</th><th style=\"text-align: center\">7</th><th style=\"text-align: center\">8</th></tr></thead><tbody><tr><th style=\"text-align: center; background-color: white; border-right: 1px solid black; \">0</th><td style=\"text-align: center\">5007</td><td style=\"text-align: center\">   1</td><td style=\"text-align: center\">   0</td><td style=\"text-align: center\">   0</td><td style=\"text-align: center\">   0</td><td style=\"text-align: center\">   0</td><td style=\"text-align: center\">   0</td><td style=\"text-align: center\">   0</td><td style=\"text-align: center\">   0</td></tr><tr><th style=\"text-align: center; background-color: white; border-right: 1px solid black; \">1</th><td style=\"text-align: center\">4976</td><td style=\"text-align: center\">  32</td><td style=\"text-align: center\">   0</td><td style=\"text-align: center\">   0</td><td style=\"text-align: center\">   0</td><td style=\"text-align: center\">   0</td><td style=\"text-align: center\">   0</td><td style=\"text-align: center\">   0</td><td style=\"text-align: center\">   0</td></tr><tr><th style=\"text-align: center; background-color: white; border-right: 1px solid black; \">2</th><td style=\"text-align: center\">4970</td><td style=\"text-align: center\">  38</td><td style=\"text-align: center\">   0</td><td style=\"text-align: center\">   0</td><td style=\"text-align: center\">   0</td><td style=\"text-align: center\">   0</td><td style=\"text-align: center\">   0</td><td style=\"text-align: center\">   0</td><td style=\"text-align: center\">   0</td></tr><tr><th style=\"text-align: center; background-color: white; border-right: 1px solid black; \">...</th><td style=\"text-align: center\" colspan=\"10\">...</td></tr><tr><th style=\"text-align: center; background-color: white; border-right: 1px solid black; \">7</th><td style=\"text-align: center\">5006</td><td style=\"text-align: center\">   2</td><td style=\"text-align: center\">   0</td><td style=\"text-align: center\">   0</td><td style=\"text-align: center\">   0</td><td style=\"text-align: center\">   0</td><td style=\"text-align: center\">   0</td><td style=\"text-align: center\">   0</td><td style=\"text-align: center\">   0</td></tr><tr><th style=\"text-align: center; background-color: white; border-right: 1px solid black; \">8</th><td style=\"text-align: center\">5007</td><td style=\"text-align: center\">   1</td><td style=\"text-align: center\">   0</td><td style=\"text-align: center\">   0</td><td style=\"text-align: center\">   0</td><td style=\"text-align: center\">   0</td><td style=\"text-align: center\">   0</td><td style=\"text-align: center\">   0</td><td style=\"text-align: center\">   0</td></tr><tr><th style=\"text-align: center; background-color: white; border-right: 1px solid black; \">9</th><td style=\"text-align: center\">5007</td><td style=\"text-align: center\">   1</td><td style=\"text-align: center\">   0</td><td style=\"text-align: center\">   0</td><td style=\"text-align: center\">   0</td><td style=\"text-align: center\">   0</td><td style=\"text-align: center\">   0</td><td style=\"text-align: center\">   0</td><td style=\"text-align: center\">   0</td></tr></tbody></table></div>"
            ],
            "text/plain": [
              "<AlleleCountsArray shape=(10, 9) dtype=int32>\n",
              "5007    1    0    0    0    0    0    0    0\n",
              "4976   32    0    0    0    0    0    0    0\n",
              "4970   38    0    0    0    0    0    0    0\n",
              "...\n",
              "5006    2    0    0    0    0    0    0    0\n",
              "5007    1    0    0    0    0    0    0    0\n",
              "5007    1    0    0    0    0    0    0    0"
            ]
          },
          "metadata": {
            "tags": []
          },
          "execution_count": 18
        }
      ]
    },
    {
      "cell_type": "markdown",
      "metadata": {
        "id": "xogPEWI_FHgp",
        "colab_type": "text"
      },
      "source": [
        "This has plenty of columns because we used to have multiallelic variants. We can compress to extract columns as well:"
      ]
    },
    {
      "cell_type": "code",
      "metadata": {
        "id": "IeaLM1YkFHgr",
        "colab_type": "code",
        "colab": {}
      },
      "source": [
        "### 19\n",
        "relevant_column = np.array([False] * allele_counts_biallelic_all_alleles.shape[1])\n",
        "relevant_column[0:2] = True\n",
        "allele_counts_biallelic = allele_counts_biallelic_all_alleles.compress(relevant_column, axis = 1)"
      ],
      "execution_count": 0,
      "outputs": []
    },
    {
      "cell_type": "code",
      "metadata": {
        "id": "utGDcIFQFHgu",
        "colab_type": "code",
        "colab": {},
        "outputId": "049fce74-88c6-4612-b98f-b137982ad136"
      },
      "source": [
        "### 20\n",
        "allele_counts_biallelic[0:10]"
      ],
      "execution_count": 0,
      "outputs": [
        {
          "output_type": "execute_result",
          "data": {
            "text/plain": [
              "array([[5007,    1],\n",
              "       [4976,   32],\n",
              "       [4970,   38],\n",
              "       [5007,    1],\n",
              "       [5007,    1],\n",
              "       [5006,    2],\n",
              "       [5003,    5],\n",
              "       [5006,    2],\n",
              "       [5007,    1],\n",
              "       [5007,    1]], dtype=int32)"
            ]
          },
          "metadata": {
            "tags": []
          },
          "execution_count": 20
        }
      ]
    },
    {
      "cell_type": "markdown",
      "metadata": {
        "id": "NEmzKgqpFHgy",
        "colab_type": "text"
      },
      "source": [
        "Given the allele counts, it is easy to compute the frequency of the alternate allele:"
      ]
    },
    {
      "cell_type": "code",
      "metadata": {
        "id": "ZAaILXIDFHgy",
        "colab_type": "code",
        "colab": {}
      },
      "source": [
        "### 21\n",
        "alt_allele_freqs = allele_counts_biallelic[:,1] / allele_counts_biallelic[:].sum(axis = 1)"
      ],
      "execution_count": 0,
      "outputs": []
    },
    {
      "cell_type": "markdown",
      "metadata": {
        "id": "GP8en5q6FHg1",
        "colab_type": "text"
      },
      "source": [
        "In this notebook, we don't really care about whether a genotype is listed as 1/0 or 0/1 -- we only care about whether we have 0, 1, or 2 copies of the alternate allele. We can convert genotype data into integer value alternate allele count using to_n_alt "
      ]
    },
    {
      "cell_type": "code",
      "metadata": {
        "id": "YU5PvwP9FHg3",
        "colab_type": "code",
        "colab": {}
      },
      "source": [
        "### 22\n",
        "\n",
        "genotypes_012 = genotypes_biallelic.to_n_alt(fill=-1)"
      ],
      "execution_count": 0,
      "outputs": []
    },
    {
      "cell_type": "markdown",
      "metadata": {
        "id": "eYjoXD2OFHg9",
        "colab_type": "text"
      },
      "source": [
        "### Testing for Hardy-Weinberg\n",
        "There are many distributions of genotype counts that can produce the same number of reference and alternate alleles. \n",
        "If I have 8 copies of the A allele and 8 copies of the a allele divided among 8 diploid individuals, we could have the following configuration:\n",
        "\n",
        "AA AA aA Aa Aa Aa aa aa\n",
        "\n",
        "which obeys the Hardy-Weinberg proportions perfectly.\n",
        "\n",
        "\n",
        "$p_{A}=\\frac{1}{2}$\n",
        "\n",
        "$p_{a}=\\frac{1}{2}$\n",
        "\n",
        "$p_{aa}=\\frac{1}{4} = p_a^2$\n",
        "\n",
        "$p_{AA}=\\frac{1}{4} = p_A^2$\n",
        "\n",
        "$p_{aA}=\\frac{1}{2} = 2 p_a p_A$\n",
        "\n",
        "\n",
        "\n",
        "Let's first code functions that will compute the HW genotype proportions:\n",
        "\n",
        "\n"
      ]
    },
    {
      "cell_type": "code",
      "metadata": {
        "id": "ccjFesQwFHg_",
        "colab_type": "code",
        "colab": {}
      },
      "source": [
        "### 23\n",
        "def proportion_hom_ref(frequencies):\n",
        "    \"\"\"computes the proportion of homozygote reference genotypes at a given alternate allele \n",
        "    frequency. This should work when frequency is a number or an array of frequencies.\n",
        "    The output should have the same dimension as the input.\n",
        "    \"\"\"\n",
        "    return (1-frequencies)**2 #s/n.*/n .../\n",
        "\n",
        "def proportion_het(frequencies):\n",
        "    \"\"\"computes the proportion of heterozygote genotypes at a given aleternate allele frequency.\n",
        "    This should work when frequency is a number or a vector of frequency.\n",
        "    The output should have the same dimension as the input.\n",
        "    \"\"\"\n",
        "    return 2*frequencies*(1-frequencies) #s/n.*/n .../\n",
        "\n",
        "\n",
        "\n",
        "def proportion_hom_alt(frequencies):\n",
        "    \"\"\"computes the proportion of homozygote alternate genotypes at a given alternate allele frequency..\n",
        "    This should work when frequency is a number or a vector of frequency.\n",
        "    The output should have the same dimension as the input.\n",
        "    \"\"\"\n",
        "    return frequencies**2 #s/n.*/n .../\n",
        "    "
      ],
      "execution_count": 0,
      "outputs": []
    },
    {
      "cell_type": "markdown",
      "metadata": {
        "id": "CfGduuQuFHhD",
        "colab_type": "text"
      },
      "source": [
        "These are expectations under a theoretical model. The next step is to look at the data to see if the model describes the data well. The first step is to count the genotype data "
      ]
    },
    {
      "cell_type": "code",
      "metadata": {
        "id": "IJ8zlHPHFHhD",
        "colab_type": "code",
        "colab": {}
      },
      "source": [
        "### 24\n",
        "homalt_counts = (genotypes_012==2).sum(axis = 1)\n",
        "het_counts = (genotypes_012==1).sum(axis = 1)\n",
        "homref_counts = (genotypes_012==0).sum(axis = 1)"
      ],
      "execution_count": 0,
      "outputs": []
    },
    {
      "cell_type": "markdown",
      "metadata": {
        "id": "F8e-K7NJFHhK",
        "colab_type": "text"
      },
      "source": [
        "In the next two code boxes, we'll compute the number of aa, aA, and AA at each site, and see how these proportions compare to the expectation. The resulting graph is called a \"De finetti\" diagram. "
      ]
    },
    {
      "cell_type": "code",
      "metadata": {
        "id": "VELZQZpAFHhL",
        "colab_type": "code",
        "colab": {},
        "outputId": "053caf1f-8dc0-464e-eab9-3419f46f7474"
      },
      "source": [
        "### 25\n",
        "%matplotlib inline\n",
        "import matplotlib.pyplot as plt\n",
        "\n",
        "\n",
        "####\n",
        "# First plot the Hardy-Weinberg expectation curves. These plots shouldn't use the data at all -- we'll just generate a\n",
        "# list of frequencies, p_range, and you'll plot the expected proportion of each genotype count for each frequency.   \n",
        "\n",
        "\n",
        "\n",
        "number_of_genotypes = homref_counts + het_counts + homalt_counts \n",
        "\n",
        "###########\n",
        "# Then plot the observed proportion of each genotype versus the allele frequency. \n",
        "# Each snp is represented by three snps.  \n",
        "plt.plot(alt_allele_freqs, np.array(homref_counts) / number_of_genotypes, 'ro', label = \"homozygote reference\" )\n",
        "plt.plot(alt_allele_freqs, np.array(het_counts) / number_of_genotypes, 'o', color = 'orange', label = \"heterozygote\" )\n",
        "plt.plot(alt_allele_freqs, np.array(homalt_counts) / number_of_genotypes, 'bo', label = \"homozygote alternate\")\n",
        "plt.legend(loc='upper center')\n",
        "plt.ylim([0,1])\n",
        "plt.xlabel(\"alternate allele frequency\")\n",
        "plt.ylabel(\"proportion of genotypes\")\n",
        "\n",
        "\n",
        "p_range = np.arange(0,1,.01) # A sorted list of frequencies\n",
        "\n",
        "\n",
        "plt.plot(p_range, proportion_hom_ref(p_range), 'crimson' ) # homozygote reference expectations \n",
        "plt.plot(p_range, proportion_het(p_range),  color = 'orangered' ) # heterozygote expectations \n",
        "plt.plot(p_range, proportion_hom_alt(p_range), 'aqua') # homozygote alternate expectations \n",
        "plt.title(\"De finetti diagram for 1000 Genomes chromosome 22\")\n",
        "\n",
        "\n",
        "            "
      ],
      "execution_count": 0,
      "outputs": [
        {
          "output_type": "execute_result",
          "data": {
            "text/plain": [
              "Text(0.5, 1.0, 'De finetti diagram for 1000 Genomes chromosome 22')"
            ]
          },
          "metadata": {
            "tags": []
          },
          "execution_count": 25
        },
        {
          "output_type": "display_data",
          "data": {
            "image/png": "[encoded data removed]",
            "text/plain": [
              "<Figure size 432x288 with 1 Axes>"
            ]
          },
          "metadata": {
            "tags": [],
            "needs_background": "light"
          }
        }
      ]
    },
    {
      "cell_type": "markdown",
      "metadata": {
        "id": "nXmVhiuEFHhO",
        "colab_type": "text"
      },
      "source": [
        "When we don't have HW equilibrium, it suggests that the two alleles are not inherited independently--either the parents tend to be more related (if we have an excess of homozygotes), or they tend to be less related (if we have an excess of heterozygotes). The former is much more common! \n",
        "\n",
        "However, HW disequilibrium can mean something much less biological--it can indicate that our sequencer is biased and produces too many or too few homozygotes. This is also something that we would like to know, and detecting these issues is one of the main applications of the Hardy-Weinberg principle. \n",
        "\n",
        "Even if there is no such problem, we don't expect the Hardy-Weinberg proportions to hold exactly because the number of individuals is finite. When you look at the scatter of points on your figure, it's hard to tell which points truly deviate from HW, and which are complete outliers. \n",
        "\n",
        "To test each site for Hardy-Weinberg equilibrium, we need to build a statistical test. Our null model is that the two alleles of each individual are drawn with probability $p_a$ and $p_A=1-p_a$. Our observations are the numbers $N_{aa}$, $N_{aA}$ and $N_{AA}$ of each genotype, with $N_{aa}+N_{aA}+N_{AA}=N$. We don't quite know the probabilty $p_a$, but we can estimate it from the data:\n",
        "\n",
        "$$\\hat p_a=\\frac{2N_{aa}+N_{aA}}{2N}=1-\\hat p_A.$$\n",
        "We then expect to have \n",
        "\n",
        "$N_{aa}\\simeq e_{aa}=N \\hat p_a^2$\n",
        "\n",
        "$N_{AA}\\simeq e_{AA}= N \\hat p_{A}^2$\n",
        "\n",
        "$N_{Aa,~aA} \\simeq e_{Aa} = 2 N \\hat p_{a} \\hat p_{A}.$\n",
        "\n",
        "A popular way to test the significance of departures from this distribution is to consider the test statistic\n",
        "\n",
        "$X^2= \\frac{(N_{aa}-e_{aa})^2}{e_{aa}}+ \\frac{(N_{Aa}-e_{Aa})^2}{e_{Aa}}+ \\frac{(N_{AA}-e_{AA})^2}{e_{AA}}.$\n",
        "\n",
        "Intuitively, this statistic measures the departure from our null model. Perhaps less intuitively, it follows a $\\chi^2_1$ (a chi-squared distribution with one degree of freedom) if the null model is true and we have enough data. \n",
        "\n",
        "\n",
        "\"Enough data\" means that we should expect at least a few counts in each category, so it would make sense to request at least 5 counts in both aa and AA genotypes. I.e., $e_{aa}=p_a^2*N>5$ leading to $p_a>\\sqrt{5/N},$ and similarly $p_A>\\sqrt{5/N}.$\n",
        "\n",
        "**This would be a good place to complete the chisquared notebook, which explains why this statistical test is appropriate**\n",
        "\n",
        "\n",
        "\n",
        "\n",
        "\n",
        "\n",
        "\n",
        "\n",
        "*Additional optional reading about Hardy-Weinberg testing* \n",
        "http://link.springer.com/protocol/10.1007%2F978-1-61779-555-8_6"
      ]
    },
    {
      "cell_type": "markdown",
      "metadata": {
        "id": "1Q658BbXFHhP",
        "colab_type": "text"
      },
      "source": [
        "To perform a chi-squared test, we first need to compute the expectations for each genotype:"
      ]
    },
    {
      "cell_type": "code",
      "metadata": {
        "id": "cTD-F1K7FHhQ",
        "colab_type": "code",
        "colab": {}
      },
      "source": [
        "### 26\n",
        "\n",
        "        \n",
        "        \n",
        "hom_ref_expectation = allele_counts_biallelic[:,0]**2 / (4.*np.array(number_of_genotypes)) # the expected number of homozygote references #s/=.*$/= .../ \n",
        "het_expectation = allele_counts_biallelic[:,0] * allele_counts_biallelic[:,1] / (2.*np.array(number_of_genotypes))  # the expected number of hets #s/=.*$/= .../ \n",
        "hom_alt_expectation = allele_counts_biallelic[:,1]**2 / (4.*np.array(number_of_genotypes) ) # the expected number of homozygote nonreferences #s/=.*$/= .../ \n",
        "\n"
      ],
      "execution_count": 0,
      "outputs": []
    },
    {
      "cell_type": "code",
      "metadata": {
        "id": "k-_sDPp8FHhU",
        "colab_type": "code",
        "colab": {}
      },
      "source": [
        "### 27\n",
        "expectations = np.vstack([hom_ref_expectation,het_expectation, \n",
        "                                                  hom_alt_expectation] ).transpose()\n",
        "\n",
        "\n",
        "observations = np.vstack([homref_counts, het_counts, \n",
        "                                                  homalt_counts] ).transpose()"
      ],
      "execution_count": 0,
      "outputs": []
    },
    {
      "cell_type": "code",
      "metadata": {
        "id": "uWqBzq6uFHhX",
        "colab_type": "code",
        "colab": {},
        "outputId": "1fd53c75-dd5a-46ad-f32f-0fe2bd14a108"
      },
      "source": [
        "### 28\n",
        "print(\"expectations for snp 0\")\n",
        "print(expectations[0,:])\n",
        "print(\"observations for snp 0\")\n",
        "print(np.array(observations[0,:]))\n"
      ],
      "execution_count": 0,
      "outputs": [
        {
          "output_type": "stream",
          "text": [
            "expectations for snp 0\n",
            "[2.50300010e+03 9.99800319e-01 9.98402556e-05]\n",
            "observations for snp 0\n",
            "[2503    1    0]\n"
          ],
          "name": "stdout"
        }
      ]
    },
    {
      "cell_type": "markdown",
      "metadata": {
        "id": "NH9kuN_GFHhc",
        "colab_type": "text"
      },
      "source": [
        "Performing the chi-squared test is now very straightforward:"
      ]
    },
    {
      "cell_type": "code",
      "metadata": {
        "id": "CWcSKZQOFHhd",
        "colab_type": "code",
        "colab": {}
      },
      "source": [
        "### 29\n",
        "hw_test_results = scipy.stats.chisquare(observations, expectations, axis = 1, ddof=1)"
      ],
      "execution_count": 0,
      "outputs": []
    },
    {
      "cell_type": "code",
      "metadata": {
        "id": "AsQzqXJTFHhh",
        "colab_type": "code",
        "colab": {}
      },
      "source": [
        "### 30\n",
        "hw_p_values = hw_test_results[1]\n",
        "excess_het = het_counts/expectations[:,1]"
      ],
      "execution_count": 0,
      "outputs": []
    },
    {
      "cell_type": "code",
      "metadata": {
        "id": "hjY_QRC2FHhj",
        "colab_type": "code",
        "colab": {},
        "outputId": "3c8e7d11-775b-482d-b581-71a02f012ab4"
      },
      "source": [
        "### 31\n",
        "n_inspect = 30\n",
        "for i in range(n_inspect):\n",
        "    print(\"genotypes\\taa\\taA\\tAA\")\n",
        "    print(\"observed\\t%d\\t%d\\t%d\" % (homref_counts[i], het_counts[i], homalt_counts[i]))\n",
        "    print(\"expected\\t%2.1f\\t%2.1f\\t%2.1f\" % (expectations[i,0], expectations[i,1], expectations[i,2]))\n",
        "    print(\"chi-squared p-value,\\t\", hw_p_values[i],\"\\n\")"
      ],
      "execution_count": 0,
      "outputs": [
        {
          "output_type": "stream",
          "text": [
            "genotypes\taa\taA\tAA\n",
            "observed\t2503\t1\t0\n",
            "expected\t2503.0\t1.0\t0.0\n",
            "chi-squared p-value,\t 0.9920260702938559 \n",
            "\n",
            "genotypes\taa\taA\tAA\n",
            "observed\t2472\t32\t0\n",
            "expected\t2472.1\t31.8\t0.1\n",
            "chi-squared p-value,\t 0.747603804974118 \n",
            "\n",
            "genotypes\taa\taA\tAA\n",
            "observed\t2467\t36\t1\n",
            "expected\t2466.1\t37.7\t0.1\n",
            "chi-squared p-value,\t 0.023133620432969956 \n",
            "\n",
            "genotypes\taa\taA\tAA\n",
            "observed\t2503\t1\t0\n",
            "expected\t2503.0\t1.0\t0.0\n",
            "chi-squared p-value,\t 0.9920260702938559 \n",
            "\n",
            "genotypes\taa\taA\tAA\n",
            "observed\t2503\t1\t0\n",
            "expected\t2503.0\t1.0\t0.0\n",
            "chi-squared p-value,\t 0.9920260702938559 \n",
            "\n",
            "genotypes\taa\taA\tAA\n",
            "observed\t2502\t2\t0\n",
            "expected\t2502.0\t2.0\t0.0\n",
            "chi-squared p-value,\t 0.984049751812969 \n",
            "\n",
            "genotypes\taa\taA\tAA\n",
            "observed\t2499\t5\t0\n",
            "expected\t2499.0\t5.0\t0.0\n",
            "chi-squared p-value,\t 0.9601144369577925 \n",
            "\n",
            "genotypes\taa\taA\tAA\n",
            "observed\t2502\t2\t0\n",
            "expected\t2502.0\t2.0\t0.0\n",
            "chi-squared p-value,\t 0.984049751812969 \n",
            "\n",
            "genotypes\taa\taA\tAA\n",
            "observed\t2503\t1\t0\n",
            "expected\t2503.0\t1.0\t0.0\n",
            "chi-squared p-value,\t 0.9920260702938559 \n",
            "\n",
            "genotypes\taa\taA\tAA\n",
            "observed\t2503\t1\t0\n",
            "expected\t2503.0\t1.0\t0.0\n",
            "chi-squared p-value,\t 0.9920260702938559 \n",
            "\n",
            "genotypes\taa\taA\tAA\n",
            "observed\t2502\t2\t0\n",
            "expected\t2502.0\t2.0\t0.0\n",
            "chi-squared p-value,\t 0.984049751812969 \n",
            "\n",
            "genotypes\taa\taA\tAA\n",
            "observed\t2503\t1\t0\n",
            "expected\t2503.0\t1.0\t0.0\n",
            "chi-squared p-value,\t 0.9920260702938559 \n",
            "\n",
            "genotypes\taa\taA\tAA\n",
            "observed\t2503\t1\t0\n",
            "expected\t2503.0\t1.0\t0.0\n",
            "chi-squared p-value,\t 0.9920260702938559 \n",
            "\n",
            "genotypes\taa\taA\tAA\n",
            "observed\t2503\t1\t0\n",
            "expected\t2503.0\t1.0\t0.0\n",
            "chi-squared p-value,\t 0.9920260702938559 \n",
            "\n",
            "genotypes\taa\taA\tAA\n",
            "observed\t2467\t36\t1\n",
            "expected\t2466.1\t37.7\t0.1\n",
            "chi-squared p-value,\t 0.023133620432969956 \n",
            "\n",
            "genotypes\taa\taA\tAA\n",
            "observed\t2503\t1\t0\n",
            "expected\t2503.0\t1.0\t0.0\n",
            "chi-squared p-value,\t 0.9920260702938559 \n",
            "\n",
            "genotypes\taa\taA\tAA\n",
            "observed\t2466\t37\t1\n",
            "expected\t2465.2\t38.7\t0.2\n",
            "chi-squared p-value,\t 0.028267993119365915 \n",
            "\n",
            "genotypes\taa\taA\tAA\n",
            "observed\t2478\t26\t0\n",
            "expected\t2478.1\t25.9\t0.1\n",
            "chi-squared p-value,\t 0.7939783384804816 \n",
            "\n",
            "genotypes\taa\taA\tAA\n",
            "observed\t2498\t6\t0\n",
            "expected\t2498.0\t6.0\t0.0\n",
            "chi-squared p-value,\t 0.9521365428300308 \n",
            "\n",
            "genotypes\taa\taA\tAA\n",
            "observed\t2503\t1\t0\n",
            "expected\t2503.0\t1.0\t0.0\n",
            "chi-squared p-value,\t 0.9920260702938559 \n",
            "\n",
            "genotypes\taa\taA\tAA\n",
            "observed\t2503\t1\t0\n",
            "expected\t2503.0\t1.0\t0.0\n",
            "chi-squared p-value,\t 0.9920260702938559 \n",
            "\n",
            "genotypes\taa\taA\tAA\n",
            "observed\t2485\t19\t0\n",
            "expected\t2485.0\t18.9\t0.0\n",
            "chi-squared p-value,\t 0.848861558929411 \n",
            "\n",
            "genotypes\taa\taA\tAA\n",
            "observed\t2502\t2\t0\n",
            "expected\t2502.0\t2.0\t0.0\n",
            "chi-squared p-value,\t 0.984049751812969 \n",
            "\n",
            "genotypes\taa\taA\tAA\n",
            "observed\t2503\t1\t0\n",
            "expected\t2503.0\t1.0\t0.0\n",
            "chi-squared p-value,\t 0.9920260702938559 \n",
            "\n",
            "genotypes\taa\taA\tAA\n",
            "observed\t2503\t1\t0\n",
            "expected\t2503.0\t1.0\t0.0\n",
            "chi-squared p-value,\t 0.9920260702938559 \n",
            "\n",
            "genotypes\taa\taA\tAA\n",
            "observed\t2484\t20\t0\n",
            "expected\t2484.0\t19.9\t0.0\n",
            "chi-squared p-value,\t 0.8409789246492491 \n",
            "\n",
            "genotypes\taa\taA\tAA\n",
            "observed\t2501\t3\t0\n",
            "expected\t2501.0\t3.0\t0.0\n",
            "chi-squared p-value,\t 0.9760718411878782 \n",
            "\n",
            "genotypes\taa\taA\tAA\n",
            "observed\t2503\t1\t0\n",
            "expected\t2503.0\t1.0\t0.0\n",
            "chi-squared p-value,\t 0.9920260702938559 \n",
            "\n",
            "genotypes\taa\taA\tAA\n",
            "observed\t2497\t7\t0\n",
            "expected\t2497.0\t7.0\t0.0\n",
            "chi-squared p-value,\t 0.9441602550338726 \n",
            "\n",
            "genotypes\taa\taA\tAA\n",
            "observed\t2503\t1\t0\n",
            "expected\t2503.0\t1.0\t0.0\n",
            "chi-squared p-value,\t 0.9920260702938559 \n",
            "\n"
          ],
          "name": "stdout"
        }
      ]
    },
    {
      "cell_type": "markdown",
      "metadata": {
        "id": "4PgFlaqZFHhl",
        "colab_type": "text"
      },
      "source": [
        "Something here should make you feel a bit uncomfortable - we don't fulfil the conditions under which the chi-square test is accurate. So we'd want to restrict the search to places where expected counts in each category are at least 5. \n",
        "\n",
        "*Discussion question*\n",
        "\n",
        "Does it mater if the number of *observations* is less than 5? Why?\n",
        "\n",
        "\n",
        "So we'll now only consider snps that have enough observations to justify the chi-square test.\n"
      ]
    },
    {
      "cell_type": "code",
      "metadata": {
        "id": "v9FcGUP6FHhm",
        "colab_type": "code",
        "colab": {}
      },
      "source": [
        "### 32\n",
        "is_common = expectations.min(axis=1)>5"
      ],
      "execution_count": 0,
      "outputs": []
    },
    {
      "cell_type": "code",
      "metadata": {
        "id": "miS0m6yTFHho",
        "colab_type": "code",
        "colab": {},
        "outputId": "dffca2cb-9a00-4226-cef4-b610b623642f"
      },
      "source": [
        "### 33\n",
        "n_inspect = 100\n",
        "for i in range(n_inspect):\n",
        "    if is_common[i]:\n",
        "        print(\"genotypes\\taa\\taA\\tAA\")\n",
        "        print(\"observed\\t%d\\t%d\\t%d\" % (homref_counts[i], het_counts[i], homalt_counts[i]))\n",
        "        print(\"expected\\t%2.1f\\t%2.1f\\t%2.1f\" % (expectations[i,0], expectations[i,1], expectations[i,2]))\n",
        "        print(\"HW p-value,\\t\", hw_p_values[i],\"\\n\")"
      ],
      "execution_count": 0,
      "outputs": [
        {
          "output_type": "stream",
          "text": [
            "genotypes\taa\taA\tAA\n",
            "observed\t1995\t455\t54\n",
            "expected\t1972.6\t499.7\t31.6\n",
            "HW p-value,\t 7.572006862208043e-06 \n",
            "\n",
            "genotypes\taa\taA\tAA\n",
            "observed\t1797\t707\t0\n",
            "expected\t1846.9\t607.2\t49.9\n",
            "HW p-value,\t 1.9423005588494258e-16 \n",
            "\n",
            "genotypes\taa\taA\tAA\n",
            "observed\t746\t1149\t609\n",
            "expected\t696.4\t1248.3\t559.4\n",
            "HW p-value,\t 6.925639404283662e-05 \n",
            "\n",
            "genotypes\taa\taA\tAA\n",
            "observed\t2072\t394\t38\n",
            "expected\t2056.1\t425.9\t22.1\n",
            "HW p-value,\t 0.00017897567991284358 \n",
            "\n",
            "genotypes\taa\taA\tAA\n",
            "observed\t2144\t349\t11\n",
            "expected\t2146.7\t343.5\t13.7\n",
            "HW p-value,\t 0.4243555044945112 \n",
            "\n"
          ],
          "name": "stdout"
        }
      ]
    },
    {
      "cell_type": "markdown",
      "metadata": {
        "id": "bbrCEOp1FHht",
        "colab_type": "text"
      },
      "source": [
        "A lot of these sites are significantly departing from the Hardy-Weinberg assumptions. Most of them have too many homozygotes, as we would expect under inbreeding, but a few sites have way too many hets. What do you think is going on?"
      ]
    },
    {
      "cell_type": "markdown",
      "metadata": {
        "id": "CtFhyAGpFHhu",
        "colab_type": "text"
      },
      "source": [
        "If the snps obey our null model, the distribution of p-values should be uniformly distributed between 0 and 1.\n",
        "\n",
        "*Convince yourself that this expectation should hold true, mathematically or by simulating it*\n",
        "\n",
        "We can inspect this visually. First we'll extract the p-values for positions where the chi-square test is applicable.  \n",
        "\n"
      ]
    },
    {
      "cell_type": "code",
      "metadata": {
        "id": "JwNHs5NbFHhv",
        "colab_type": "code",
        "colab": {}
      },
      "source": [
        "### 34\n",
        "common_p_values  = hw_p_values.compress(is_common)\n",
        "common_positions = pos_biallelic.compress(is_common) \n",
        "common_excess_het = excess_het.compress(is_common) \n"
      ],
      "execution_count": 0,
      "outputs": []
    },
    {
      "cell_type": "markdown",
      "metadata": {
        "id": "6e63KuJTFHhy",
        "colab_type": "text"
      },
      "source": [
        "Then we plot the distribution of p-values."
      ]
    },
    {
      "cell_type": "code",
      "metadata": {
        "id": "oSYV669fFHhz",
        "colab_type": "code",
        "colab": {},
        "outputId": "f8473fd0-0cf9-4b0e-d03c-37b3d229820b"
      },
      "source": [
        "### 35\n",
        "plt.hist(common_p_values, bins=100);\n",
        "plt.xlabel(\"p_values\")\n",
        "plt.ylabel(\"number of observations\")\n",
        "plt.title(\"distribution of chi-squared p-values\")"
      ],
      "execution_count": 0,
      "outputs": [
        {
          "output_type": "execute_result",
          "data": {
            "text/plain": [
              "Text(0.5, 1.0, 'distribution of chi-squared p-values')"
            ]
          },
          "metadata": {
            "tags": []
          },
          "execution_count": 35
        },
        {
          "output_type": "display_data",
          "data": {
            "image/png": "[encoded data removed]",
            "text/plain": [
              "<Figure size 432x288 with 1 Axes>"
            ]
          },
          "metadata": {
            "tags": [],
            "needs_background": "light"
          }
        }
      ]
    },
    {
      "cell_type": "markdown",
      "metadata": {
        "id": "-uwAm3v3FHh2",
        "colab_type": "text"
      },
      "source": [
        "How do you interpret this figure? \n",
        "\n",
        "We'd now like to distinguish between sites who fail Hardy-Weingberg because of technical reasons from those who fail because of biological or population genetic reasons. One thing to look for is whether SNPs that fail the test clump together: sequencing artifacts tend to come in batches, and if we find a few bad regions, we'll have a hint that the errors are likely to be technical.  \n",
        "\n",
        "Let's plot the excess of heterozygosity vs. genomic position"
      ]
    },
    {
      "cell_type": "code",
      "metadata": {
        "id": "-p1t9fnIFHh3",
        "colab_type": "code",
        "colab": {},
        "outputId": "19e2d169-7aa7-444f-e8c5-3914c2ab4d9b"
      },
      "source": [
        "### 36\n",
        "plt.plot(common_positions, common_excess_het[:],'o',markersize=1)\n",
        "plt.xlabel(\"genomic position\")\n",
        "plt.ylabel(\"excess heterozygosity\")"
      ],
      "execution_count": 0,
      "outputs": [
        {
          "output_type": "execute_result",
          "data": {
            "text/plain": [
              "Text(0, 0.5, 'excess heterozygosity')"
            ]
          },
          "metadata": {
            "tags": []
          },
          "execution_count": 36
        },
        {
          "output_type": "display_data",
          "data": {
            "image/png": "[encoded data removed]",
            "text/plain": [
              "<Figure size 432x288 with 1 Axes>"
            ]
          },
          "metadata": {
            "tags": [],
            "needs_background": "light"
          }
        }
      ]
    },
    {
      "cell_type": "markdown",
      "metadata": {
        "id": "rZB1QOjQFHh8",
        "colab_type": "text"
      },
      "source": [
        "Zooming in"
      ]
    },
    {
      "cell_type": "code",
      "metadata": {
        "id": "_aHJu5RBFHh-",
        "colab_type": "code",
        "colab": {},
        "outputId": "296e5f0d-c8fb-4246-9b6f-cc70b042c1a0"
      },
      "source": [
        "### 37\n",
        "plt.plot(common_positions[:10000], common_excess_het[:10000],'o',markersize=1)\n",
        "plt.xlabel(\"genomic position\")\n",
        "plt.ylabel(\"excess heterozygosity\")"
      ],
      "execution_count": 0,
      "outputs": [
        {
          "output_type": "execute_result",
          "data": {
            "text/plain": [
              "Text(0, 0.5, 'excess heterozygosity')"
            ]
          },
          "metadata": {
            "tags": []
          },
          "execution_count": 37
        },
        {
          "output_type": "display_data",
          "data": {
            "image/png": "[encoded data removed]",
            "text/plain": [
              "<Figure size 432x288 with 1 Axes>"
            ]
          },
          "metadata": {
            "tags": [],
            "needs_background": "light"
          }
        }
      ]
    },
    {
      "cell_type": "markdown",
      "metadata": {
        "id": "O94oEQNzFHiD",
        "colab_type": "text"
      },
      "source": [
        "There appears to be regions that behave poorly. These could be regions undergoing selection, but most likely they are regions of poor call quality. Because it's a large number of sites, it's a concern. Maybe we want to report those to the 1000 Genomes project?\n",
        "\n",
        "Before we do this, it would make sense to look at whether the problem was identified already. The 1000 genomes project has a \"mask\" file that tells users of the regions that should be considered trustworthy, and which should be considered with caution. \n",
        "\n",
        "This file is at:\n",
        "ftp://ftp-trace.ncbi.nih.gov/1000genomes/ftp/release/20130502/supporting/accessible_genome_masks/20141020.strict_mask.whole_genome.bed\n",
        "\n",
        "from the accompanying readme file:\n",
        "\n",
        "*The StrictMask directory uses a more stringent definition. This definition uses\n",
        "a narrower band for coverage, requiring that total coverage should be within 50%\n",
        "of the average, that no more than 0.1% of reads have mapping quality of zero, \n",
        "and that the average mapping quality for the position should be 56 or greater.\n",
        "This definition is quite stringent and focuses on the most unique regions of the \n",
        "genome. The average total depth of coverage across Phase 3 samples is 17920. Thus, sites\n",
        "with a depth of coverage of <8960 or >26880 were excluded.\n",
        "Overall, this strict mask results in about 6.8% of bases marked N, 1.1% marked\n",
        "L, 0.5% marked H, 16.8% marked Z, and 3.1% marked Q. The remaining 71.7% of\n",
        "passed are marked passed (P) - corresponding to 76.9% of the non-N bases.*\n",
        "\n",
        "The bed file format is often used to describe genomic regions; specifications can be found here: \n",
        "\n",
        "http://genome.ucsc.edu/FAQ/FAQformat.html\n",
        "There's a suite of tools to handle bed files, https://github.com/arq5x/bedtools2. But here we'll want to manipulate it ourselves, so we'll write our own parser. \n",
        "\n",
        "\n"
      ]
    },
    {
      "cell_type": "code",
      "metadata": {
        "id": "UnQk6OndFHiE",
        "colab_type": "code",
        "colab": {}
      },
      "source": [
        "### 38\n",
        "bed_file = os.path.join(os.sep, 'Users', 'aa25desh' , 'data1000gen', '20141020.strict_mask.whole_genome.bed')"
      ],
      "execution_count": 0,
      "outputs": []
    },
    {
      "cell_type": "code",
      "metadata": {
        "id": "YJVyPcnDFHiG",
        "colab_type": "code",
        "colab": {},
        "outputId": "11d8a2b3-035a-483d-ef26-b31b39da9848"
      },
      "source": [
        "### 39\n",
        "mask_bed = pandas.read_csv(bed_file, sep='\\t', header=None)\n",
        "mask_bed"
      ],
      "execution_count": 0,
      "outputs": [
        {
          "output_type": "execute_result",
          "data": {
            "text/html": [
              "<div>\n",
              "<style scoped>\n",
              "    .dataframe tbody tr th:only-of-type {\n",
              "        vertical-align: middle;\n",
              "    }\n",
              "\n",
              "    .dataframe tbody tr th {\n",
              "        vertical-align: top;\n",
              "    }\n",
              "\n",
              "    .dataframe thead th {\n",
              "        text-align: right;\n",
              "    }\n",
              "</style>\n",
              "<table border=\"1\" class=\"dataframe\">\n",
              "  <thead>\n",
              "    <tr style=\"text-align: right;\">\n",
              "      <th></th>\n",
              "      <th>0</th>\n",
              "      <th>1</th>\n",
              "      <th>2</th>\n",
              "      <th>3</th>\n",
              "    </tr>\n",
              "  </thead>\n",
              "  <tbody>\n",
              "    <tr>\n",
              "      <td>0</td>\n",
              "      <td>chr1</td>\n",
              "      <td>754450</td>\n",
              "      <td>754464</td>\n",
              "      <td>strict</td>\n",
              "    </tr>\n",
              "    <tr>\n",
              "      <td>1</td>\n",
              "      <td>chr1</td>\n",
              "      <td>754480</td>\n",
              "      <td>754512</td>\n",
              "      <td>strict</td>\n",
              "    </tr>\n",
              "    <tr>\n",
              "      <td>2</td>\n",
              "      <td>chr1</td>\n",
              "      <td>755215</td>\n",
              "      <td>755246</td>\n",
              "      <td>strict</td>\n",
              "    </tr>\n",
              "    <tr>\n",
              "      <td>3</td>\n",
              "      <td>chr1</td>\n",
              "      <td>756782</td>\n",
              "      <td>756872</td>\n",
              "      <td>strict</td>\n",
              "    </tr>\n",
              "    <tr>\n",
              "      <td>4</td>\n",
              "      <td>chr1</td>\n",
              "      <td>756880</td>\n",
              "      <td>756922</td>\n",
              "      <td>strict</td>\n",
              "    </tr>\n",
              "    <tr>\n",
              "      <td>...</td>\n",
              "      <td>...</td>\n",
              "      <td>...</td>\n",
              "      <td>...</td>\n",
              "      <td>...</td>\n",
              "    </tr>\n",
              "    <tr>\n",
              "      <td>4185731</td>\n",
              "      <td>chrY</td>\n",
              "      <td>28801544</td>\n",
              "      <td>28801571</td>\n",
              "      <td>strict</td>\n",
              "    </tr>\n",
              "    <tr>\n",
              "      <td>4185732</td>\n",
              "      <td>chrY</td>\n",
              "      <td>28801572</td>\n",
              "      <td>28801573</td>\n",
              "      <td>strict</td>\n",
              "    </tr>\n",
              "    <tr>\n",
              "      <td>4185733</td>\n",
              "      <td>chrY</td>\n",
              "      <td>28801765</td>\n",
              "      <td>28801841</td>\n",
              "      <td>strict</td>\n",
              "    </tr>\n",
              "    <tr>\n",
              "      <td>4185734</td>\n",
              "      <td>chrY</td>\n",
              "      <td>28801988</td>\n",
              "      <td>28802003</td>\n",
              "      <td>strict</td>\n",
              "    </tr>\n",
              "    <tr>\n",
              "      <td>4185735</td>\n",
              "      <td>chrY</td>\n",
              "      <td>28802041</td>\n",
              "      <td>28802057</td>\n",
              "      <td>strict</td>\n",
              "    </tr>\n",
              "  </tbody>\n",
              "</table>\n",
              "<p>4185736 rows × 4 columns</p>\n",
              "</div>"
            ],
            "text/plain": [
              "            0         1         2       3\n",
              "0        chr1    754450    754464  strict\n",
              "1        chr1    754480    754512  strict\n",
              "2        chr1    755215    755246  strict\n",
              "3        chr1    756782    756872  strict\n",
              "4        chr1    756880    756922  strict\n",
              "...       ...       ...       ...     ...\n",
              "4185731  chrY  28801544  28801571  strict\n",
              "4185732  chrY  28801572  28801573  strict\n",
              "4185733  chrY  28801765  28801841  strict\n",
              "4185734  chrY  28801988  28802003  strict\n",
              "4185735  chrY  28802041  28802057  strict\n",
              "\n",
              "[4185736 rows x 4 columns]"
            ]
          },
          "metadata": {
            "tags": []
          },
          "execution_count": 39
        }
      ]
    },
    {
      "cell_type": "markdown",
      "metadata": {
        "id": "eWRoAxu5FHiI",
        "colab_type": "text"
      },
      "source": [
        "We only care about the entries relevant to chromosome 22"
      ]
    },
    {
      "cell_type": "code",
      "metadata": {
        "id": "lEA081YRFHiJ",
        "colab_type": "code",
        "colab": {},
        "outputId": "b55a2271-3d61-4018-85b4-3529ed97149a"
      },
      "source": [
        "### 40\n",
        "mask_bed = mask_bed.loc[mask_bed[0] == 'chr22']\n",
        "n_features = mask_bed.shape[0]\n",
        "print(\"number of features:\", n_features)\n",
        "mask_bed"
      ],
      "execution_count": 0,
      "outputs": [
        {
          "output_type": "stream",
          "text": [
            "number of features: 55707\n"
          ],
          "name": "stdout"
        },
        {
          "output_type": "execute_result",
          "data": {
            "text/html": [
              "<div>\n",
              "<style scoped>\n",
              "    .dataframe tbody tr th:only-of-type {\n",
              "        vertical-align: middle;\n",
              "    }\n",
              "\n",
              "    .dataframe tbody tr th {\n",
              "        vertical-align: top;\n",
              "    }\n",
              "\n",
              "    .dataframe thead th {\n",
              "        text-align: right;\n",
              "    }\n",
              "</style>\n",
              "<table border=\"1\" class=\"dataframe\">\n",
              "  <thead>\n",
              "    <tr style=\"text-align: right;\">\n",
              "      <th></th>\n",
              "      <th>0</th>\n",
              "      <th>1</th>\n",
              "      <th>2</th>\n",
              "      <th>3</th>\n",
              "    </tr>\n",
              "  </thead>\n",
              "  <tbody>\n",
              "    <tr>\n",
              "      <td>3832260</td>\n",
              "      <td>chr22</td>\n",
              "      <td>16554726</td>\n",
              "      <td>16554908</td>\n",
              "      <td>strict</td>\n",
              "    </tr>\n",
              "    <tr>\n",
              "      <td>3832261</td>\n",
              "      <td>chr22</td>\n",
              "      <td>16848370</td>\n",
              "      <td>16848383</td>\n",
              "      <td>strict</td>\n",
              "    </tr>\n",
              "    <tr>\n",
              "      <td>3832262</td>\n",
              "      <td>chr22</td>\n",
              "      <td>16848391</td>\n",
              "      <td>16848394</td>\n",
              "      <td>strict</td>\n",
              "    </tr>\n",
              "    <tr>\n",
              "      <td>3832263</td>\n",
              "      <td>chr22</td>\n",
              "      <td>16848606</td>\n",
              "      <td>16848635</td>\n",
              "      <td>strict</td>\n",
              "    </tr>\n",
              "    <tr>\n",
              "      <td>3832264</td>\n",
              "      <td>chr22</td>\n",
              "      <td>16848647</td>\n",
              "      <td>16848654</td>\n",
              "      <td>strict</td>\n",
              "    </tr>\n",
              "    <tr>\n",
              "      <td>...</td>\n",
              "      <td>...</td>\n",
              "      <td>...</td>\n",
              "      <td>...</td>\n",
              "      <td>...</td>\n",
              "    </tr>\n",
              "    <tr>\n",
              "      <td>3887962</td>\n",
              "      <td>chr22</td>\n",
              "      <td>51185455</td>\n",
              "      <td>51185457</td>\n",
              "      <td>strict</td>\n",
              "    </tr>\n",
              "    <tr>\n",
              "      <td>3887963</td>\n",
              "      <td>chr22</td>\n",
              "      <td>51185460</td>\n",
              "      <td>51185563</td>\n",
              "      <td>strict</td>\n",
              "    </tr>\n",
              "    <tr>\n",
              "      <td>3887964</td>\n",
              "      <td>chr22</td>\n",
              "      <td>51185606</td>\n",
              "      <td>51185614</td>\n",
              "      <td>strict</td>\n",
              "    </tr>\n",
              "    <tr>\n",
              "      <td>3887965</td>\n",
              "      <td>chr22</td>\n",
              "      <td>51187902</td>\n",
              "      <td>51187951</td>\n",
              "      <td>strict</td>\n",
              "    </tr>\n",
              "    <tr>\n",
              "      <td>3887966</td>\n",
              "      <td>chr22</td>\n",
              "      <td>51188129</td>\n",
              "      <td>51188160</td>\n",
              "      <td>strict</td>\n",
              "    </tr>\n",
              "  </tbody>\n",
              "</table>\n",
              "<p>55707 rows × 4 columns</p>\n",
              "</div>"
            ],
            "text/plain": [
              "             0         1         2       3\n",
              "3832260  chr22  16554726  16554908  strict\n",
              "3832261  chr22  16848370  16848383  strict\n",
              "3832262  chr22  16848391  16848394  strict\n",
              "3832263  chr22  16848606  16848635  strict\n",
              "3832264  chr22  16848647  16848654  strict\n",
              "...        ...       ...       ...     ...\n",
              "3887962  chr22  51185455  51185457  strict\n",
              "3887963  chr22  51185460  51185563  strict\n",
              "3887964  chr22  51185606  51185614  strict\n",
              "3887965  chr22  51187902  51187951  strict\n",
              "3887966  chr22  51188129  51188160  strict\n",
              "\n",
              "[55707 rows x 4 columns]"
            ]
          },
          "metadata": {
            "tags": []
          },
          "execution_count": 40
        }
      ]
    },
    {
      "cell_type": "markdown",
      "metadata": {
        "id": "NpkWFYhjFHiQ",
        "colab_type": "text"
      },
      "source": [
        "The .bed format has the particularity that the start coordinate is exclusive, and the end coordinates is exclusive, so that the first segment runs from 754451 to 754464, inclusively. This was decided so that lengths can be computed directly by taking the difference of the two columns. I disapprove of that convention."
      ]
    },
    {
      "cell_type": "markdown",
      "metadata": {
        "id": "166tScl_FHiQ",
        "colab_type": "text"
      },
      "source": [
        "Now, let's overlay the two pieces of information."
      ]
    },
    {
      "cell_type": "code",
      "metadata": {
        "id": "-XJ60lsRFHiR",
        "colab_type": "code",
        "colab": {}
      },
      "source": [
        "### 41\n",
        "starts = np.array(mask_bed[1]) + 1\n",
        "ends = np.array(mask_bed[2])"
      ],
      "execution_count": 0,
      "outputs": []
    },
    {
      "cell_type": "code",
      "metadata": {
        "id": "wPcxoP_KFHiU",
        "colab_type": "code",
        "colab": {},
        "outputId": "84fcd42f-5f10-4e15-dfb6-86560dfcd6ec"
      },
      "source": [
        "### 42\n",
        "start_at_snp = 0\n",
        "n_snps_to_plot = 20000\n",
        "start_position = common_positions[0]\n",
        "end_position = common_positions[n_snps_to_plot]\n",
        "plt.plot(common_positions[:n_snps_to_plot], common_excess_het[:n_snps_to_plot],'o',markersize=1)\n",
        "plt.xlabel(\"genomic position\")\n",
        "plt.ylabel(\"excess heterozygosity\")\n",
        "for i in range(len(starts)):\n",
        "    feature_start = starts[i] \n",
        "    feature_end = ends[i]\n",
        "    if (feature_start < start_position and feature_end > start_position) \\\n",
        "    or ( start_position < feature_start < end_position ):\n",
        "        plt.plot([feature_start, feature_end], [1,1], 'r-', lw=2)\n",
        "plt.plot([feature_start, feature_end], [1,1],\n",
        "         'r-', lw=2, label=\"good regions\") # Add one more to produce a legend\n",
        "plt.xlim([start_position, end_position])\n",
        "plt.legend(loc = \"upper right\")"
      ],
      "execution_count": 0,
      "outputs": [
        {
          "output_type": "execute_result",
          "data": {
            "text/plain": [
              "<matplotlib.legend.Legend at 0x1c1dab8990>"
            ]
          },
          "metadata": {
            "tags": []
          },
          "execution_count": 42
        },
        {
          "output_type": "display_data",
          "data": {
            "image/png": "[encoded data removed]",
            "text/plain": [
              "<Figure size 432x288 with 1 Axes>"
            ]
          },
          "metadata": {
            "tags": [],
            "needs_background": "light"
          }
        }
      ]
    },
    {
      "cell_type": "code",
      "metadata": {
        "id": "Xgj8tp1wFHiW",
        "colab_type": "code",
        "colab": {},
        "outputId": "f380a1a3-47fa-4821-ee9c-e0516aa2b72b"
      },
      "source": [
        "### 43\n",
        "in_mask = (common_positions<0) # Initialize with all False\n",
        "i = 0\n",
        "for _index, feature in mask_bed.iterrows():\n",
        "    i+=1\n",
        "    if i%10000 == 0:\n",
        "        print(\"processed\", i, \"features out of\", n_features)\n",
        "\n",
        "    start = feature[1]\n",
        "    end = feature[2]\n",
        "      \n",
        "    in_mask = np.logical_or(in_mask, np.logical_and(common_positions>=start, \n",
        "                                                    common_positions<=end))"
      ],
      "execution_count": 0,
      "outputs": [
        {
          "output_type": "stream",
          "text": [
            "processed 10000 features out of 55707\n",
            "processed 20000 features out of 55707\n",
            "processed 30000 features out of 55707\n",
            "processed 40000 features out of 55707\n",
            "processed 50000 features out of 55707\n"
          ],
          "name": "stdout"
        }
      ]
    },
    {
      "cell_type": "code",
      "metadata": {
        "id": "ltPsnSfZFHiY",
        "colab_type": "code",
        "colab": {},
        "outputId": "0780b83f-fcf7-4aab-84af-641241d120d3"
      },
      "source": [
        "### 44\n",
        "report_filter(in_mask)"
      ],
      "execution_count": 0,
      "outputs": [
        {
          "output_type": "stream",
          "text": [
            "kept 67799 out of 115108. Ratio kept: 0.59 \n"
          ],
          "name": "stdout"
        }
      ]
    },
    {
      "cell_type": "markdown",
      "metadata": {
        "id": "6oj6RrusFHib",
        "colab_type": "text"
      },
      "source": [
        "We'll refer to genotypes within the 'strict' bed file with the prefix 'strict_'."
      ]
    },
    {
      "cell_type": "code",
      "metadata": {
        "id": "P3e5wPxuFHid",
        "colab_type": "code",
        "colab": {}
      },
      "source": [
        "### 45\n",
        "strict_positions = common_positions.compress(in_mask)\n",
        "strict_excess_het = common_excess_het.compress(in_mask)\n"
      ],
      "execution_count": 0,
      "outputs": []
    },
    {
      "cell_type": "markdown",
      "metadata": {
        "id": "SgwYHIplFHig",
        "colab_type": "text"
      },
      "source": [
        "We can repeat the plotting, but only with the strict variants"
      ]
    },
    {
      "cell_type": "code",
      "metadata": {
        "id": "YJYHaJHfFHig",
        "colab_type": "code",
        "colab": {},
        "outputId": "63a5cdc4-a248-413d-8cd9-e72349f05be7"
      },
      "source": [
        "### 46\n",
        "start_at_snp = 0\n",
        "n_snps_to_plot = 20000\n",
        "start_position = strict_positions[0]\n",
        "end_position = strict_positions[n_snps_to_plot]\n",
        "plt.plot(strict_positions[:n_snps_to_plot], strict_excess_het[:n_snps_to_plot],'o',markersize=1)\n",
        "plt.xlabel(\"genomic position\")\n",
        "plt.ylabel(\"excess heterozygosity\")\n",
        "for i in range(len(starts)):\n",
        "    feature_start = starts[i] \n",
        "    feature_end = ends[i]\n",
        "    if (feature_start < start_position and feature_end > start_position) \\\n",
        "    or ( start_position < feature_start < end_position ):\n",
        "        plt.plot([feature_start, feature_end], [1,1], 'r-', lw=2)\n",
        "plt.plot([feature_start, feature_end], [1,1],\n",
        "         'r-', lw=2, label=\"good regions\") # Add one more to produce a legend\n",
        "plt.xlim([start_position, end_position])\n",
        "plt.legend(loc = \"upper right\")"
      ],
      "execution_count": 0,
      "outputs": [
        {
          "output_type": "execute_result",
          "data": {
            "text/plain": [
              "<matplotlib.legend.Legend at 0x1c59e25f10>"
            ]
          },
          "metadata": {
            "tags": []
          },
          "execution_count": 46
        },
        {
          "output_type": "display_data",
          "data": {
            "image/png": "[encoded data removed]",
            "text/plain": [
              "<Figure size 432x288 with 1 Axes>"
            ]
          },
          "metadata": {
            "tags": [],
            "needs_background": "light"
          }
        }
      ]
    },
    {
      "cell_type": "markdown",
      "metadata": {
        "id": "h80Ge0-5FHii",
        "colab_type": "text"
      },
      "source": [
        "To plot the De Finetti diagram again, but only on the strict snps, we need to extract some more information: "
      ]
    },
    {
      "cell_type": "code",
      "metadata": {
        "id": "Ucf8p5VUFHij",
        "colab_type": "code",
        "colab": {}
      },
      "source": [
        "### 47\n",
        "strict_homref_counts = homref_counts.compress(is_common).compress(in_mask) \n",
        "strict_het_counts = het_counts.compress(is_common).compress(in_mask)\n",
        "strict_homalt_counts = homalt_counts.compress(is_common).compress(in_mask)\n",
        "strict_alt_allele_freqs = alt_allele_freqs.compress(is_common).compress(in_mask)"
      ],
      "execution_count": 0,
      "outputs": []
    },
    {
      "cell_type": "code",
      "metadata": {
        "id": "tBJMvM76FHik",
        "colab_type": "code",
        "colab": {},
        "outputId": "533930b2-bd99-4764-cac7-73b9fec7e87d"
      },
      "source": [
        "### 48\n",
        "%matplotlib inline\n",
        "import matplotlib.pyplot as plt\n",
        "\n",
        "\n",
        "####\n",
        "# First plot the Hardy-Weinberg expectation curves. These plots shouldn't use the data at all -- we'll just generate a\n",
        "# list of frequencies, p_range, and you'll plot the expected proportion of each genotype count for each frequency.   \n",
        "\n",
        "\n",
        "\n",
        "strict_number_of_genotypes = strict_homref_counts + strict_het_counts + strict_homalt_counts \n",
        "\n",
        "###########\n",
        "# Then plot the observed proportion of each genotype versus the allele frequency. \n",
        "# Each snp is represented by three snps.  \n",
        "plt.plot(strict_alt_allele_freqs, np.array(strict_homref_counts) / strict_number_of_genotypes, 'ro', label = \"homozygote reference\" )\n",
        "plt.plot(strict_alt_allele_freqs, np.array(strict_het_counts) / strict_number_of_genotypes, 'o', color = 'orange', label = \"heterozygote\" )\n",
        "plt.plot(strict_alt_allele_freqs, np.array(strict_homalt_counts) / strict_number_of_genotypes, 'bo', label = \"homozygote alternate\" )\n",
        "plt.legend(loc='upper center')\n",
        "plt.ylim([0,1])\n",
        "plt.xlabel(\"alternate allele frequency\")\n",
        "plt.ylabel(\"proportion of genotypes\")\n",
        "\n",
        "\n",
        "p_range = np.arange(0,1,.01) # A sorted list of frequencies\n",
        "\n",
        "\n",
        "plt.plot(p_range, proportion_hom_ref(p_range), 'crimson' ) # homozygote reference expectations \n",
        "plt.plot(p_range, proportion_het(p_range),  color = 'orangered' ) # heterozygote expectations \n",
        "plt.plot(p_range, proportion_hom_alt(p_range), 'aqua' ) # homozygote alternate expectations \n",
        "\n",
        "\n",
        "\n",
        "            "
      ],
      "execution_count": 0,
      "outputs": [
        {
          "output_type": "execute_result",
          "data": {
            "text/plain": [
              "[<matplotlib.lines.Line2D at 0x1c5b7c5f50>]"
            ]
          },
          "metadata": {
            "tags": []
          },
          "execution_count": 48
        },
        {
          "output_type": "display_data",
          "data": {
            "image/png": "[encoded data removed]",
            "text/plain": [
              "<Figure size 432x288 with 1 Axes>"
            ]
          },
          "metadata": {
            "tags": [],
            "needs_background": "light"
          }
        }
      ]
    },
    {
      "cell_type": "markdown",
      "metadata": {
        "id": "ciSFQ3N1FHim",
        "colab_type": "text"
      },
      "source": [
        "Things should look much better now! Do you think that alleles satisfy Hardy-Weinberg equilibrium? \n",
        "\n",
        "One way to check is to run again our statistical test and plot the distribution of p-values "
      ]
    },
    {
      "cell_type": "code",
      "metadata": {
        "id": "KcU83grnFHin",
        "colab_type": "code",
        "colab": {},
        "outputId": "3ee38e41-fe6f-48a3-c01b-8b9df6798b2a"
      },
      "source": [
        "### 49\n",
        "strict_p_values = common_p_values.compress(in_mask)\n",
        "plt.hist(strict_p_values, bins=100);\n",
        "plt.xlabel(\"p_values\")\n",
        "plt.ylabel(\"number of observations\")"
      ],
      "execution_count": 0,
      "outputs": [
        {
          "output_type": "execute_result",
          "data": {
            "text/plain": [
              "Text(0, 0.5, 'number of observations')"
            ]
          },
          "metadata": {
            "tags": []
          },
          "execution_count": 49
        },
        {
          "output_type": "display_data",
          "data": {
            "image/png": "[encoded data removed]",
            "text/plain": [
              "<Figure size 432x288 with 1 Axes>"
            ]
          },
          "metadata": {
            "tags": [],
            "needs_background": "light"
          }
        }
      ]
    },
    {
      "cell_type": "markdown",
      "metadata": {
        "id": "QgyWL8RwFHio",
        "colab_type": "text"
      },
      "source": [
        "We still are enriched for departures from Hardy-Weinberg.  We can again plot the Hardy-Weinberg departures versus genomic positions:"
      ]
    },
    {
      "cell_type": "markdown",
      "metadata": {
        "id": "ZejOakTpFHip",
        "colab_type": "text"
      },
      "source": [
        "We still have a bit too few heterozygotes, but now we have fewer clumps of crummy data. \n",
        "\n",
        "Then we are finally left to explore our population genetic hypothesis--the idea that the excess of homozygotes is caused by population structure. \n",
        "\n",
        "One thing that we can do to verify this further is calculate the HW statistic within each population comprising the 1000 Genomes Project. \n",
        "\n",
        "The information about 1000 Genomes populations is [here](goo.gl/9Hb83M)\n",
        "(full path: \n",
        "ftp://ftp-trace.ncbi.nih.gov/1000genomes/ftp/release/20130502/integrated_call_samples_v3.20130502.ALL.panel)\n",
        "\n",
        "\n",
        "\\>head integrated_call_samples_v3.20130502.ALL.panel\n",
        "\n",
        "sample\tpop\tsuper_pop\tgender\t\t\n",
        "\n",
        "HG00096\tGBR\tEUR\tmale\n",
        "\n",
        "HG00097\tGBR\tEUR\tfemale\n",
        "\n",
        "HG00099\tGBR\tEUR\tfemale\n",
        "\n",
        "HG00100\tGBR\tEUR\tfemale\n",
        "\n",
        "HG00101\tGBR\tEUR\tmale\n",
        "\n",
        "HG00102\tGBR\tEUR\tfemale\n",
        "\n",
        "HG00103\tGBR\tEUR\tmale\n",
        "\n",
        "HG00105\tGBR\tEUR\tmale\n",
        "\n",
        "HG00106\tGBR\tEUR\tfemale\n",
        "\n",
        "This is a small file, so we can read it in memory. The pandas library contains many useful functions to read and parse files in table format. "
      ]
    },
    {
      "cell_type": "code",
      "metadata": {
        "id": "MopWRSDZFHip",
        "colab_type": "code",
        "colab": {},
        "outputId": "9675d6df-ef6e-42c4-a631-50ecccb37b2e"
      },
      "source": [
        "### 50\n",
        "population_file_name = 'integrated_call_samples_v3.20130502.ALL.panel'\n",
        "population_file = os.path.join(os.sep, 'Users', 'aa25desh' , 'data1000gen', population_file_name)\n",
        "samples = pandas.read_csv(population_file, sep='\\t')\n",
        "samples.head()\n"
      ],
      "execution_count": 0,
      "outputs": [
        {
          "output_type": "execute_result",
          "data": {
            "text/html": [
              "<div>\n",
              "<style scoped>\n",
              "    .dataframe tbody tr th:only-of-type {\n",
              "        vertical-align: middle;\n",
              "    }\n",
              "\n",
              "    .dataframe tbody tr th {\n",
              "        vertical-align: top;\n",
              "    }\n",
              "\n",
              "    .dataframe thead th {\n",
              "        text-align: right;\n",
              "    }\n",
              "</style>\n",
              "<table border=\"1\" class=\"dataframe\">\n",
              "  <thead>\n",
              "    <tr style=\"text-align: right;\">\n",
              "      <th></th>\n",
              "      <th>sample</th>\n",
              "      <th>pop</th>\n",
              "      <th>super_pop</th>\n",
              "      <th>gender</th>\n",
              "    </tr>\n",
              "  </thead>\n",
              "  <tbody>\n",
              "    <tr>\n",
              "      <td>0</td>\n",
              "      <td>HG00096</td>\n",
              "      <td>GBR</td>\n",
              "      <td>EUR</td>\n",
              "      <td>male</td>\n",
              "    </tr>\n",
              "    <tr>\n",
              "      <td>1</td>\n",
              "      <td>HG00097</td>\n",
              "      <td>GBR</td>\n",
              "      <td>EUR</td>\n",
              "      <td>female</td>\n",
              "    </tr>\n",
              "    <tr>\n",
              "      <td>2</td>\n",
              "      <td>HG00099</td>\n",
              "      <td>GBR</td>\n",
              "      <td>EUR</td>\n",
              "      <td>female</td>\n",
              "    </tr>\n",
              "    <tr>\n",
              "      <td>3</td>\n",
              "      <td>HG00100</td>\n",
              "      <td>GBR</td>\n",
              "      <td>EUR</td>\n",
              "      <td>female</td>\n",
              "    </tr>\n",
              "    <tr>\n",
              "      <td>4</td>\n",
              "      <td>HG00101</td>\n",
              "      <td>GBR</td>\n",
              "      <td>EUR</td>\n",
              "      <td>male</td>\n",
              "    </tr>\n",
              "  </tbody>\n",
              "</table>\n",
              "</div>"
            ],
            "text/plain": [
              "    sample  pop super_pop  gender\n",
              "0  HG00096  GBR       EUR    male\n",
              "1  HG00097  GBR       EUR  female\n",
              "2  HG00099  GBR       EUR  female\n",
              "3  HG00100  GBR       EUR  female\n",
              "4  HG00101  GBR       EUR    male"
            ]
          },
          "metadata": {
            "tags": []
          },
          "execution_count": 51
        }
      ]
    },
    {
      "cell_type": "markdown",
      "metadata": {
        "id": "M0-CMijaFHit",
        "colab_type": "text"
      },
      "source": [
        "Count number of samples per population"
      ]
    },
    {
      "cell_type": "code",
      "metadata": {
        "id": "MqklAJ7_FHiv",
        "colab_type": "code",
        "colab": {},
        "outputId": "fad3ef6a-4d53-4f1a-bfbc-c5a4322262a4"
      },
      "source": [
        "### 51\n",
        "samples['pop'].value_counts()"
      ],
      "execution_count": 0,
      "outputs": [
        {
          "output_type": "execute_result",
          "data": {
            "text/plain": [
              "GWD    113\n",
              "YRI    108\n",
              "IBS    107\n",
              "TSI    107\n",
              "CHS    105\n",
              "JPT    104\n",
              "PUR    104\n",
              "GIH    103\n",
              "CHB    103\n",
              "ITU    102\n",
              "STU    102\n",
              "ESN     99\n",
              "LWK     99\n",
              "FIN     99\n",
              "CEU     99\n",
              "KHV     99\n",
              "PJL     96\n",
              "ACB     96\n",
              "CLM     94\n",
              "CDX     93\n",
              "GBR     91\n",
              "BEB     86\n",
              "MSL     85\n",
              "PEL     85\n",
              "MXL     64\n",
              "ASW     61\n",
              "Name: pop, dtype: int64"
            ]
          },
          "metadata": {
            "tags": []
          },
          "execution_count": 52
        }
      ]
    },
    {
      "cell_type": "code",
      "metadata": {
        "id": "bqc9HCOgFHix",
        "colab_type": "code",
        "colab": {},
        "outputId": "99552900-58e9-4446-9292-a6700de4edbd"
      },
      "source": [
        "### 52\n",
        "populations = np.array(samples['pop'].value_counts().keys())\n",
        "populations"
      ],
      "execution_count": 0,
      "outputs": [
        {
          "output_type": "execute_result",
          "data": {
            "text/plain": [
              "array(['GWD', 'YRI', 'IBS', 'TSI', 'CHS', 'JPT', 'PUR', 'GIH', 'CHB',\n",
              "       'ITU', 'STU', 'ESN', 'LWK', 'FIN', 'CEU', 'KHV', 'PJL', 'ACB',\n",
              "       'CLM', 'CDX', 'GBR', 'BEB', 'MSL', 'PEL', 'MXL', 'ASW'],\n",
              "      dtype=object)"
            ]
          },
          "metadata": {
            "tags": []
          },
          "execution_count": 53
        }
      ]
    },
    {
      "cell_type": "markdown",
      "metadata": {
        "id": "rbMizkRjFHiz",
        "colab_type": "text"
      },
      "source": [
        "Find positions of samples within each population"
      ]
    },
    {
      "cell_type": "code",
      "metadata": {
        "id": "UHxZErS-FHi0",
        "colab_type": "code",
        "colab": {}
      },
      "source": [
        "### 53\n",
        "# index samples using positions\n",
        "samples.reset_index(drop=True, inplace=True)\n",
        "samples.head()\n",
        "\n",
        "subpops = {\n",
        "    # for each population, get the list of samples that belong to the population\n",
        "    pop_iter: samples[samples['pop'] == pop_iter].index.tolist() for pop_iter in populations\n",
        "}"
      ],
      "execution_count": 0,
      "outputs": []
    },
    {
      "cell_type": "code",
      "metadata": {
        "id": "q9id_1kBFHi3",
        "colab_type": "code",
        "colab": {},
        "outputId": "ee1cbeed-443a-4f02-b3a1-9a06d38a70b2"
      },
      "source": [
        "### 54\n",
        "subpops"
      ],
      "execution_count": 0,
      "outputs": [
        {
          "output_type": "execute_result",
          "data": {
            "text/plain": [
              "{'GWD': [945,\n",
              "  946,\n",
              "  947,\n",
              "  948,\n",
              "  983,\n",
              "  984,\n",
              "  985,\n",
              "  986,\n",
              "  987,\n",
              "  988,\n",
              "  989,\n",
              "  992,\n",
              "  993,\n",
              "  994,\n",
              "  995,\n",
              "  996,\n",
              "  997,\n",
              "  998,\n",
              "  999,\n",
              "  1005,\n",
              "  1006,\n",
              "  1007,\n",
              "  1008,\n",
              "  1009,\n",
              "  1010,\n",
              "  1011,\n",
              "  1012,\n",
              "  1013,\n",
              "  1014,\n",
              "  1015,\n",
              "  1016,\n",
              "  1017,\n",
              "  1018,\n",
              "  1019,\n",
              "  1020,\n",
              "  1031,\n",
              "  1032,\n",
              "  1033,\n",
              "  1034,\n",
              "  1035,\n",
              "  1036,\n",
              "  1050,\n",
              "  1051,\n",
              "  1052,\n",
              "  1053,\n",
              "  1054,\n",
              "  1055,\n",
              "  1065,\n",
              "  1066,\n",
              "  1067,\n",
              "  1068,\n",
              "  1069,\n",
              "  1070,\n",
              "  1071,\n",
              "  1072,\n",
              "  1073,\n",
              "  1086,\n",
              "  1087,\n",
              "  1088,\n",
              "  1089,\n",
              "  1090,\n",
              "  1091,\n",
              "  1092,\n",
              "  1093,\n",
              "  1094,\n",
              "  1095,\n",
              "  1096,\n",
              "  1097,\n",
              "  1098,\n",
              "  1099,\n",
              "  1100,\n",
              "  1101,\n",
              "  1102,\n",
              "  1103,\n",
              "  1104,\n",
              "  1105,\n",
              "  1106,\n",
              "  1107,\n",
              "  1108,\n",
              "  1109,\n",
              "  1110,\n",
              "  1111,\n",
              "  1112,\n",
              "  1113,\n",
              "  1114,\n",
              "  1115,\n",
              "  1116,\n",
              "  1117,\n",
              "  1118,\n",
              "  1119,\n",
              "  1120,\n",
              "  1121,\n",
              "  1122,\n",
              "  1142,\n",
              "  1143,\n",
              "  1154,\n",
              "  1155,\n",
              "  1156,\n",
              "  1157,\n",
              "  1158,\n",
              "  1159,\n",
              "  1160,\n",
              "  1161,\n",
              "  1162,\n",
              "  1163,\n",
              "  1244,\n",
              "  1245,\n",
              "  1246,\n",
              "  1247,\n",
              "  1248,\n",
              "  1249,\n",
              "  1329,\n",
              "  1330],\n",
              " 'YRI': [1755,\n",
              "  1756,\n",
              "  1757,\n",
              "  1758,\n",
              "  1759,\n",
              "  1760,\n",
              "  1761,\n",
              "  1762,\n",
              "  1763,\n",
              "  1764,\n",
              "  1765,\n",
              "  1766,\n",
              "  1767,\n",
              "  1768,\n",
              "  1769,\n",
              "  1770,\n",
              "  1771,\n",
              "  1772,\n",
              "  1773,\n",
              "  1877,\n",
              "  1878,\n",
              "  1879,\n",
              "  1880,\n",
              "  1881,\n",
              "  1882,\n",
              "  1883,\n",
              "  1884,\n",
              "  1885,\n",
              "  1886,\n",
              "  1887,\n",
              "  1888,\n",
              "  1889,\n",
              "  1890,\n",
              "  1891,\n",
              "  1892,\n",
              "  1893,\n",
              "  1894,\n",
              "  1895,\n",
              "  1896,\n",
              "  1897,\n",
              "  1898,\n",
              "  1899,\n",
              "  1900,\n",
              "  1901,\n",
              "  1902,\n",
              "  1903,\n",
              "  1904,\n",
              "  1905,\n",
              "  2028,\n",
              "  2029,\n",
              "  2030,\n",
              "  2031,\n",
              "  2032,\n",
              "  2033,\n",
              "  2034,\n",
              "  2035,\n",
              "  2036,\n",
              "  2037,\n",
              "  2038,\n",
              "  2039,\n",
              "  2040,\n",
              "  2041,\n",
              "  2042,\n",
              "  2043,\n",
              "  2044,\n",
              "  2045,\n",
              "  2046,\n",
              "  2047,\n",
              "  2048,\n",
              "  2049,\n",
              "  2050,\n",
              "  2051,\n",
              "  2052,\n",
              "  2053,\n",
              "  2054,\n",
              "  2055,\n",
              "  2056,\n",
              "  2057,\n",
              "  2058,\n",
              "  2059,\n",
              "  2060,\n",
              "  2061,\n",
              "  2062,\n",
              "  2063,\n",
              "  2064,\n",
              "  2065,\n",
              "  2066,\n",
              "  2067,\n",
              "  2068,\n",
              "  2069,\n",
              "  2070,\n",
              "  2071,\n",
              "  2072,\n",
              "  2073,\n",
              "  2074,\n",
              "  2075,\n",
              "  2076,\n",
              "  2077,\n",
              "  2078,\n",
              "  2079,\n",
              "  2080,\n",
              "  2081,\n",
              "  2082,\n",
              "  2083,\n",
              "  2084,\n",
              "  2085,\n",
              "  2086,\n",
              "  2087],\n",
              " 'IBS': [501,\n",
              "  502,\n",
              "  503,\n",
              "  504,\n",
              "  505,\n",
              "  506,\n",
              "  507,\n",
              "  508,\n",
              "  509,\n",
              "  510,\n",
              "  511,\n",
              "  512,\n",
              "  513,\n",
              "  514,\n",
              "  515,\n",
              "  516,\n",
              "  517,\n",
              "  518,\n",
              "  519,\n",
              "  520,\n",
              "  521,\n",
              "  522,\n",
              "  523,\n",
              "  524,\n",
              "  544,\n",
              "  545,\n",
              "  546,\n",
              "  547,\n",
              "  548,\n",
              "  549,\n",
              "  550,\n",
              "  551,\n",
              "  552,\n",
              "  553,\n",
              "  554,\n",
              "  555,\n",
              "  556,\n",
              "  557,\n",
              "  558,\n",
              "  559,\n",
              "  560,\n",
              "  561,\n",
              "  562,\n",
              "  563,\n",
              "  564,\n",
              "  565,\n",
              "  566,\n",
              "  567,\n",
              "  568,\n",
              "  569,\n",
              "  570,\n",
              "  571,\n",
              "  572,\n",
              "  573,\n",
              "  574,\n",
              "  575,\n",
              "  576,\n",
              "  577,\n",
              "  578,\n",
              "  579,\n",
              "  580,\n",
              "  581,\n",
              "  582,\n",
              "  583,\n",
              "  584,\n",
              "  585,\n",
              "  586,\n",
              "  587,\n",
              "  588,\n",
              "  589,\n",
              "  590,\n",
              "  591,\n",
              "  592,\n",
              "  593,\n",
              "  594,\n",
              "  595,\n",
              "  596,\n",
              "  597,\n",
              "  598,\n",
              "  599,\n",
              "  600,\n",
              "  601,\n",
              "  602,\n",
              "  603,\n",
              "  604,\n",
              "  605,\n",
              "  606,\n",
              "  607,\n",
              "  608,\n",
              "  609,\n",
              "  610,\n",
              "  611,\n",
              "  612,\n",
              "  613,\n",
              "  838,\n",
              "  839,\n",
              "  840,\n",
              "  841,\n",
              "  842,\n",
              "  843,\n",
              "  844,\n",
              "  845,\n",
              "  846,\n",
              "  847,\n",
              "  848,\n",
              "  849,\n",
              "  850],\n",
              " 'TSI': [2294,\n",
              "  2295,\n",
              "  2296,\n",
              "  2297,\n",
              "  2298,\n",
              "  2299,\n",
              "  2300,\n",
              "  2301,\n",
              "  2302,\n",
              "  2303,\n",
              "  2304,\n",
              "  2305,\n",
              "  2306,\n",
              "  2307,\n",
              "  2308,\n",
              "  2309,\n",
              "  2310,\n",
              "  2311,\n",
              "  2312,\n",
              "  2313,\n",
              "  2314,\n",
              "  2315,\n",
              "  2316,\n",
              "  2317,\n",
              "  2318,\n",
              "  2319,\n",
              "  2320,\n",
              "  2321,\n",
              "  2322,\n",
              "  2323,\n",
              "  2324,\n",
              "  2325,\n",
              "  2326,\n",
              "  2327,\n",
              "  2328,\n",
              "  2329,\n",
              "  2330,\n",
              "  2331,\n",
              "  2332,\n",
              "  2333,\n",
              "  2334,\n",
              "  2335,\n",
              "  2336,\n",
              "  2337,\n",
              "  2338,\n",
              "  2339,\n",
              "  2340,\n",
              "  2341,\n",
              "  2342,\n",
              "  2343,\n",
              "  2344,\n",
              "  2345,\n",
              "  2346,\n",
              "  2347,\n",
              "  2348,\n",
              "  2349,\n",
              "  2350,\n",
              "  2351,\n",
              "  2352,\n",
              "  2353,\n",
              "  2354,\n",
              "  2355,\n",
              "  2356,\n",
              "  2357,\n",
              "  2358,\n",
              "  2359,\n",
              "  2360,\n",
              "  2361,\n",
              "  2362,\n",
              "  2363,\n",
              "  2364,\n",
              "  2365,\n",
              "  2366,\n",
              "  2367,\n",
              "  2368,\n",
              "  2369,\n",
              "  2370,\n",
              "  2371,\n",
              "  2372,\n",
              "  2373,\n",
              "  2374,\n",
              "  2375,\n",
              "  2376,\n",
              "  2377,\n",
              "  2378,\n",
              "  2379,\n",
              "  2380,\n",
              "  2381,\n",
              "  2382,\n",
              "  2383,\n",
              "  2384,\n",
              "  2385,\n",
              "  2386,\n",
              "  2387,\n",
              "  2388,\n",
              "  2389,\n",
              "  2390,\n",
              "  2391,\n",
              "  2392,\n",
              "  2393,\n",
              "  2394,\n",
              "  2395,\n",
              "  2396,\n",
              "  2397,\n",
              "  2398,\n",
              "  2399,\n",
              "  2400],\n",
              " 'CHS': [185,\n",
              "  186,\n",
              "  187,\n",
              "  188,\n",
              "  189,\n",
              "  190,\n",
              "  191,\n",
              "  192,\n",
              "  193,\n",
              "  194,\n",
              "  195,\n",
              "  196,\n",
              "  197,\n",
              "  198,\n",
              "  199,\n",
              "  200,\n",
              "  201,\n",
              "  202,\n",
              "  203,\n",
              "  204,\n",
              "  205,\n",
              "  206,\n",
              "  207,\n",
              "  208,\n",
              "  209,\n",
              "  210,\n",
              "  211,\n",
              "  212,\n",
              "  213,\n",
              "  214,\n",
              "  215,\n",
              "  216,\n",
              "  217,\n",
              "  218,\n",
              "  219,\n",
              "  220,\n",
              "  221,\n",
              "  222,\n",
              "  223,\n",
              "  224,\n",
              "  225,\n",
              "  226,\n",
              "  230,\n",
              "  231,\n",
              "  232,\n",
              "  233,\n",
              "  234,\n",
              "  235,\n",
              "  236,\n",
              "  237,\n",
              "  238,\n",
              "  239,\n",
              "  240,\n",
              "  241,\n",
              "  242,\n",
              "  243,\n",
              "  244,\n",
              "  245,\n",
              "  246,\n",
              "  247,\n",
              "  248,\n",
              "  249,\n",
              "  250,\n",
              "  251,\n",
              "  252,\n",
              "  253,\n",
              "  254,\n",
              "  255,\n",
              "  256,\n",
              "  257,\n",
              "  258,\n",
              "  259,\n",
              "  260,\n",
              "  261,\n",
              "  262,\n",
              "  263,\n",
              "  264,\n",
              "  269,\n",
              "  270,\n",
              "  271,\n",
              "  272,\n",
              "  273,\n",
              "  274,\n",
              "  275,\n",
              "  276,\n",
              "  277,\n",
              "  278,\n",
              "  279,\n",
              "  280,\n",
              "  281,\n",
              "  282,\n",
              "  283,\n",
              "  284,\n",
              "  285,\n",
              "  286,\n",
              "  287,\n",
              "  288,\n",
              "  289,\n",
              "  290,\n",
              "  291,\n",
              "  292,\n",
              "  293,\n",
              "  294,\n",
              "  295,\n",
              "  296],\n",
              " 'JPT': [1906,\n",
              "  1907,\n",
              "  1908,\n",
              "  1909,\n",
              "  1910,\n",
              "  1911,\n",
              "  1912,\n",
              "  1913,\n",
              "  1914,\n",
              "  1915,\n",
              "  1916,\n",
              "  1917,\n",
              "  1918,\n",
              "  1919,\n",
              "  1920,\n",
              "  1921,\n",
              "  1922,\n",
              "  1923,\n",
              "  1924,\n",
              "  1925,\n",
              "  1926,\n",
              "  1927,\n",
              "  1928,\n",
              "  1929,\n",
              "  1930,\n",
              "  1931,\n",
              "  1932,\n",
              "  1933,\n",
              "  1934,\n",
              "  1935,\n",
              "  1936,\n",
              "  1937,\n",
              "  1938,\n",
              "  1939,\n",
              "  1940,\n",
              "  1941,\n",
              "  1942,\n",
              "  1943,\n",
              "  1944,\n",
              "  1945,\n",
              "  1946,\n",
              "  1947,\n",
              "  1948,\n",
              "  1949,\n",
              "  1950,\n",
              "  1951,\n",
              "  1952,\n",
              "  1953,\n",
              "  1954,\n",
              "  1955,\n",
              "  1956,\n",
              "  1957,\n",
              "  1958,\n",
              "  1959,\n",
              "  1960,\n",
              "  1961,\n",
              "  1962,\n",
              "  1963,\n",
              "  1964,\n",
              "  1965,\n",
              "  1966,\n",
              "  1967,\n",
              "  1968,\n",
              "  1969,\n",
              "  1970,\n",
              "  1971,\n",
              "  1972,\n",
              "  1973,\n",
              "  1974,\n",
              "  1975,\n",
              "  1994,\n",
              "  1995,\n",
              "  1996,\n",
              "  1997,\n",
              "  1998,\n",
              "  1999,\n",
              "  2000,\n",
              "  2001,\n",
              "  2002,\n",
              "  2003,\n",
              "  2004,\n",
              "  2005,\n",
              "  2006,\n",
              "  2007,\n",
              "  2008,\n",
              "  2009,\n",
              "  2010,\n",
              "  2011,\n",
              "  2012,\n",
              "  2013,\n",
              "  2014,\n",
              "  2015,\n",
              "  2016,\n",
              "  2017,\n",
              "  2018,\n",
              "  2019,\n",
              "  2020,\n",
              "  2021,\n",
              "  2022,\n",
              "  2023,\n",
              "  2024,\n",
              "  2025,\n",
              "  2026,\n",
              "  2027],\n",
              " 'PUR': [227,\n",
              "  228,\n",
              "  229,\n",
              "  265,\n",
              "  266,\n",
              "  267,\n",
              "  268,\n",
              "  297,\n",
              "  298,\n",
              "  299,\n",
              "  300,\n",
              "  301,\n",
              "  302,\n",
              "  303,\n",
              "  304,\n",
              "  305,\n",
              "  321,\n",
              "  322,\n",
              "  323,\n",
              "  324,\n",
              "  325,\n",
              "  326,\n",
              "  327,\n",
              "  328,\n",
              "  329,\n",
              "  330,\n",
              "  331,\n",
              "  332,\n",
              "  333,\n",
              "  334,\n",
              "  335,\n",
              "  336,\n",
              "  337,\n",
              "  338,\n",
              "  339,\n",
              "  340,\n",
              "  341,\n",
              "  342,\n",
              "  343,\n",
              "  344,\n",
              "  345,\n",
              "  346,\n",
              "  347,\n",
              "  348,\n",
              "  349,\n",
              "  350,\n",
              "  351,\n",
              "  352,\n",
              "  353,\n",
              "  354,\n",
              "  355,\n",
              "  356,\n",
              "  357,\n",
              "  358,\n",
              "  359,\n",
              "  360,\n",
              "  361,\n",
              "  380,\n",
              "  381,\n",
              "  382,\n",
              "  383,\n",
              "  384,\n",
              "  385,\n",
              "  386,\n",
              "  387,\n",
              "  388,\n",
              "  389,\n",
              "  390,\n",
              "  391,\n",
              "  392,\n",
              "  393,\n",
              "  394,\n",
              "  395,\n",
              "  396,\n",
              "  397,\n",
              "  398,\n",
              "  399,\n",
              "  400,\n",
              "  401,\n",
              "  402,\n",
              "  403,\n",
              "  404,\n",
              "  405,\n",
              "  422,\n",
              "  423,\n",
              "  424,\n",
              "  425,\n",
              "  426,\n",
              "  427,\n",
              "  428,\n",
              "  429,\n",
              "  430,\n",
              "  431,\n",
              "  460,\n",
              "  461,\n",
              "  462,\n",
              "  463,\n",
              "  464,\n",
              "  465,\n",
              "  466,\n",
              "  467,\n",
              "  468,\n",
              "  469,\n",
              "  470],\n",
              " 'GIH': [2401,\n",
              "  2402,\n",
              "  2403,\n",
              "  2404,\n",
              "  2405,\n",
              "  2406,\n",
              "  2407,\n",
              "  2408,\n",
              "  2409,\n",
              "  2410,\n",
              "  2411,\n",
              "  2412,\n",
              "  2413,\n",
              "  2414,\n",
              "  2415,\n",
              "  2416,\n",
              "  2417,\n",
              "  2418,\n",
              "  2419,\n",
              "  2420,\n",
              "  2421,\n",
              "  2422,\n",
              "  2423,\n",
              "  2424,\n",
              "  2425,\n",
              "  2426,\n",
              "  2427,\n",
              "  2428,\n",
              "  2429,\n",
              "  2430,\n",
              "  2431,\n",
              "  2432,\n",
              "  2433,\n",
              "  2434,\n",
              "  2435,\n",
              "  2436,\n",
              "  2437,\n",
              "  2438,\n",
              "  2439,\n",
              "  2440,\n",
              "  2441,\n",
              "  2442,\n",
              "  2443,\n",
              "  2444,\n",
              "  2445,\n",
              "  2446,\n",
              "  2447,\n",
              "  2448,\n",
              "  2449,\n",
              "  2450,\n",
              "  2451,\n",
              "  2452,\n",
              "  2453,\n",
              "  2454,\n",
              "  2455,\n",
              "  2456,\n",
              "  2457,\n",
              "  2458,\n",
              "  2459,\n",
              "  2460,\n",
              "  2461,\n",
              "  2462,\n",
              "  2463,\n",
              "  2464,\n",
              "  2465,\n",
              "  2466,\n",
              "  2467,\n",
              "  2468,\n",
              "  2469,\n",
              "  2470,\n",
              "  2471,\n",
              "  2472,\n",
              "  2473,\n",
              "  2474,\n",
              "  2475,\n",
              "  2476,\n",
              "  2477,\n",
              "  2478,\n",
              "  2479,\n",
              "  2480,\n",
              "  2481,\n",
              "  2482,\n",
              "  2483,\n",
              "  2484,\n",
              "  2485,\n",
              "  2486,\n",
              "  2487,\n",
              "  2488,\n",
              "  2489,\n",
              "  2490,\n",
              "  2491,\n",
              "  2492,\n",
              "  2493,\n",
              "  2494,\n",
              "  2495,\n",
              "  2496,\n",
              "  2497,\n",
              "  2498,\n",
              "  2499,\n",
              "  2500,\n",
              "  2501,\n",
              "  2502,\n",
              "  2503],\n",
              " 'CHB': [1774,\n",
              "  1775,\n",
              "  1776,\n",
              "  1777,\n",
              "  1778,\n",
              "  1779,\n",
              "  1780,\n",
              "  1781,\n",
              "  1782,\n",
              "  1783,\n",
              "  1784,\n",
              "  1785,\n",
              "  1786,\n",
              "  1787,\n",
              "  1788,\n",
              "  1789,\n",
              "  1790,\n",
              "  1791,\n",
              "  1792,\n",
              "  1793,\n",
              "  1794,\n",
              "  1795,\n",
              "  1796,\n",
              "  1797,\n",
              "  1798,\n",
              "  1799,\n",
              "  1800,\n",
              "  1801,\n",
              "  1802,\n",
              "  1803,\n",
              "  1804,\n",
              "  1805,\n",
              "  1806,\n",
              "  1807,\n",
              "  1808,\n",
              "  1809,\n",
              "  1810,\n",
              "  1811,\n",
              "  1812,\n",
              "  1813,\n",
              "  1814,\n",
              "  1815,\n",
              "  1816,\n",
              "  1817,\n",
              "  1818,\n",
              "  1819,\n",
              "  1820,\n",
              "  1821,\n",
              "  1822,\n",
              "  1823,\n",
              "  1824,\n",
              "  1825,\n",
              "  1826,\n",
              "  1827,\n",
              "  1828,\n",
              "  1829,\n",
              "  1830,\n",
              "  1831,\n",
              "  1832,\n",
              "  1833,\n",
              "  1834,\n",
              "  1835,\n",
              "  1836,\n",
              "  1837,\n",
              "  1838,\n",
              "  1839,\n",
              "  1840,\n",
              "  1841,\n",
              "  1842,\n",
              "  1843,\n",
              "  1844,\n",
              "  1845,\n",
              "  1846,\n",
              "  1847,\n",
              "  1848,\n",
              "  1849,\n",
              "  1850,\n",
              "  1851,\n",
              "  1852,\n",
              "  1853,\n",
              "  1854,\n",
              "  1855,\n",
              "  1856,\n",
              "  1857,\n",
              "  1858,\n",
              "  1859,\n",
              "  1860,\n",
              "  1861,\n",
              "  1862,\n",
              "  1863,\n",
              "  1864,\n",
              "  1865,\n",
              "  1866,\n",
              "  1867,\n",
              "  1868,\n",
              "  1869,\n",
              "  1870,\n",
              "  1871,\n",
              "  1872,\n",
              "  1873,\n",
              "  1874,\n",
              "  1875,\n",
              "  1876],\n",
              " 'ITU': [1405,\n",
              "  1406,\n",
              "  1407,\n",
              "  1408,\n",
              "  1409,\n",
              "  1410,\n",
              "  1411,\n",
              "  1412,\n",
              "  1413,\n",
              "  1414,\n",
              "  1415,\n",
              "  1421,\n",
              "  1437,\n",
              "  1438,\n",
              "  1439,\n",
              "  1440,\n",
              "  1441,\n",
              "  1442,\n",
              "  1443,\n",
              "  1444,\n",
              "  1445,\n",
              "  1446,\n",
              "  1447,\n",
              "  1448,\n",
              "  1449,\n",
              "  1450,\n",
              "  1451,\n",
              "  1452,\n",
              "  1453,\n",
              "  1454,\n",
              "  1455,\n",
              "  1456,\n",
              "  1490,\n",
              "  1491,\n",
              "  1492,\n",
              "  1493,\n",
              "  1494,\n",
              "  1495,\n",
              "  1496,\n",
              "  1497,\n",
              "  1498,\n",
              "  1499,\n",
              "  1500,\n",
              "  1501,\n",
              "  1502,\n",
              "  1503,\n",
              "  1504,\n",
              "  1548,\n",
              "  1549,\n",
              "  1550,\n",
              "  1551,\n",
              "  1552,\n",
              "  1553,\n",
              "  1554,\n",
              "  1555,\n",
              "  1556,\n",
              "  1557,\n",
              "  1558,\n",
              "  1559,\n",
              "  1568,\n",
              "  1569,\n",
              "  1572,\n",
              "  1573,\n",
              "  1574,\n",
              "  1575,\n",
              "  1576,\n",
              "  1577,\n",
              "  1578,\n",
              "  1579,\n",
              "  1580,\n",
              "  1581,\n",
              "  1589,\n",
              "  1590,\n",
              "  1591,\n",
              "  1592,\n",
              "  1593,\n",
              "  1594,\n",
              "  1595,\n",
              "  1596,\n",
              "  1598,\n",
              "  1599,\n",
              "  1600,\n",
              "  1601,\n",
              "  1602,\n",
              "  1603,\n",
              "  1604,\n",
              "  1609,\n",
              "  1638,\n",
              "  1639,\n",
              "  1640,\n",
              "  1641,\n",
              "  1642,\n",
              "  1644,\n",
              "  1645,\n",
              "  1646,\n",
              "  1647,\n",
              "  1648,\n",
              "  1649,\n",
              "  1650,\n",
              "  1653,\n",
              "  1654,\n",
              "  1655],\n",
              " 'STU': [1367,\n",
              "  1368,\n",
              "  1369,\n",
              "  1370,\n",
              "  1371,\n",
              "  1379,\n",
              "  1380,\n",
              "  1381,\n",
              "  1382,\n",
              "  1383,\n",
              "  1384,\n",
              "  1385,\n",
              "  1386,\n",
              "  1387,\n",
              "  1388,\n",
              "  1389,\n",
              "  1390,\n",
              "  1391,\n",
              "  1392,\n",
              "  1393,\n",
              "  1394,\n",
              "  1395,\n",
              "  1396,\n",
              "  1397,\n",
              "  1404,\n",
              "  1416,\n",
              "  1417,\n",
              "  1418,\n",
              "  1419,\n",
              "  1420,\n",
              "  1422,\n",
              "  1423,\n",
              "  1424,\n",
              "  1425,\n",
              "  1426,\n",
              "  1427,\n",
              "  1428,\n",
              "  1429,\n",
              "  1430,\n",
              "  1431,\n",
              "  1432,\n",
              "  1433,\n",
              "  1477,\n",
              "  1478,\n",
              "  1479,\n",
              "  1480,\n",
              "  1481,\n",
              "  1482,\n",
              "  1483,\n",
              "  1484,\n",
              "  1485,\n",
              "  1486,\n",
              "  1487,\n",
              "  1488,\n",
              "  1489,\n",
              "  1505,\n",
              "  1506,\n",
              "  1507,\n",
              "  1508,\n",
              "  1509,\n",
              "  1510,\n",
              "  1511,\n",
              "  1512,\n",
              "  1513,\n",
              "  1514,\n",
              "  1515,\n",
              "  1516,\n",
              "  1517,\n",
              "  1539,\n",
              "  1540,\n",
              "  1541,\n",
              "  1542,\n",
              "  1543,\n",
              "  1544,\n",
              "  1545,\n",
              "  1546,\n",
              "  1547,\n",
              "  1560,\n",
              "  1561,\n",
              "  1562,\n",
              "  1563,\n",
              "  1564,\n",
              "  1565,\n",
              "  1566,\n",
              "  1567,\n",
              "  1570,\n",
              "  1571,\n",
              "  1582,\n",
              "  1583,\n",
              "  1584,\n",
              "  1585,\n",
              "  1586,\n",
              "  1587,\n",
              "  1588,\n",
              "  1597,\n",
              "  1605,\n",
              "  1606,\n",
              "  1607,\n",
              "  1608,\n",
              "  1643,\n",
              "  1651,\n",
              "  1652],\n",
              " 'ESN': [1123,\n",
              "  1124,\n",
              "  1125,\n",
              "  1126,\n",
              "  1127,\n",
              "  1128,\n",
              "  1129,\n",
              "  1130,\n",
              "  1131,\n",
              "  1132,\n",
              "  1133,\n",
              "  1134,\n",
              "  1135,\n",
              "  1136,\n",
              "  1137,\n",
              "  1138,\n",
              "  1139,\n",
              "  1140,\n",
              "  1141,\n",
              "  1191,\n",
              "  1192,\n",
              "  1193,\n",
              "  1194,\n",
              "  1195,\n",
              "  1196,\n",
              "  1197,\n",
              "  1198,\n",
              "  1199,\n",
              "  1200,\n",
              "  1201,\n",
              "  1202,\n",
              "  1203,\n",
              "  1204,\n",
              "  1205,\n",
              "  1206,\n",
              "  1207,\n",
              "  1208,\n",
              "  1209,\n",
              "  1210,\n",
              "  1211,\n",
              "  1212,\n",
              "  1213,\n",
              "  1214,\n",
              "  1215,\n",
              "  1216,\n",
              "  1217,\n",
              "  1218,\n",
              "  1219,\n",
              "  1220,\n",
              "  1221,\n",
              "  1222,\n",
              "  1223,\n",
              "  1224,\n",
              "  1225,\n",
              "  1226,\n",
              "  1227,\n",
              "  1228,\n",
              "  1229,\n",
              "  1230,\n",
              "  1231,\n",
              "  1232,\n",
              "  1233,\n",
              "  1250,\n",
              "  1251,\n",
              "  1252,\n",
              "  1253,\n",
              "  1254,\n",
              "  1255,\n",
              "  1256,\n",
              "  1257,\n",
              "  1258,\n",
              "  1259,\n",
              "  1260,\n",
              "  1261,\n",
              "  1262,\n",
              "  1263,\n",
              "  1264,\n",
              "  1265,\n",
              "  1266,\n",
              "  1267,\n",
              "  1268,\n",
              "  1269,\n",
              "  1270,\n",
              "  1271,\n",
              "  1272,\n",
              "  1273,\n",
              "  1274,\n",
              "  1275,\n",
              "  1276,\n",
              "  1277,\n",
              "  1278,\n",
              "  1321,\n",
              "  1322,\n",
              "  1323,\n",
              "  1324,\n",
              "  1325,\n",
              "  1326,\n",
              "  1327,\n",
              "  1328],\n",
              " 'LWK': [1976,\n",
              "  1977,\n",
              "  1978,\n",
              "  1979,\n",
              "  1980,\n",
              "  1981,\n",
              "  1982,\n",
              "  1983,\n",
              "  1984,\n",
              "  1985,\n",
              "  1986,\n",
              "  1987,\n",
              "  1988,\n",
              "  1989,\n",
              "  1990,\n",
              "  1991,\n",
              "  1992,\n",
              "  1993,\n",
              "  2088,\n",
              "  2089,\n",
              "  2090,\n",
              "  2091,\n",
              "  2092,\n",
              "  2093,\n",
              "  2094,\n",
              "  2095,\n",
              "  2096,\n",
              "  2097,\n",
              "  2098,\n",
              "  2099,\n",
              "  2100,\n",
              "  2101,\n",
              "  2102,\n",
              "  2103,\n",
              "  2104,\n",
              "  2105,\n",
              "  2106,\n",
              "  2107,\n",
              "  2108,\n",
              "  2109,\n",
              "  2110,\n",
              "  2111,\n",
              "  2112,\n",
              "  2113,\n",
              "  2114,\n",
              "  2115,\n",
              "  2116,\n",
              "  2117,\n",
              "  2118,\n",
              "  2119,\n",
              "  2120,\n",
              "  2121,\n",
              "  2122,\n",
              "  2123,\n",
              "  2124,\n",
              "  2125,\n",
              "  2126,\n",
              "  2127,\n",
              "  2128,\n",
              "  2129,\n",
              "  2130,\n",
              "  2131,\n",
              "  2132,\n",
              "  2133,\n",
              "  2134,\n",
              "  2135,\n",
              "  2136,\n",
              "  2137,\n",
              "  2138,\n",
              "  2139,\n",
              "  2140,\n",
              "  2141,\n",
              "  2142,\n",
              "  2143,\n",
              "  2144,\n",
              "  2145,\n",
              "  2146,\n",
              "  2147,\n",
              "  2148,\n",
              "  2149,\n",
              "  2150,\n",
              "  2151,\n",
              "  2152,\n",
              "  2153,\n",
              "  2154,\n",
              "  2155,\n",
              "  2156,\n",
              "  2157,\n",
              "  2158,\n",
              "  2159,\n",
              "  2160,\n",
              "  2161,\n",
              "  2162,\n",
              "  2163,\n",
              "  2164,\n",
              "  2165,\n",
              "  2166,\n",
              "  2167,\n",
              "  2168],\n",
              " 'FIN': [55,\n",
              "  56,\n",
              "  57,\n",
              "  58,\n",
              "  59,\n",
              "  60,\n",
              "  61,\n",
              "  62,\n",
              "  63,\n",
              "  64,\n",
              "  65,\n",
              "  66,\n",
              "  67,\n",
              "  68,\n",
              "  69,\n",
              "  70,\n",
              "  71,\n",
              "  103,\n",
              "  104,\n",
              "  105,\n",
              "  106,\n",
              "  107,\n",
              "  108,\n",
              "  109,\n",
              "  110,\n",
              "  111,\n",
              "  112,\n",
              "  113,\n",
              "  114,\n",
              "  115,\n",
              "  116,\n",
              "  117,\n",
              "  118,\n",
              "  119,\n",
              "  120,\n",
              "  121,\n",
              "  122,\n",
              "  123,\n",
              "  124,\n",
              "  125,\n",
              "  126,\n",
              "  127,\n",
              "  128,\n",
              "  129,\n",
              "  130,\n",
              "  131,\n",
              "  132,\n",
              "  133,\n",
              "  134,\n",
              "  135,\n",
              "  136,\n",
              "  137,\n",
              "  138,\n",
              "  139,\n",
              "  140,\n",
              "  141,\n",
              "  142,\n",
              "  143,\n",
              "  144,\n",
              "  145,\n",
              "  146,\n",
              "  147,\n",
              "  148,\n",
              "  149,\n",
              "  150,\n",
              "  151,\n",
              "  152,\n",
              "  153,\n",
              "  154,\n",
              "  155,\n",
              "  156,\n",
              "  157,\n",
              "  158,\n",
              "  159,\n",
              "  160,\n",
              "  161,\n",
              "  162,\n",
              "  163,\n",
              "  164,\n",
              "  165,\n",
              "  166,\n",
              "  167,\n",
              "  168,\n",
              "  169,\n",
              "  170,\n",
              "  171,\n",
              "  172,\n",
              "  173,\n",
              "  174,\n",
              "  175,\n",
              "  176,\n",
              "  177,\n",
              "  178,\n",
              "  179,\n",
              "  180,\n",
              "  181,\n",
              "  182,\n",
              "  183,\n",
              "  184],\n",
              " 'CEU': [1656,\n",
              "  1657,\n",
              "  1658,\n",
              "  1659,\n",
              "  1660,\n",
              "  1661,\n",
              "  1662,\n",
              "  1663,\n",
              "  1664,\n",
              "  1665,\n",
              "  1666,\n",
              "  1667,\n",
              "  1668,\n",
              "  1669,\n",
              "  1670,\n",
              "  1671,\n",
              "  1672,\n",
              "  1673,\n",
              "  1674,\n",
              "  1675,\n",
              "  1676,\n",
              "  1677,\n",
              "  1678,\n",
              "  1679,\n",
              "  1680,\n",
              "  1681,\n",
              "  1682,\n",
              "  1683,\n",
              "  1684,\n",
              "  1685,\n",
              "  1686,\n",
              "  1687,\n",
              "  1688,\n",
              "  1689,\n",
              "  1690,\n",
              "  1691,\n",
              "  1692,\n",
              "  1693,\n",
              "  1694,\n",
              "  1695,\n",
              "  1696,\n",
              "  1697,\n",
              "  1698,\n",
              "  1699,\n",
              "  1700,\n",
              "  1701,\n",
              "  1702,\n",
              "  1703,\n",
              "  1704,\n",
              "  1705,\n",
              "  1706,\n",
              "  1707,\n",
              "  1708,\n",
              "  1709,\n",
              "  1710,\n",
              "  1711,\n",
              "  1712,\n",
              "  1713,\n",
              "  1714,\n",
              "  1715,\n",
              "  1716,\n",
              "  1717,\n",
              "  1718,\n",
              "  1719,\n",
              "  1720,\n",
              "  1721,\n",
              "  1722,\n",
              "  1723,\n",
              "  1724,\n",
              "  1725,\n",
              "  1726,\n",
              "  1727,\n",
              "  1728,\n",
              "  1729,\n",
              "  1730,\n",
              "  1731,\n",
              "  1732,\n",
              "  1733,\n",
              "  1734,\n",
              "  1735,\n",
              "  1736,\n",
              "  1737,\n",
              "  1738,\n",
              "  1739,\n",
              "  1740,\n",
              "  1741,\n",
              "  1742,\n",
              "  1743,\n",
              "  1744,\n",
              "  1745,\n",
              "  1746,\n",
              "  1747,\n",
              "  1748,\n",
              "  1749,\n",
              "  1750,\n",
              "  1751,\n",
              "  1752,\n",
              "  1753,\n",
              "  1754],\n",
              " 'KHV': [538,\n",
              "  539,\n",
              "  540,\n",
              "  541,\n",
              "  542,\n",
              "  543,\n",
              "  639,\n",
              "  640,\n",
              "  641,\n",
              "  642,\n",
              "  643,\n",
              "  644,\n",
              "  645,\n",
              "  646,\n",
              "  647,\n",
              "  648,\n",
              "  649,\n",
              "  650,\n",
              "  651,\n",
              "  652,\n",
              "  653,\n",
              "  654,\n",
              "  655,\n",
              "  656,\n",
              "  657,\n",
              "  658,\n",
              "  659,\n",
              "  660,\n",
              "  661,\n",
              "  662,\n",
              "  663,\n",
              "  664,\n",
              "  665,\n",
              "  666,\n",
              "  667,\n",
              "  668,\n",
              "  669,\n",
              "  670,\n",
              "  671,\n",
              "  672,\n",
              "  744,\n",
              "  745,\n",
              "  746,\n",
              "  747,\n",
              "  748,\n",
              "  749,\n",
              "  750,\n",
              "  751,\n",
              "  752,\n",
              "  753,\n",
              "  754,\n",
              "  755,\n",
              "  756,\n",
              "  757,\n",
              "  758,\n",
              "  759,\n",
              "  760,\n",
              "  765,\n",
              "  766,\n",
              "  767,\n",
              "  768,\n",
              "  769,\n",
              "  770,\n",
              "  771,\n",
              "  772,\n",
              "  773,\n",
              "  774,\n",
              "  775,\n",
              "  776,\n",
              "  777,\n",
              "  778,\n",
              "  779,\n",
              "  780,\n",
              "  781,\n",
              "  782,\n",
              "  783,\n",
              "  784,\n",
              "  785,\n",
              "  795,\n",
              "  796,\n",
              "  797,\n",
              "  798,\n",
              "  799,\n",
              "  800,\n",
              "  801,\n",
              "  802,\n",
              "  803,\n",
              "  804,\n",
              "  805,\n",
              "  806,\n",
              "  807,\n",
              "  808,\n",
              "  809,\n",
              "  810,\n",
              "  811,\n",
              "  969,\n",
              "  970,\n",
              "  971,\n",
              "  972],\n",
              " 'PJL': [534,\n",
              "  535,\n",
              "  536,\n",
              "  537,\n",
              "  958,\n",
              "  959,\n",
              "  960,\n",
              "  961,\n",
              "  1000,\n",
              "  1001,\n",
              "  1002,\n",
              "  1003,\n",
              "  1004,\n",
              "  1021,\n",
              "  1022,\n",
              "  1023,\n",
              "  1024,\n",
              "  1025,\n",
              "  1026,\n",
              "  1027,\n",
              "  1028,\n",
              "  1029,\n",
              "  1030,\n",
              "  1037,\n",
              "  1038,\n",
              "  1039,\n",
              "  1040,\n",
              "  1041,\n",
              "  1042,\n",
              "  1043,\n",
              "  1044,\n",
              "  1045,\n",
              "  1046,\n",
              "  1047,\n",
              "  1048,\n",
              "  1049,\n",
              "  1056,\n",
              "  1057,\n",
              "  1058,\n",
              "  1059,\n",
              "  1060,\n",
              "  1061,\n",
              "  1062,\n",
              "  1063,\n",
              "  1064,\n",
              "  1074,\n",
              "  1075,\n",
              "  1076,\n",
              "  1077,\n",
              "  1078,\n",
              "  1079,\n",
              "  1080,\n",
              "  1081,\n",
              "  1082,\n",
              "  1083,\n",
              "  1084,\n",
              "  1085,\n",
              "  1148,\n",
              "  1149,\n",
              "  1150,\n",
              "  1151,\n",
              "  1152,\n",
              "  1153,\n",
              "  1238,\n",
              "  1239,\n",
              "  1240,\n",
              "  1241,\n",
              "  1242,\n",
              "  1243,\n",
              "  1318,\n",
              "  1319,\n",
              "  1320,\n",
              "  1359,\n",
              "  1360,\n",
              "  1361,\n",
              "  1362,\n",
              "  1363,\n",
              "  1364,\n",
              "  1365,\n",
              "  1366,\n",
              "  1372,\n",
              "  1373,\n",
              "  1374,\n",
              "  1375,\n",
              "  1376,\n",
              "  1377,\n",
              "  1378,\n",
              "  1398,\n",
              "  1399,\n",
              "  1400,\n",
              "  1401,\n",
              "  1402,\n",
              "  1403,\n",
              "  1434,\n",
              "  1435,\n",
              "  1436],\n",
              " 'ACB': [673,\n",
              "  674,\n",
              "  675,\n",
              "  676,\n",
              "  677,\n",
              "  678,\n",
              "  679,\n",
              "  680,\n",
              "  683,\n",
              "  684,\n",
              "  685,\n",
              "  686,\n",
              "  687,\n",
              "  712,\n",
              "  713,\n",
              "  727,\n",
              "  728,\n",
              "  729,\n",
              "  730,\n",
              "  731,\n",
              "  739,\n",
              "  740,\n",
              "  741,\n",
              "  742,\n",
              "  743,\n",
              "  761,\n",
              "  762,\n",
              "  763,\n",
              "  764,\n",
              "  788,\n",
              "  792,\n",
              "  793,\n",
              "  794,\n",
              "  812,\n",
              "  813,\n",
              "  854,\n",
              "  855,\n",
              "  867,\n",
              "  868,\n",
              "  869,\n",
              "  870,\n",
              "  879,\n",
              "  880,\n",
              "  881,\n",
              "  883,\n",
              "  884,\n",
              "  885,\n",
              "  886,\n",
              "  887,\n",
              "  888,\n",
              "  889,\n",
              "  890,\n",
              "  891,\n",
              "  892,\n",
              "  893,\n",
              "  894,\n",
              "  895,\n",
              "  933,\n",
              "  934,\n",
              "  936,\n",
              "  937,\n",
              "  938,\n",
              "  939,\n",
              "  940,\n",
              "  941,\n",
              "  942,\n",
              "  943,\n",
              "  944,\n",
              "  949,\n",
              "  950,\n",
              "  951,\n",
              "  952,\n",
              "  953,\n",
              "  954,\n",
              "  955,\n",
              "  956,\n",
              "  957,\n",
              "  962,\n",
              "  963,\n",
              "  964,\n",
              "  965,\n",
              "  966,\n",
              "  967,\n",
              "  968,\n",
              "  973,\n",
              "  974,\n",
              "  975,\n",
              "  976,\n",
              "  977,\n",
              "  978,\n",
              "  979,\n",
              "  980,\n",
              "  981,\n",
              "  982,\n",
              "  990,\n",
              "  991],\n",
              " 'CLM': [362,\n",
              "  363,\n",
              "  364,\n",
              "  365,\n",
              "  366,\n",
              "  367,\n",
              "  368,\n",
              "  369,\n",
              "  370,\n",
              "  371,\n",
              "  372,\n",
              "  373,\n",
              "  374,\n",
              "  375,\n",
              "  376,\n",
              "  377,\n",
              "  378,\n",
              "  379,\n",
              "  406,\n",
              "  407,\n",
              "  408,\n",
              "  409,\n",
              "  410,\n",
              "  411,\n",
              "  412,\n",
              "  413,\n",
              "  414,\n",
              "  415,\n",
              "  416,\n",
              "  417,\n",
              "  418,\n",
              "  419,\n",
              "  420,\n",
              "  421,\n",
              "  433,\n",
              "  434,\n",
              "  435,\n",
              "  436,\n",
              "  437,\n",
              "  438,\n",
              "  439,\n",
              "  440,\n",
              "  441,\n",
              "  442,\n",
              "  443,\n",
              "  444,\n",
              "  445,\n",
              "  446,\n",
              "  447,\n",
              "  448,\n",
              "  449,\n",
              "  450,\n",
              "  451,\n",
              "  452,\n",
              "  453,\n",
              "  454,\n",
              "  455,\n",
              "  456,\n",
              "  457,\n",
              "  458,\n",
              "  459,\n",
              "  471,\n",
              "  472,\n",
              "  473,\n",
              "  474,\n",
              "  475,\n",
              "  476,\n",
              "  477,\n",
              "  478,\n",
              "  479,\n",
              "  480,\n",
              "  481,\n",
              "  482,\n",
              "  483,\n",
              "  484,\n",
              "  485,\n",
              "  486,\n",
              "  487,\n",
              "  488,\n",
              "  489,\n",
              "  490,\n",
              "  491,\n",
              "  492,\n",
              "  493,\n",
              "  494,\n",
              "  495,\n",
              "  496,\n",
              "  497,\n",
              "  498,\n",
              "  499,\n",
              "  500,\n",
              "  525,\n",
              "  526,\n",
              "  527],\n",
              " 'CDX': [306,\n",
              "  307,\n",
              "  308,\n",
              "  309,\n",
              "  310,\n",
              "  311,\n",
              "  312,\n",
              "  313,\n",
              "  314,\n",
              "  315,\n",
              "  316,\n",
              "  317,\n",
              "  318,\n",
              "  319,\n",
              "  320,\n",
              "  617,\n",
              "  618,\n",
              "  619,\n",
              "  620,\n",
              "  621,\n",
              "  622,\n",
              "  623,\n",
              "  624,\n",
              "  625,\n",
              "  626,\n",
              "  627,\n",
              "  628,\n",
              "  629,\n",
              "  630,\n",
              "  631,\n",
              "  632,\n",
              "  633,\n",
              "  634,\n",
              "  635,\n",
              "  636,\n",
              "  637,\n",
              "  638,\n",
              "  817,\n",
              "  818,\n",
              "  819,\n",
              "  820,\n",
              "  821,\n",
              "  822,\n",
              "  823,\n",
              "  824,\n",
              "  825,\n",
              "  826,\n",
              "  827,\n",
              "  828,\n",
              "  829,\n",
              "  830,\n",
              "  831,\n",
              "  832,\n",
              "  833,\n",
              "  834,\n",
              "  835,\n",
              "  836,\n",
              "  851,\n",
              "  898,\n",
              "  899,\n",
              "  900,\n",
              "  901,\n",
              "  902,\n",
              "  903,\n",
              "  904,\n",
              "  905,\n",
              "  906,\n",
              "  907,\n",
              "  908,\n",
              "  909,\n",
              "  910,\n",
              "  911,\n",
              "  912,\n",
              "  913,\n",
              "  914,\n",
              "  915,\n",
              "  916,\n",
              "  917,\n",
              "  918,\n",
              "  919,\n",
              "  920,\n",
              "  921,\n",
              "  922,\n",
              "  923,\n",
              "  924,\n",
              "  925,\n",
              "  926,\n",
              "  927,\n",
              "  928,\n",
              "  929,\n",
              "  930,\n",
              "  931,\n",
              "  932],\n",
              " 'GBR': [0,\n",
              "  1,\n",
              "  2,\n",
              "  3,\n",
              "  4,\n",
              "  5,\n",
              "  6,\n",
              "  7,\n",
              "  8,\n",
              "  9,\n",
              "  10,\n",
              "  11,\n",
              "  12,\n",
              "  13,\n",
              "  14,\n",
              "  15,\n",
              "  16,\n",
              "  17,\n",
              "  18,\n",
              "  19,\n",
              "  20,\n",
              "  21,\n",
              "  22,\n",
              "  23,\n",
              "  24,\n",
              "  25,\n",
              "  26,\n",
              "  27,\n",
              "  28,\n",
              "  29,\n",
              "  30,\n",
              "  31,\n",
              "  32,\n",
              "  33,\n",
              "  34,\n",
              "  35,\n",
              "  36,\n",
              "  37,\n",
              "  38,\n",
              "  39,\n",
              "  40,\n",
              "  41,\n",
              "  42,\n",
              "  43,\n",
              "  44,\n",
              "  45,\n",
              "  46,\n",
              "  47,\n",
              "  48,\n",
              "  49,\n",
              "  50,\n",
              "  51,\n",
              "  52,\n",
              "  53,\n",
              "  54,\n",
              "  72,\n",
              "  73,\n",
              "  74,\n",
              "  75,\n",
              "  76,\n",
              "  77,\n",
              "  78,\n",
              "  79,\n",
              "  80,\n",
              "  81,\n",
              "  82,\n",
              "  83,\n",
              "  84,\n",
              "  85,\n",
              "  86,\n",
              "  87,\n",
              "  88,\n",
              "  89,\n",
              "  90,\n",
              "  91,\n",
              "  92,\n",
              "  93,\n",
              "  94,\n",
              "  95,\n",
              "  96,\n",
              "  97,\n",
              "  98,\n",
              "  99,\n",
              "  100,\n",
              "  101,\n",
              "  102,\n",
              "  432,\n",
              "  614,\n",
              "  615,\n",
              "  616,\n",
              "  837],\n",
              " 'BEB': [1144,\n",
              "  1145,\n",
              "  1146,\n",
              "  1147,\n",
              "  1346,\n",
              "  1347,\n",
              "  1348,\n",
              "  1349,\n",
              "  1350,\n",
              "  1351,\n",
              "  1352,\n",
              "  1353,\n",
              "  1354,\n",
              "  1355,\n",
              "  1356,\n",
              "  1357,\n",
              "  1358,\n",
              "  1457,\n",
              "  1458,\n",
              "  1459,\n",
              "  1460,\n",
              "  1461,\n",
              "  1462,\n",
              "  1463,\n",
              "  1464,\n",
              "  1465,\n",
              "  1466,\n",
              "  1467,\n",
              "  1468,\n",
              "  1469,\n",
              "  1470,\n",
              "  1471,\n",
              "  1472,\n",
              "  1473,\n",
              "  1474,\n",
              "  1475,\n",
              "  1476,\n",
              "  1518,\n",
              "  1519,\n",
              "  1520,\n",
              "  1521,\n",
              "  1522,\n",
              "  1523,\n",
              "  1524,\n",
              "  1525,\n",
              "  1526,\n",
              "  1527,\n",
              "  1528,\n",
              "  1529,\n",
              "  1530,\n",
              "  1531,\n",
              "  1532,\n",
              "  1533,\n",
              "  1534,\n",
              "  1535,\n",
              "  1536,\n",
              "  1537,\n",
              "  1538,\n",
              "  1610,\n",
              "  1611,\n",
              "  1612,\n",
              "  1613,\n",
              "  1614,\n",
              "  1615,\n",
              "  1616,\n",
              "  1617,\n",
              "  1618,\n",
              "  1619,\n",
              "  1620,\n",
              "  1621,\n",
              "  1622,\n",
              "  1623,\n",
              "  1624,\n",
              "  1625,\n",
              "  1626,\n",
              "  1627,\n",
              "  1628,\n",
              "  1629,\n",
              "  1630,\n",
              "  1631,\n",
              "  1632,\n",
              "  1633,\n",
              "  1634,\n",
              "  1635,\n",
              "  1636,\n",
              "  1637],\n",
              " 'MSL': [1164,\n",
              "  1165,\n",
              "  1166,\n",
              "  1167,\n",
              "  1168,\n",
              "  1169,\n",
              "  1170,\n",
              "  1171,\n",
              "  1172,\n",
              "  1173,\n",
              "  1174,\n",
              "  1175,\n",
              "  1176,\n",
              "  1177,\n",
              "  1178,\n",
              "  1179,\n",
              "  1180,\n",
              "  1181,\n",
              "  1182,\n",
              "  1183,\n",
              "  1184,\n",
              "  1185,\n",
              "  1186,\n",
              "  1187,\n",
              "  1188,\n",
              "  1189,\n",
              "  1190,\n",
              "  1234,\n",
              "  1235,\n",
              "  1236,\n",
              "  1237,\n",
              "  1279,\n",
              "  1280,\n",
              "  1281,\n",
              "  1282,\n",
              "  1283,\n",
              "  1284,\n",
              "  1285,\n",
              "  1286,\n",
              "  1287,\n",
              "  1288,\n",
              "  1289,\n",
              "  1290,\n",
              "  1291,\n",
              "  1292,\n",
              "  1293,\n",
              "  1294,\n",
              "  1295,\n",
              "  1296,\n",
              "  1297,\n",
              "  1298,\n",
              "  1299,\n",
              "  1300,\n",
              "  1301,\n",
              "  1302,\n",
              "  1303,\n",
              "  1304,\n",
              "  1305,\n",
              "  1306,\n",
              "  1307,\n",
              "  1308,\n",
              "  1309,\n",
              "  1310,\n",
              "  1311,\n",
              "  1312,\n",
              "  1313,\n",
              "  1314,\n",
              "  1315,\n",
              "  1316,\n",
              "  1317,\n",
              "  1331,\n",
              "  1332,\n",
              "  1333,\n",
              "  1334,\n",
              "  1335,\n",
              "  1336,\n",
              "  1337,\n",
              "  1338,\n",
              "  1339,\n",
              "  1340,\n",
              "  1341,\n",
              "  1342,\n",
              "  1343,\n",
              "  1344,\n",
              "  1345],\n",
              " 'PEL': [528,\n",
              "  529,\n",
              "  530,\n",
              "  531,\n",
              "  532,\n",
              "  533,\n",
              "  681,\n",
              "  682,\n",
              "  688,\n",
              "  689,\n",
              "  690,\n",
              "  691,\n",
              "  692,\n",
              "  693,\n",
              "  694,\n",
              "  695,\n",
              "  696,\n",
              "  697,\n",
              "  698,\n",
              "  699,\n",
              "  700,\n",
              "  701,\n",
              "  702,\n",
              "  703,\n",
              "  704,\n",
              "  705,\n",
              "  706,\n",
              "  707,\n",
              "  708,\n",
              "  709,\n",
              "  710,\n",
              "  711,\n",
              "  714,\n",
              "  715,\n",
              "  716,\n",
              "  717,\n",
              "  718,\n",
              "  719,\n",
              "  720,\n",
              "  721,\n",
              "  722,\n",
              "  723,\n",
              "  724,\n",
              "  725,\n",
              "  726,\n",
              "  732,\n",
              "  733,\n",
              "  734,\n",
              "  735,\n",
              "  736,\n",
              "  737,\n",
              "  738,\n",
              "  786,\n",
              "  787,\n",
              "  789,\n",
              "  790,\n",
              "  791,\n",
              "  814,\n",
              "  815,\n",
              "  816,\n",
              "  852,\n",
              "  853,\n",
              "  856,\n",
              "  857,\n",
              "  858,\n",
              "  859,\n",
              "  860,\n",
              "  861,\n",
              "  862,\n",
              "  863,\n",
              "  864,\n",
              "  865,\n",
              "  866,\n",
              "  871,\n",
              "  872,\n",
              "  873,\n",
              "  874,\n",
              "  875,\n",
              "  876,\n",
              "  877,\n",
              "  878,\n",
              "  882,\n",
              "  896,\n",
              "  897,\n",
              "  935],\n",
              " 'MXL': [2170,\n",
              "  2171,\n",
              "  2172,\n",
              "  2173,\n",
              "  2174,\n",
              "  2175,\n",
              "  2176,\n",
              "  2177,\n",
              "  2178,\n",
              "  2179,\n",
              "  2180,\n",
              "  2181,\n",
              "  2182,\n",
              "  2183,\n",
              "  2184,\n",
              "  2185,\n",
              "  2186,\n",
              "  2187,\n",
              "  2188,\n",
              "  2197,\n",
              "  2198,\n",
              "  2199,\n",
              "  2200,\n",
              "  2201,\n",
              "  2202,\n",
              "  2203,\n",
              "  2204,\n",
              "  2205,\n",
              "  2206,\n",
              "  2207,\n",
              "  2208,\n",
              "  2209,\n",
              "  2210,\n",
              "  2211,\n",
              "  2212,\n",
              "  2213,\n",
              "  2214,\n",
              "  2215,\n",
              "  2216,\n",
              "  2217,\n",
              "  2218,\n",
              "  2219,\n",
              "  2220,\n",
              "  2221,\n",
              "  2222,\n",
              "  2223,\n",
              "  2224,\n",
              "  2225,\n",
              "  2226,\n",
              "  2227,\n",
              "  2228,\n",
              "  2229,\n",
              "  2230,\n",
              "  2231,\n",
              "  2232,\n",
              "  2233,\n",
              "  2234,\n",
              "  2235,\n",
              "  2236,\n",
              "  2237,\n",
              "  2238,\n",
              "  2239,\n",
              "  2240,\n",
              "  2241],\n",
              " 'ASW': [2169,\n",
              "  2189,\n",
              "  2190,\n",
              "  2191,\n",
              "  2192,\n",
              "  2193,\n",
              "  2194,\n",
              "  2195,\n",
              "  2196,\n",
              "  2242,\n",
              "  2243,\n",
              "  2244,\n",
              "  2245,\n",
              "  2246,\n",
              "  2247,\n",
              "  2248,\n",
              "  2249,\n",
              "  2250,\n",
              "  2251,\n",
              "  2252,\n",
              "  2253,\n",
              "  2254,\n",
              "  2255,\n",
              "  2256,\n",
              "  2257,\n",
              "  2258,\n",
              "  2259,\n",
              "  2260,\n",
              "  2261,\n",
              "  2262,\n",
              "  2263,\n",
              "  2264,\n",
              "  2265,\n",
              "  2266,\n",
              "  2267,\n",
              "  2268,\n",
              "  2269,\n",
              "  2270,\n",
              "  2271,\n",
              "  2272,\n",
              "  2273,\n",
              "  2274,\n",
              "  2275,\n",
              "  2276,\n",
              "  2277,\n",
              "  2278,\n",
              "  2279,\n",
              "  2280,\n",
              "  2281,\n",
              "  2282,\n",
              "  2283,\n",
              "  2284,\n",
              "  2285,\n",
              "  2286,\n",
              "  2287,\n",
              "  2288,\n",
              "  2289,\n",
              "  2290,\n",
              "  2291,\n",
              "  2292,\n",
              "  2293]}"
            ]
          },
          "metadata": {
            "tags": []
          },
          "execution_count": 55
        }
      ]
    },
    {
      "cell_type": "markdown",
      "metadata": {
        "id": "Y2NzgXayFHi5",
        "colab_type": "text"
      },
      "source": [
        "We'll now extract genotypes within the stric mask so that we can compute Hardy-Weinberg properties within each population. The following step takes a few minutes"
      ]
    },
    {
      "cell_type": "code",
      "metadata": {
        "id": "upkeQpe3FHi6",
        "colab_type": "code",
        "colab": {}
      },
      "source": [
        "### 55\n",
        "strict_genotypes = genotypes_biallelic.compress(is_common).compress(in_mask)\n",
        "strict_genotypes_012 = genotypes_012.compress(is_common).compress(in_mask)\n",
        "ac_subpops = strict_genotypes.count_alleles_subpops(subpops, max_allele=1)"
      ],
      "execution_count": 0,
      "outputs": []
    },
    {
      "cell_type": "markdown",
      "metadata": {
        "id": "TsFtkgzgFHi9",
        "colab_type": "text"
      },
      "source": [
        "The next step is a bit of a hack. I wanted to use the .count_alleles_subpops function to count the number of homozygotes and heterozygotes within each sub-population. This was not supported, so I cheat by pretending that the genotypes 0,1, and 2 are actually three different alleles in a haploid individual. "
      ]
    },
    {
      "cell_type": "code",
      "metadata": {
        "id": "RqwO-dzqFHi_",
        "colab_type": "code",
        "colab": {}
      },
      "source": [
        "### 56\n",
        "genotype_012_as_triallelic_haploid = allel.GenotypeArray(strict_genotypes_012[:].reshape(\n",
        "    [strict_genotypes_012.shape[0], strict_genotypes_012.shape[1], 1]))"
      ],
      "execution_count": 0,
      "outputs": []
    },
    {
      "cell_type": "code",
      "metadata": {
        "id": "w1SMbsrOFHjB",
        "colab_type": "code",
        "colab": {}
      },
      "source": [
        "### 57\n",
        "observed_counts = genotype_012_as_triallelic_haploid.count_alleles_subpops(subpops, max_allele=2)"
      ],
      "execution_count": 0,
      "outputs": []
    },
    {
      "cell_type": "markdown",
      "metadata": {
        "id": "td3PcARYFHjE",
        "colab_type": "text"
      },
      "source": [
        "Expected heterozygosity within a population"
      ]
    },
    {
      "cell_type": "code",
      "metadata": {
        "id": "2PasanKuFHjF",
        "colab_type": "code",
        "colab": {},
        "outputId": "416fd963-f802-491d-e8d3-6322edca943e"
      },
      "source": [
        "### 58\n",
        "\n",
        "for i,pop in enumerate(populations):\n",
        "    #to reduce the plotting burden, don't plot unless freqency is above 5%\n",
        "    \n",
        "    freq = ac_subpops[pop][:,1]/ac_subpops[pop].sum(axis = 1)\n",
        "    iscommon = np.logical_and((freq>0.05), (freq<0.95))\n",
        "    freq_common = freq.compress(iscommon)\n",
        "    counts = observed_counts[pop].compress(iscommon)\n",
        "    tot_counts = counts.sum(axis = 1)\n",
        "    \n",
        "    \n",
        "    \n",
        "    plt.plot(freq_common, counts[:,0]/ tot_counts, 'x', \n",
        "             color = 'r', markersize = 0.5 )\n",
        "    plt.plot(freq_common[:], counts[:,1]/ tot_counts[:], 'x', \n",
        "             color = 'orange', markersize = 0.5)\n",
        "    plt.plot(freq_common, counts[:,2]/ tot_counts,'x', \n",
        "             color = 'b', markersize = 0.5 )\n",
        "    plt.ylim([0,1])\n",
        "    plt.xlabel(\"alternate allele frequency\")\n",
        "    plt.ylabel(\"proportion of genotypes\")\n",
        "    \n",
        "    ####\n",
        "    # Now plot the theory values\n",
        "\n",
        "x_range = np.arange(0,1,.01) # A list of sorted values to help in plotting\n",
        "\n",
        "plt.plot(x_range, proportion_hom_ref(x_range), 'r', \n",
        "         label = \"homozygote reference\" ) \n",
        "plt.plot(x_range,  proportion_het(x_range),  color = 'orange', label = \"heterozygote\" ) \n",
        "plt.plot(x_range,  proportion_hom_alt(x_range), 'b',label = \"homozygote alternate\" ) \n",
        "plt.legend(loc = \"upper center\")"
      ],
      "execution_count": 0,
      "outputs": [
        {
          "output_type": "execute_result",
          "data": {
            "text/plain": [
              "<matplotlib.legend.Legend at 0x1c5d1a9d10>"
            ]
          },
          "metadata": {
            "tags": []
          },
          "execution_count": 59
        },
        {
          "output_type": "display_data",
          "data": {
            "image/png": "[encoded data removed]",
            "text/plain": [
              "<Figure size 432x288 with 1 Axes>"
            ]
          },
          "metadata": {
            "tags": [],
            "needs_background": "light"
          }
        }
      ]
    },
    {
      "cell_type": "markdown",
      "metadata": {
        "id": "2jmCX81VFHjI",
        "colab_type": "text"
      },
      "source": [
        "Compute the heterozygosity vs expectations within each population."
      ]
    },
    {
      "cell_type": "code",
      "metadata": {
        "id": "aGTgDWXzFHjJ",
        "colab_type": "code",
        "colab": {}
      },
      "source": [
        "### 59\n",
        "het_expectations = {}\n",
        "excess_hets = {}\n",
        "excess_hets_ratio = {}\n",
        "het_count_cutoff = 0\n",
        "for population in populations:\n",
        "    allele_counts_subpop = ac_subpops[population]\n",
        "    number_of_genotypes_subpop = observed_counts[population].sum(axis=1)\n",
        "    het_expectation = allele_counts_subpop[:,0] * allele_counts_subpop[:,1] / (2.*np.array(\n",
        "        number_of_genotypes_subpop)) \n",
        "    filter_expectations = het_expectation > het_count_cutoff\n",
        "\n",
        "    het_expectations[population] = np.compress(filter_expectations, het_expectation)\n",
        "    excess_hets[population] = np.compress(filter_expectations, observed_counts[population][:,1]-het_expectation)\n",
        "    excess_hets_ratio[population] = np.compress(filter_expectations, observed_counts[population][:,1]) \\\n",
        "                                /np.compress(filter_expectations, het_expectation)"
      ],
      "execution_count": 0,
      "outputs": []
    },
    {
      "cell_type": "code",
      "metadata": {
        "id": "GPZaTxjtFHjL",
        "colab_type": "code",
        "colab": {},
        "outputId": "b06919a3-b013-4128-ce2c-bba87b67789a"
      },
      "source": [
        "### 60\n",
        "plt.boxplot([list(excess_hets[pop])[:] for pop in populations], showmeans = True);\n",
        "plt.plot([0,len(populations)],[0,0],'k--')\n",
        "plt.xticks(np.arange(len(populations))+1.2,populations, rotation=90);\n",
        "plt.xlabel(\"population\")\n",
        "plt.ylabel(\"excess hets (absolute difference)\")\n",
        "plt.ylim([-5,5])"
      ],
      "execution_count": 0,
      "outputs": [
        {
          "output_type": "execute_result",
          "data": {
            "text/plain": [
              "(-5, 5)"
            ]
          },
          "metadata": {
            "tags": []
          },
          "execution_count": 61
        },
        {
          "output_type": "display_data",
          "data": {
            "image/png": "[encoded data removed]",
            "text/plain": [
              "<Figure size 432x288 with 1 Axes>"
            ]
          },
          "metadata": {
            "tags": [],
            "needs_background": "light"
          }
        }
      ]
    },
    {
      "cell_type": "markdown",
      "metadata": {
        "id": "n9C9mfusFHjP",
        "colab_type": "text"
      },
      "source": [
        "The overall counts of heterozygotes vs the number predicted by Hardy-Weinberg. We have a bit too many observed heterozygotes. I'm not sure why. "
      ]
    },
    {
      "cell_type": "code",
      "metadata": {
        "id": "fQdDyBZIFHjQ",
        "colab_type": "code",
        "colab": {},
        "outputId": "f61a80fb-9d95-4ca9-d1f4-ab9c0977072d"
      },
      "source": [
        "### 61\n",
        "print(\"expected\", np.sum([het_expectations[pop][:].sum() for pop in populations]))\n",
        "print(\"observed\", np.sum([excess_hets[pop].sum() + het_expectations[pop][:].sum()for pop in populations]))"
      ],
      "execution_count": 0,
      "outputs": [
        {
          "output_type": "stream",
          "text": [
            "expected 45729602.48760315\n",
            "observed 45751994.0\n"
          ],
          "name": "stdout"
        }
      ]
    },
    {
      "cell_type": "code",
      "metadata": {
        "id": "eQL3dLcXFHjS",
        "colab_type": "code",
        "colab": {},
        "outputId": "581cf6a6-eb8f-4d45-b2d1-013fe84f3acf"
      },
      "source": [
        "### 62\n",
        "plt.boxplot([list(excess_hets_ratio[pop])[:] for pop in populations], showmeans = True);\n",
        "plt.plot([0,len(populations)],[1,1],'k--')\n",
        "plt.xticks(np.arange(len(populations))+1.2,populations, rotation=90);\n",
        "plt.xlabel(\"population\")\n",
        "plt.ylabel(\"excess hets ratio\")"
      ],
      "execution_count": 0,
      "outputs": [
        {
          "output_type": "execute_result",
          "data": {
            "text/plain": [
              "Text(0, 0.5, 'excess hets ratio')"
            ]
          },
          "metadata": {
            "tags": []
          },
          "execution_count": 63
        },
        {
          "output_type": "display_data",
          "data": {
            "image/png": "[encoded data removed]",
            "text/plain": [
              "<Figure size 432x288 with 1 Axes>"
            ]
          },
          "metadata": {
            "tags": [],
            "needs_background": "light"
          }
        }
      ]
    },
    {
      "cell_type": "markdown",
      "metadata": {
        "id": "UNDNmo8RFHjU",
        "colab_type": "text"
      },
      "source": [
        "Finally, we compute the excess heterozygosity per individual rather than per per SNP."
      ]
    },
    {
      "cell_type": "code",
      "metadata": {
        "id": "IJjrD5yaFHjV",
        "colab_type": "code",
        "colab": {}
      },
      "source": [
        "### 63\n",
        "het_per_sample = (genotype_012_as_triallelic_haploid==1).sum(axis = 0)"
      ],
      "execution_count": 0,
      "outputs": []
    },
    {
      "cell_type": "markdown",
      "metadata": {
        "id": "7OBHC5_vFHjW",
        "colab_type": "text"
      },
      "source": [
        "For each population, compute the expected heterozygosity per individual (this is the same for all individuals in the population)"
      ]
    },
    {
      "cell_type": "code",
      "metadata": {
        "id": "dsMiOoCMFHjW",
        "colab_type": "code",
        "colab": {}
      },
      "source": [
        "### 64\n",
        "het_per_sample\n",
        "excess_het_per_sample_per_pop = {} \n",
        "total_observed_hets = 0\n",
        "total_expected_hets = 0\n",
        "for pop in populations:\n",
        "    expected_hets = het_expectations[pop].sum()/samples['pop'].value_counts()[pop]\n",
        "    observed_hets = het_per_sample[subpops[pop]]\n",
        "    excess_het_per_sample_per_pop[pop] = observed_hets - expected_hets\n",
        "    total_observed_hets += np.sum(het_per_sample[subpops[pop]])\n",
        "    total_expected_hets += het_expectations[pop].sum()"
      ],
      "execution_count": 0,
      "outputs": []
    },
    {
      "cell_type": "code",
      "metadata": {
        "id": "KWjMJuWqFHjY",
        "colab_type": "code",
        "colab": {},
        "outputId": "f6cd7db6-d13a-45ff-e986-c22f92f204c2"
      },
      "source": [
        "### 65\n",
        "_=plt.boxplot([excess_het_per_sample_per_pop[pop].reshape([samples['pop'].value_counts()[pop]]) \n",
        "             for pop in populations],showmeans = True)\n",
        "plt.xticks(np.arange(len(populations))+1.2,populations, rotation=90);\n",
        "plt.plot([0,len(populations)],[0,0],'k--')\n",
        "\n",
        "plt.xlabel(\"population\")\n",
        "plt.ylabel(\"excess hets\")\n",
        "plt.title(\"distribution of excess hets per individual\")\n"
      ],
      "execution_count": 0,
      "outputs": [
        {
          "output_type": "execute_result",
          "data": {
            "text/plain": [
              "Text(0.5, 1.0, 'distribution of excess hets per individual')"
            ]
          },
          "metadata": {
            "tags": []
          },
          "execution_count": 66
        },
        {
          "output_type": "display_data",
          "data": {
            "image/png": "[encoded data removed]",
            "text/plain": [
              "<Figure size 432x288 with 1 Axes>"
            ]
          },
          "metadata": {
            "tags": [],
            "needs_background": "light"
          }
        }
      ]
    },
    {
      "cell_type": "markdown",
      "metadata": {
        "id": "zu4FUs-RFHjZ",
        "colab_type": "text"
      },
      "source": [
        "By contrast to the full population case, there doesn't appear to be a strong excess of heterozygotes once populations have been split."
      ]
    },
    {
      "cell_type": "markdown",
      "metadata": {
        "id": "KH8SkimjFHja",
        "colab_type": "text"
      },
      "source": [
        "When we considered the entire population, there was clearly an excess of homozygotes, but here it's more subtle. The Q-Q plots should also look better:"
      ]
    },
    {
      "cell_type": "markdown",
      "metadata": {
        "id": "a3njKSxYFHja",
        "colab_type": "text"
      },
      "source": [
        "Here's a few questions to think about: \n",
        "\n",
        "* Are the 25 populations in the 1000 Genomes project truly \"populations\"? I.e., are they in Hardy-weinberg equilibrium?\n",
        "\n",
        "* The code we wrote is not very efficient--we were only able to analyze a tiny subset of one genome. How would you make it more efficient? It doesn't need to be a fancy programming trick. Try it out. \n",
        "\n",
        "* There are still regions that fail the HW test. What do you think is going on there? How would you go about figuring it out?"
      ]
    },
    {
      "cell_type": "markdown",
      "metadata": {
        "id": "3EMeFZxZFHjb",
        "colab_type": "text"
      },
      "source": [
        "# Transitions and transversions\n",
        "\n",
        "Elevated Hardy-Weiberg disequilibrium for some variants can be an indicator of poor quality of the sequencing data. Here we discuss another measure of variant quality: the ratio of trnasitions to transversions. This should have been discussed in class -- otherwise, you can read explanations from [this scikit tutorial](http://alimanfoo.github.io/2016/06/10/scikit-allel-tour.html), which I used extensively in preparing these notes. \n",
        "\n",
        "\n"
      ]
    },
    {
      "cell_type": "markdown",
      "metadata": {
        "id": "8zEzoC9rFHjb",
        "colab_type": "text"
      },
      "source": [
        "We can only compute transitions/transversions for biallelic sites, so we first restrict to biallelic:"
      ]
    },
    {
      "cell_type": "code",
      "metadata": {
        "id": "W5LowOj3FHjc",
        "colab_type": "code",
        "colab": {},
        "outputId": "8747f062-b73d-4a7b-add7-d96077389bd0"
      },
      "source": [
        "### 66\n",
        "refs = np.array(callset['variants']['REF']).compress(is_biallelic, axis=0).astype(str)\n",
        "alts = np.array(callset['variants']['ALT'])[:,0].compress(is_biallelic, axis=0).astype(str)\n",
        "mutations = np.char.add(refs, alts)\n",
        "mutations"
      ],
      "execution_count": 0,
      "outputs": [
        {
          "output_type": "execute_result",
          "data": {
            "text/plain": [
              "array(['AG', 'GA', 'CT', ..., 'AG', 'CT', 'CT'], dtype='<U511')"
            ]
          },
          "metadata": {
            "tags": []
          },
          "execution_count": 67
        }
      ]
    },
    {
      "cell_type": "code",
      "metadata": {
        "id": "Bj5sdJKGFHje",
        "colab_type": "code",
        "colab": {},
        "outputId": "ef562d30-b7e0-4149-8792-9917066bdc85"
      },
      "source": [
        "### 67\n",
        "# This function is modified from http://alimanfoo.github.io/2016/06/10/scikit-allel-tour.html\n",
        "#\n",
        "def locate_transitions(x):\n",
        "    x = np.asarray(x)\n",
        "    return np.logical_or.reduce(((x == 'AG'), (x == 'GA') , (x == 'CT') , (x == 'TC')))\n",
        "is_ti = locate_transitions(mutations)\n",
        "is_ti"
      ],
      "execution_count": 0,
      "outputs": [
        {
          "output_type": "execute_result",
          "data": {
            "text/plain": [
              "array([ True,  True,  True, ...,  True,  True,  True])"
            ]
          },
          "metadata": {
            "tags": []
          },
          "execution_count": 68
        }
      ]
    },
    {
      "cell_type": "markdown",
      "metadata": {
        "id": "Q5OtaTI7FHjg",
        "colab_type": "text"
      },
      "source": [
        "We can now define a function that takes the vector of mutations and computes the proportion of transitions to transversions:"
      ]
    },
    {
      "cell_type": "code",
      "metadata": {
        "id": "Lncw01N2FHjg",
        "colab_type": "code",
        "colab": {}
      },
      "source": [
        "### 68\n",
        "# This function is copied from http://alimanfoo.github.io/2016/06/10/scikit-allel-tour.html\n",
        "\n",
        "def ti_tv(x):\n",
        "    if len(x) == 0:\n",
        "        return np.nan\n",
        "    is_ti = locate_transitions(x)\n",
        "    n_ti = np.count_nonzero(is_ti)\n",
        "    n_tv = np.count_nonzero(~is_ti)\n",
        "    if n_tv > 0:\n",
        "        return n_ti / n_tv\n",
        "    else:\n",
        "        return np.nan"
      ],
      "execution_count": 0,
      "outputs": []
    },
    {
      "cell_type": "code",
      "metadata": {
        "id": "1yKPlZCbFHji",
        "colab_type": "code",
        "colab": {},
        "outputId": "71d863cc-677e-40ff-f5d0-2c9a395569e3"
      },
      "source": [
        "### 69\n",
        "print(\"ti_tv for all mutations\", ti_tv(mutations))"
      ],
      "execution_count": 0,
      "outputs": [
        {
          "output_type": "stream",
          "text": [
            "ti_tv for all mutations 2.1271147651659486\n"
          ],
          "name": "stdout"
        }
      ]
    },
    {
      "cell_type": "code",
      "metadata": {
        "id": "Z2vwUIirFHjk",
        "colab_type": "code",
        "colab": {},
        "outputId": "17919bf2-1b0d-4c30-8a25-36d8b3c38c58"
      },
      "source": [
        "### 70\n",
        "common_mutations = mutations.compress(is_common)\n",
        "print(\"ti_tv for all mutations\", ti_tv(common_mutations))"
      ],
      "execution_count": 0,
      "outputs": [
        {
          "output_type": "stream",
          "text": [
            "ti_tv for all mutations 1.6545823532124901\n"
          ],
          "name": "stdout"
        }
      ]
    },
    {
      "cell_type": "code",
      "metadata": {
        "id": "K4hlW83lFHjm",
        "colab_type": "code",
        "colab": {},
        "outputId": "cbaf5e31-a61b-4ffd-bcc1-361e8d4f1b8d"
      },
      "source": [
        "### 71\n",
        "strict_mutations = common_mutations.compress(in_mask)\n",
        "print(\"ti_tv for all mutations\", ti_tv(strict_mutations))"
      ],
      "execution_count": 0,
      "outputs": [
        {
          "output_type": "stream",
          "text": [
            "ti_tv for all mutations 1.9614309426050494\n"
          ],
          "name": "stdout"
        }
      ]
    },
    {
      "cell_type": "code",
      "metadata": {
        "id": "jYTu5xA_FHjo",
        "colab_type": "code",
        "colab": {},
        "outputId": "e3b07980-4ba6-4ace-e1dc-697a2d5c392c"
      },
      "source": [
        "### 72\n",
        "ti_tv(strict_mutations)"
      ],
      "execution_count": 0,
      "outputs": [
        {
          "output_type": "execute_result",
          "data": {
            "text/plain": [
              "1.9614309426050494"
            ]
          },
          "metadata": {
            "tags": []
          },
          "execution_count": 73
        }
      ]
    },
    {
      "cell_type": "code",
      "metadata": {
        "id": "S17nStznFHjq",
        "colab_type": "code",
        "colab": {},
        "outputId": "e2b85005-4136-42ef-c737-89b5ca2fa987"
      },
      "source": [
        "### 73\n",
        "rare_mutations = mutations.compress(1-is_common)\n",
        "print(\"ti_tv for rare mutations\", ti_tv(rare_mutations))"
      ],
      "execution_count": 0,
      "outputs": [
        {
          "output_type": "stream",
          "text": [
            "ti_tv for rare mutations 2.194030776867709\n"
          ],
          "name": "stdout"
        }
      ]
    },
    {
      "cell_type": "markdown",
      "metadata": {
        "id": "U8vRzKvXFHjs",
        "colab_type": "text"
      },
      "source": [
        "As expected, restricting the analysis to the strict mask increases the ti/tv ratio. This is consistent with the much higher rate of false positives in the low-quality regions. \n",
        "\n",
        "By contrast, the lower rate of transitions among common mutations was a surprise to me.  "
      ]
    },
    {
      "cell_type": "markdown",
      "metadata": {
        "id": "1_fCQXrqFHjs",
        "colab_type": "text"
      },
      "source": [
        "© Simon Gravel, McGill University. "
      ]
    }
  ]
}